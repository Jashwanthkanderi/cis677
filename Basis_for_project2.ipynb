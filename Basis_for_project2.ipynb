{
  "nbformat": 4,
  "nbformat_minor": 0,
  "metadata": {
    "colab": {
      "provenance": [],
      "authorship_tag": "ABX9TyNSzyEcB6rpuyjzxC+ffdf4",
      "include_colab_link": true
    },
    "kernelspec": {
      "name": "python3",
      "display_name": "Python 3"
    },
    "language_info": {
      "name": "python"
    }
  },
  "cells": [
    {
      "cell_type": "markdown",
      "metadata": {
        "id": "view-in-github",
        "colab_type": "text"
      },
      "source": [
        "<a href=\"https://colab.research.google.com/github/trefftzc/cis677/blob/main/Basis_for_project2.ipynb\" target=\"_parent\"><img src=\"https://colab.research.google.com/assets/colab-badge.svg\" alt=\"Open In Colab\"/></a>"
      ]
    },
    {
      "cell_type": "markdown",
      "source": [
        "## A skeleton for the second programming project\n",
        "\n",
        "The purpose of this project is to give you the chance to observe how using numba\n",
        "will accelerate the execution of a regular python program.\n",
        "\n",
        "The acceleration is the result of two different factors:\n",
        "1. The use of compiled code\n",
        "2. The use of the prange directive to accelerate the execution of a loop by dividing the iterations of a for statement across several threads of execution.\n",
        "\n",
        "Unfortunately, the machines that Google makes available through COLAB do not have many cores, so the second step does not result in a noticeable acceleration on COLAB. If you are curious, you can replicate the experiments on your EOS account or on your own computer and you should observe better speedups.\n",
        "\n",
        "You are provided two exact copies of the same sequential code.\n",
        "\n",
        "Leave the first copy as it is, so that you can compare the execution times.\n",
        "\n",
        "Follow the instructions below, to accelerate the second copy.\n",
        "\n",
        "We start by creating several different test files.\n"
      ],
      "metadata": {
        "id": "X9Z2xM_fOCJA"
      }
    },
    {
      "cell_type": "markdown",
      "source": [
        "## Test files"
      ],
      "metadata": {
        "id": "T5HZUzR_h36T"
      }
    },
    {
      "cell_type": "markdown",
      "source": [
        "A complete graph (all nodes are connected to all other nodes) with four nodes.\n",
        "The maximum independent set has size 1. It can be any node."
      ],
      "metadata": {
        "id": "LZK_5rPnhkOY"
      }
    },
    {
      "cell_type": "code",
      "execution_count": 40,
      "metadata": {
        "colab": {
          "base_uri": "https://localhost:8080/"
        },
        "id": "d98wHHd2NM6H",
        "outputId": "f4e9d176-fa0d-407f-9483-99648e63ed9a"
      },
      "outputs": [
        {
          "output_type": "stream",
          "name": "stdout",
          "text": [
            "Overwriting k4.txt\n"
          ]
        }
      ],
      "source": [
        "%%writefile k4.txt\n",
        "4\n",
        "0 1 1 1\n",
        "1 0 1 1\n",
        "1 1 0 1\n",
        "1 1 1 0"
      ]
    },
    {
      "cell_type": "markdown",
      "source": [
        "A graph with no edges and four nodes. The maximum independent set has four nodes $\\{0,1,2,3\\}$"
      ],
      "metadata": {
        "id": "FhFyRIFKhs1T"
      }
    },
    {
      "cell_type": "code",
      "source": [
        "%%writefile no_edges_4.txt\n",
        "4\n",
        "0 0 0 0\n",
        "0 0 0 0\n",
        "0 0 0 0\n",
        "0 0 0 0"
      ],
      "metadata": {
        "colab": {
          "base_uri": "https://localhost:8080/"
        },
        "id": "iXh4qu_eOJDG",
        "outputId": "37f87379-b68a-449b-8dfc-f64c1c0cd91c"
      },
      "execution_count": 41,
      "outputs": [
        {
          "output_type": "stream",
          "name": "stdout",
          "text": [
            "Overwriting no_edges_4.txt\n"
          ]
        }
      ]
    },
    {
      "cell_type": "markdown",
      "source": [
        "A complete graph with sixteen nodes. Again, the maximum independent set has size 1 and it can be any node."
      ],
      "metadata": {
        "id": "CeBfrwkAh6j7"
      }
    },
    {
      "cell_type": "code",
      "source": [
        "%%writefile k16.txt\n",
        "16\n",
        "0 1 1 1 1 1 1 1 1 1 1 1 1 1 1 1\n",
        "1 0 1 1 1 1 1 1 1 1 1 1 1 1 1 1\n",
        "1 1 0 1 1 1 1 1 1 1 1 1 1 1 1 1\n",
        "1 1 1 0 1 1 1 1 1 1 1 1 1 1 1 1\n",
        "1 1 1 1 0 1 1 1 1 1 1 1 1 1 1 1\n",
        "1 1 1 1 1 0 1 1 1 1 1 1 1 1 1 1\n",
        "1 1 1 1 1 1 0 1 1 1 1 1 1 1 1 1\n",
        "1 1 1 1 1 1 1 0 1 1 1 1 1 1 1 1\n",
        "1 1 1 1 1 1 1 1 0 1 1 1 1 1 1 1\n",
        "1 1 1 1 1 1 1 1 1 0 1 1 1 1 1 1\n",
        "1 1 1 1 1 1 1 1 1 1 0 1 1 1 1 1\n",
        "1 1 1 1 1 1 1 1 1 1 1 0 1 1 1 1\n",
        "1 1 1 1 1 1 1 1 1 1 1 1 0 1 1 1\n",
        "1 1 1 1 1 1 1 1 1 1 1 1 1 0 1 1\n",
        "1 1 1 1 1 1 1 1 1 1 1 1 1 1 0 1\n",
        "1 1 1 1 1 1 1 1 1 1 1 1 1 1 1 0"
      ],
      "metadata": {
        "colab": {
          "base_uri": "https://localhost:8080/"
        },
        "id": "6AlAvScQON-F",
        "outputId": "75888e63-4673-4b1d-b16f-ab0ca30db78e"
      },
      "execution_count": 42,
      "outputs": [
        {
          "output_type": "stream",
          "name": "stdout",
          "text": [
            "Overwriting k16.txt\n"
          ]
        }
      ]
    },
    {
      "cell_type": "markdown",
      "source": [
        "A complete graph with 20 nodes. Again, the maximum independent set has size 1 and it can be any node. Finding the maximum independent set for this graph will take more than five minutes with the pure python sequential version."
      ],
      "metadata": {
        "id": "QlCrtx1Wne9z"
      }
    },
    {
      "cell_type": "code",
      "source": [
        "%%writefile k20.txt\n",
        "20\n",
        "0 1 1 1 1 1 1 1 1 1 1 1 1 1 1 1 1 1 1 1\n",
        "1 0 1 1 1 1 1 1 1 1 1 1 1 1 1 1 1 1 1 1\n",
        "1 1 0 1 1 1 1 1 1 1 1 1 1 1 1 1 1 1 1 1\n",
        "1 1 1 0 1 1 1 1 1 1 1 1 1 1 1 1 1 1 1 1\n",
        "1 1 1 1 0 1 1 1 1 1 1 1 1 1 1 1 1 1 1 1\n",
        "1 1 1 1 1 0 1 1 1 1 1 1 1 1 1 1 1 1 1 1\n",
        "1 1 1 1 1 1 0 1 1 1 1 1 1 1 1 1 1 1 1 1\n",
        "1 1 1 1 1 1 1 0 1 1 1 1 1 1 1 1 1 1 1 1\n",
        "1 1 1 1 1 1 1 1 0 1 1 1 1 1 1 1 1 1 1 1\n",
        "1 1 1 1 1 1 1 1 1 0 1 1 1 1 1 1 1 1 1 1\n",
        "1 1 1 1 1 1 1 1 1 1 0 1 1 1 1 1 1 1 1 1\n",
        "1 1 1 1 1 1 1 1 1 1 1 0 1 1 1 1 1 1 1 1\n",
        "1 1 1 1 1 1 1 1 1 1 1 1 0 1 1 1 1 1 1 1\n",
        "1 1 1 1 1 1 1 1 1 1 1 1 1 0 1 1 1 1 1 1\n",
        "1 1 1 1 1 1 1 1 1 1 1 1 1 1 0 1 1 1 1 1\n",
        "1 1 1 1 1 1 1 1 1 1 1 1 1 1 1 0 1 1 1 1\n",
        "1 1 1 1 1 1 1 1 1 1 1 1 1 1 1 1 0 1 1 1\n",
        "1 1 1 1 1 1 1 1 1 1 1 1 1 1 1 1 1 0 1 1\n",
        "1 1 1 1 1 1 1 1 1 1 1 1 1 1 1 1 1 1 0 1\n",
        "1 1 1 1 1 1 1 1 1 1 1 1 1 1 1 1 1 1 1 0"
      ],
      "metadata": {
        "colab": {
          "base_uri": "https://localhost:8080/"
        },
        "id": "vpMlkc7QlN9k",
        "outputId": "7775bfc7-ae43-4343-b384-daf37dcab129"
      },
      "execution_count": 43,
      "outputs": [
        {
          "output_type": "stream",
          "name": "stdout",
          "text": [
            "Overwriting k20.txt\n"
          ]
        }
      ]
    },
    {
      "cell_type": "markdown",
      "source": [
        "A complete graph with 24 nodes. Again, the maximum independent set has size 1 and it can be any node. Finding the maximum independent set for this graph will take more than five minutes with the pure python sequential version."
      ],
      "metadata": {
        "id": "hcuTMbNHiDwb"
      }
    },
    {
      "cell_type": "code",
      "source": [
        "%%writefile k24.txt\n",
        "24\n",
        "0 1 1 1 1 1 1 1 1 1 1 1 1 1 1 1 1 1 1 1 1 1 1 1\n",
        "1 0 1 1 1 1 1 1 1 1 1 1 1 1 1 1 1 1 1 1 1 1 1 1\n",
        "1 1 0 1 1 1 1 1 1 1 1 1 1 1 1 1 1 1 1 1 1 1 1 1\n",
        "1 1 1 0 1 1 1 1 1 1 1 1 1 1 1 1 1 1 1 1 1 1 1 1\n",
        "1 1 1 1 0 1 1 1 1 1 1 1 1 1 1 1 1 1 1 1 1 1 1 1\n",
        "1 1 1 1 1 0 1 1 1 1 1 1 1 1 1 1 1 1 1 1 1 1 1 1\n",
        "1 1 1 1 1 1 0 1 1 1 1 1 1 1 1 1 1 1 1 1 1 1 1 1\n",
        "1 1 1 1 1 1 1 0 1 1 1 1 1 1 1 1 1 1 1 1 1 1 1 1\n",
        "1 1 1 1 1 1 1 1 0 1 1 1 1 1 1 1 1 1 1 1 1 1 1 1\n",
        "1 1 1 1 1 1 1 1 1 0 1 1 1 1 1 1 1 1 1 1 1 1 1 1\n",
        "1 1 1 1 1 1 1 1 1 1 0 1 1 1 1 1 1 1 1 1 1 1 1 1\n",
        "1 1 1 1 1 1 1 1 1 1 1 0 1 1 1 1 1 1 1 1 1 1 1 1\n",
        "1 1 1 1 1 1 1 1 1 1 1 1 0 1 1 1 1 1 1 1 1 1 1 1\n",
        "1 1 1 1 1 1 1 1 1 1 1 1 1 0 1 1 1 1 1 1 1 1 1 1\n",
        "1 1 1 1 1 1 1 1 1 1 1 1 1 1 0 1 1 1 1 1 1 1 1 1\n",
        "1 1 1 1 1 1 1 1 1 1 1 1 1 1 1 0 1 1 1 1 1 1 1 1\n",
        "1 1 1 1 1 1 1 1 1 1 1 1 1 1 1 1 0 1 1 1 1 1 1 1\n",
        "1 1 1 1 1 1 1 1 1 1 1 1 1 1 1 1 1 0 1 1 1 1 1 1\n",
        "1 1 1 1 1 1 1 1 1 1 1 1 1 1 1 1 1 1 0 1 1 1 1 1\n",
        "1 1 1 1 1 1 1 1 1 1 1 1 1 1 1 1 1 1 1 0 1 1 1 1\n",
        "1 1 1 1 1 1 1 1 1 1 1 1 1 1 1 1 1 1 1 1 0 1 1 1\n",
        "1 1 1 1 1 1 1 1 1 1 1 1 1 1 1 1 1 1 1 1 1 0 1 1\n",
        "1 1 1 1 1 1 1 1 1 1 1 1 1 1 1 1 1 1 1 1 1 1 0 1\n",
        "1 1 1 1 1 1 1 1 1 1 1 1 1 1 1 1 1 1 1 1 1 1 1 0"
      ],
      "metadata": {
        "colab": {
          "base_uri": "https://localhost:8080/"
        },
        "id": "5kBIuZD479wX",
        "outputId": "b65b991c-372c-455d-ba71-5bc52ba2acfe"
      },
      "execution_count": 44,
      "outputs": [
        {
          "output_type": "stream",
          "name": "stdout",
          "text": [
            "Overwriting k24.txt\n"
          ]
        }
      ]
    },
    {
      "cell_type": "markdown",
      "source": [
        "Do not modify this file. This is the sequential version that will be used for comparison purposes."
      ],
      "metadata": {
        "id": "4OGplY0biNlT"
      }
    },
    {
      "cell_type": "code",
      "source": [
        "%%writefile original_python.py\n",
        "import sys\n",
        "import time\n",
        "import numpy as np\n",
        "\n",
        "def read_adjacency_matrix(file_name):\n",
        "  file_object = open(file_name, \"r\")\n",
        "  # Input the number of rows and columns\n",
        "  size = int(file_object.readline())\n",
        "  rows = size\n",
        "  cols = size\n",
        "  # Initialize an empty matrix\n",
        "  matrix = []\n",
        "\n",
        "  # Input the matrix elements\n",
        "  for i in range(rows):\n",
        "    row = list(map(int, file_object.readline().split()))\n",
        "    matrix.append(row)\n",
        "  # Display the matrix\n",
        "  # print(\"The matrix contained in the file \",file_name,\" is: \")\n",
        "  # for row in matrix:\n",
        "  #  print(row)\n",
        "  return matrix,size\n",
        "\n",
        "# Convert an integer into a set of nodes\n",
        "def convert_from_int_to_set(integer,size):\n",
        "  set_of_nodes = []\n",
        "  mask = 1\n",
        "  for i in range(size):\n",
        "    if ((mask & integer) != 0):\n",
        "      set_of_nodes.append(i)\n",
        "    mask = mask * 2\n",
        "  return set_of_nodes\n",
        "\n",
        "# Find the maximum independent set\n",
        "def find_max_ind_set(adj_mat_numpy,size):\n",
        "  max_independent_set_size = 0\n",
        "  max_independent_set = []\n",
        "\n",
        "  size_of_power_set = 1\n",
        "  for i in range(size):\n",
        "    size_of_power_set *= 2\n",
        "  # print(\"The power set has \",size_of_power_set,\" elements\")\n",
        "  array_with_sizes = np.zeros(size_of_power_set)\n",
        "  for i in range(size_of_power_set):\n",
        "    this_set = convert_from_int_to_set(i,size)\n",
        "    is_independent = True\n",
        "  #  print(this_set)\n",
        "  # Your code goes here:\n",
        "  # For every pair of elements in this_set, check if there is an edge between them\n",
        "  # If there is an edge, this_set is not an independent set\n",
        "  # If there are none, this_set is an independent set.\n",
        "  # Compare its size with the largest independent set found so far\n",
        "  # and if it is larger, update the largest independent set and its size\n",
        "    for n1 in this_set:\n",
        "      for n2 in this_set:\n",
        "        if (adj_mat_numpy[n1][n2] == 1):\n",
        "          is_independent = False\n",
        "    if (is_independent):\n",
        "      array_with_sizes[i] = len(this_set)\n",
        "    else:\n",
        "      array_with_sizes[i] = 0\n",
        "\n",
        "\n",
        "  max_independent_set_size = np.max(array_with_sizes)\n",
        "  max_independent_set = np.where(array_with_sizes == max_independent_set_size)[0]\n",
        "  print(\"The max independent sets are encoded by: \",max_independent_set)\n",
        "  return max_independent_set_size\n",
        "\n",
        "\n",
        "\n",
        "if __name__ == \"__main__\":\n",
        "# Read the content of the file with the a passed in the command line\n",
        "# that contain the matrices to be multiplied\n",
        "  adj_matrix,size = read_adjacency_matrix(sys.argv[1])\n",
        "  adj_matrix_numpy = np.array(adj_matrix)\n",
        "  start_time = time.time()\n",
        "  max_independent_set_size = find_max_ind_set(adj_matrix_numpy,size)\n",
        "  end_time = time.time()\n",
        "  elapsed_time = end_time - start_time\n",
        "  print(\"Time required to carry out the computation in python: \",elapsed_time)\n",
        "  print(\"The size of the maximum independent set is: \",max_independent_set_size)"
      ],
      "metadata": {
        "colab": {
          "base_uri": "https://localhost:8080/"
        },
        "id": "xthMGI-dOcfu",
        "outputId": "04441b45-5c5d-4516-ef00-5cf8a4ec34c6"
      },
      "execution_count": 45,
      "outputs": [
        {
          "output_type": "stream",
          "name": "stdout",
          "text": [
            "Overwriting original_python.py\n"
          ]
        }
      ]
    },
    {
      "cell_type": "markdown",
      "source": [],
      "metadata": {
        "id": "Swzl_gDJoaU-"
      }
    },
    {
      "cell_type": "markdown",
      "source": [
        "The cell below contains the file that you will modify.\n",
        "\n",
        "Insert, just before the line\n",
        "\n",
        " def convert_from_int_to_set(integer,size):\n",
        "\n",
        " the following directive:\n",
        "\n",
        " @numba.jit(nopython=True)\n",
        "\n",
        " This directs numba to compile this function into binary code.\n",
        "\n",
        " Insert, just before the line\n",
        "  \n",
        "def find_max_ind_set(adj_mat_numpy,size):\n",
        "\n",
        "the following directive:\n",
        "\n",
        " @numba.jit(nopython=True,parallel=True)\n",
        "\n",
        " This, again, directs numba to compile this function into binary code.\n",
        "\n",
        " Replace the line\n",
        "  for i in range(size_of_power_set):\n",
        "\n",
        "  with\n",
        "   for i in prange(size_of_power_set):\n",
        "\n",
        "   This instructs the numba compiler to parallelize this for statement.\n",
        "   Several threads will be started to divide the execution of this for statement\n",
        "   across diferent cores in the microprocessor.\n",
        "\n",
        "   If you are curious you can perform the performance comparision on an EOS machine or on your personal computer. With more cores, you should see better improvements in execution time."
      ],
      "metadata": {
        "id": "zr2FraJ5iel0"
      }
    },
    {
      "cell_type": "code",
      "source": [
        "%%writefile with_numba.py\n",
        "import sys\n",
        "import time\n",
        "import numpy as np\n",
        "import numba\n",
        "\n",
        "def read_adjacency_matrix(file_name):\n",
        "  file_object = open(file_name, \"r\")\n",
        "  # Input the number of rows and columns\n",
        "  size = int(file_object.readline())\n",
        "  rows = size\n",
        "  cols = size\n",
        "  # Initialize an empty matrix\n",
        "  matrix = []\n",
        "\n",
        "  # Input the matrix elements\n",
        "  for i in range(rows):\n",
        "    row = list(map(int, file_object.readline().split()))\n",
        "    matrix.append(row)\n",
        "  # Display the matrix\n",
        "  # print(\"The matrix contained in the file \",file_name,\" is: \")\n",
        "  # for row in matrix:\n",
        "  #  print(row)\n",
        "  return matrix,size\n",
        "\n",
        "# Convert an integer into a set of nodes\n",
        "\n",
        "def convert_from_int_to_set(integer,size):\n",
        "  set_of_nodes = []\n",
        "  mask = 1\n",
        "  for i in range(size):\n",
        "    if ((mask & integer) != 0):\n",
        "      set_of_nodes.append(i)\n",
        "    mask = mask * 2\n",
        "  return set_of_nodes\n",
        "\n",
        "# Find the maximum independent set\n",
        "\n",
        "def find_max_ind_set(adj_mat_numpy,size):\n",
        "  max_independent_set_size = 0\n",
        "  max_independent_set = [0]\n",
        "\n",
        "  size_of_power_set = 1\n",
        "  for i in range(size):\n",
        "    size_of_power_set *= 2\n",
        "  # print(\"The power set has \",size_of_power_set,\" elements\")\n",
        "  array_with_sizes = np.zeros(size_of_power_set)\n",
        "  for i in range(size_of_power_set):\n",
        "    this_set = convert_from_int_to_set(i,size)\n",
        "    is_independent = True\n",
        "  #  print(this_set)\n",
        "  # Your code goes here:\n",
        "  # For every pair of elements in this_set, check if there is an edge between them\n",
        "  # If there is an edge, this_set is not an independent set\n",
        "  # If there are none, this_set is an independent set.\n",
        "  # Compare its size with the largest independent set found so far\n",
        "  # and if it is larger, update the largest independent set and its size\n",
        "    for n1 in this_set:\n",
        "      for n2 in this_set:\n",
        "        if (adj_mat_numpy[n1][n2] == 1):\n",
        "          is_independent = False\n",
        "    if (is_independent):\n",
        "      array_with_sizes[i] = len(this_set)\n",
        "    else:\n",
        "      array_with_sizes[i] = 0\n",
        "\n",
        "\n",
        "  max_independent_set_size = np.max(array_with_sizes)\n",
        "  max_independent_set = np.where(array_with_sizes == max_independent_set_size)[0]\n",
        "  print(\"The max independent sets are encoded by: \",max_independent_set)\n",
        "  return max_independent_set_size\n",
        "\n",
        "\n",
        "\n",
        "if __name__ == \"__main__\":\n",
        "# Read the content of the file with the a passed in the command line\n",
        "# that contain the matrices to be multiplied\n",
        "  adj_matrix,size = read_adjacency_matrix(sys.argv[1])\n",
        "  adj_matrix_numpy = np.array(adj_matrix)\n",
        "  # A first call to give numba the time to compile\n",
        "  start_time = time.time()\n",
        "  max_independent_set_size = find_max_ind_set(adj_matrix_numpy,size)\n",
        "  end_time = time.time()\n",
        "  elapsed_time = end_time - start_time\n",
        "  print(\"Time required to carry out the computation with compilation: \",elapsed_time)\n",
        "  # A second call to measure raw execution time, without compilation time\n",
        "  start_time = time.time()\n",
        "  max_independent_set_size = find_max_ind_set(adj_matrix_numpy,size)\n",
        "  end_time = time.time()\n",
        "  elapsed_time = end_time - start_time\n",
        "  print(\"Time required to carry out the computation without compilation: \",elapsed_time)\n",
        "  print(\"The size of the maximum independent set is: \",max_independent_set_size)"
      ],
      "metadata": {
        "colab": {
          "base_uri": "https://localhost:8080/"
        },
        "id": "3i1vYrlZ0L3j",
        "outputId": "3f5f3509-852d-4c0f-fe68-4f6b1d80b816"
      },
      "execution_count": 46,
      "outputs": [
        {
          "output_type": "stream",
          "name": "stdout",
          "text": [
            "Overwriting with_numba.py\n"
          ]
        }
      ]
    },
    {
      "cell_type": "markdown",
      "source": [
        "Now let's compare the execution times with the different test files."
      ],
      "metadata": {
        "id": "wme2ZJFDjj6d"
      }
    },
    {
      "cell_type": "code",
      "source": [
        "!python original_python.py k4.txt\n",
        "!python with_numba.py k4.txt\n",
        "!python original_python.py no_edges_4.txt\n",
        "!python with_numba.py no_edges_4.txt\n",
        "!python original_python.py k16.txt\n",
        "!python with_numba.py k16.txt\n",
        "!python original_python.py k20.txt\n",
        "!python with_numba.py k20.txt\n",
        "!python with_numba.py k24.txt"
      ],
      "metadata": {
        "colab": {
          "base_uri": "https://localhost:8080/"
        },
        "id": "BOQr-AFh1F47",
        "outputId": "eb37a357-60c7-4d6c-f3f1-c754c1eb3ee8"
      },
      "execution_count": 47,
      "outputs": [
        {
          "output_type": "stream",
          "name": "stdout",
          "text": [
            "The max independent sets are encoded by:  [1 2 4 8]\n",
            "Time required to carry out the computation in python:  0.0003368854522705078\n",
            "The size of the maximum independent set is:  1.0\n",
            "The max independent sets are encoded by:  [1 2 4 8]\n",
            "Time required to carry out the computation with compilation:  0.00028586387634277344\n",
            "The max independent sets are encoded by:  [1 2 4 8]\n",
            "Time required to carry out the computation without compilation:  0.00019741058349609375\n",
            "The size of the maximum independent set is:  1.0\n",
            "The max independent sets are encoded by:  [15]\n",
            "Time required to carry out the computation in python:  0.0002739429473876953\n",
            "The size of the maximum independent set is:  4.0\n",
            "The max independent sets are encoded by:  [15]\n",
            "Time required to carry out the computation with compilation:  0.00043892860412597656\n",
            "The max independent sets are encoded by:  [15]\n",
            "Time required to carry out the computation without compilation:  0.00026297569274902344\n",
            "The size of the maximum independent set is:  4.0\n",
            "The max independent sets are encoded by:  [    1     2     4     8    16    32    64   128   256   512  1024  2048\n",
            "  4096  8192 16384 32768]\n",
            "Time required to carry out the computation in python:  2.762653112411499\n",
            "The size of the maximum independent set is:  1.0\n",
            "The max independent sets are encoded by:  [    1     2     4     8    16    32    64   128   256   512  1024  2048\n",
            "  4096  8192 16384 32768]\n",
            "Time required to carry out the computation with compilation:  1.6085782051086426\n",
            "The max independent sets are encoded by:  [    1     2     4     8    16    32    64   128   256   512  1024  2048\n",
            "  4096  8192 16384 32768]\n",
            "Time required to carry out the computation without compilation:  1.61946702003479\n",
            "The size of the maximum independent set is:  1.0\n",
            "The max independent sets are encoded by:  [     1      2      4      8     16     32     64    128    256    512\n",
            "   1024   2048   4096   8192  16384  32768  65536 131072 262144 524288]\n",
            "Time required to carry out the computation in python:  43.059617042541504\n",
            "The size of the maximum independent set is:  1.0\n",
            "The max independent sets are encoded by:  [     1      2      4      8     16     32     64    128    256    512\n",
            "   1024   2048   4096   8192  16384  32768  65536 131072 262144 524288]\n",
            "Time required to carry out the computation with compilation:  44.27125668525696\n",
            "The max independent sets are encoded by:  [     1      2      4      8     16     32     64    128    256    512\n",
            "   1024   2048   4096   8192  16384  32768  65536 131072 262144 524288]\n",
            "Time required to carry out the computation without compilation:  42.66414546966553\n",
            "The size of the maximum independent set is:  1.0\n"
          ]
        }
      ]
    },
    {
      "cell_type": "markdown",
      "source": [
        "To summarize, enter the results of the execution times in the table below:\n",
        "\n",
        "| Test File      | Sequential Python Execution | With Numba including compilation | With numba excluding compilation |\n",
        "| ------------- | ------------- | ------------| ---------- |\n",
        "| K4            |  0.0          | 0.0         |  0.0       |\n",
        "| No edges 4    |  0.0          | 0.0         |  0.0       |\n",
        "| K16           |  0.0          | 0.0         |  0.0       |\n",
        "| K20           |  0.0          | 0.0         |  0.0       |\n",
        "| K24           |  Too long...  | 0.0         |  0.0       |\n",
        "\n"
      ],
      "metadata": {
        "id": "vXHqPbgmrADl"
      }
    }
  ]
}