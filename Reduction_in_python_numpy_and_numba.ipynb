{
  "nbformat": 4,
  "nbformat_minor": 0,
  "metadata": {
    "colab": {
      "provenance": [],
      "authorship_tag": "ABX9TyMAbRWz9hknLbPAjXM50lb2",
      "include_colab_link": true
    },
    "kernelspec": {
      "name": "python3",
      "display_name": "Python 3"
    },
    "language_info": {
      "name": "python"
    }
  },
  "cells": [
    {
      "cell_type": "markdown",
      "metadata": {
        "id": "view-in-github",
        "colab_type": "text"
      },
      "source": [
        "<a href=\"https://colab.research.google.com/github/trefftzc/cis677/blob/main/Reduction_in_python_numpy_and_numba.ipynb\" target=\"_parent\"><img src=\"https://colab.research.google.com/assets/colab-badge.svg\" alt=\"Open In Colab\"/></a>"
      ]
    },
    {
      "cell_type": "markdown",
      "source": [
        "# Reductions in python, numpy and numba\n",
        "\n",
        "Reduction operations are a building block of many programs.\n",
        "\n",
        "A reduction operation applies an associative and commutative operation to all the entries of a list (or an array).\n",
        "\n",
        "For example, if one wants to find the maximum of all the elements in an array, that is a reduction. Max is an associative and commutative function."
      ],
      "metadata": {
        "id": "PPeOhs39oQXi"
      }
    },
    {
      "cell_type": "markdown",
      "source": [
        "Let's start with sequential code.\n",
        "Let's generate a list of 10,000,000\n",
        " random entries and find the sum of all the elements in the array."
      ],
      "metadata": {
        "id": "SlTVcLiPosfK"
      }
    },
    {
      "cell_type": "code",
      "source": [
        "import time\n",
        "import random\n",
        "def generate():\n",
        "  list_of_values = []\n",
        "  for i in range(10_000_000):\n",
        "    random_value = random.random()\n",
        "    list_of_values.append(random_value)\n",
        "  return list_of_values\n",
        "\n",
        "def findMax(list_of_values):\n",
        "  max_value = list_of_values[0]\n",
        "  for i in range(10_000_000):\n",
        "    if (list_of_values[i] > max_value):\n",
        "      max_value = list_of_values[i]\n",
        "  return max_value\n",
        "\n",
        "if __name__ == \"__main__\":\n",
        "  list_of_values = generate()\n",
        "  start_time = time.time()\n",
        "  max_value = findMax(list_of_values)\n",
        "  end_time = time.time()\n",
        "  elapsed_time = end_time - start_time\n",
        "  print(\"Reduction took: \",elapsed_time)"
      ],
      "metadata": {
        "colab": {
          "base_uri": "https://localhost:8080/"
        },
        "id": "RB4fX95Fo2Bi",
        "outputId": "09a2941b-7cdb-4755-c8f8-5c67a95bd136"
      },
      "execution_count": 1,
      "outputs": [
        {
          "output_type": "stream",
          "name": "stdout",
          "text": [
            "Reduction took:  1.0396273136138916\n"
          ]
        }
      ]
    },
    {
      "cell_type": "markdown",
      "source": [
        "# Using numpy\n",
        "The numpy library has direct support for reduction operations.\n",
        "More information can be found here: https://numpy.org/doc/stable/reference/generated/numpy.ufunc.reduce.html and here: https://numpy.org/doc/stable/reference/routines.math.html\n"
      ],
      "metadata": {
        "id": "kpH4TYo5rAPz"
      }
    },
    {
      "cell_type": "markdown",
      "source": [
        "The previous code can be rewritten using numpy"
      ],
      "metadata": {
        "id": "q0oQcajcrWlT"
      }
    },
    {
      "cell_type": "code",
      "execution_count": 2,
      "metadata": {
        "colab": {
          "base_uri": "https://localhost:8080/"
        },
        "id": "ykBOsdvNoN_n",
        "outputId": "12bd44b3-5249-444c-ee28-3299a1572058"
      },
      "outputs": [
        {
          "output_type": "stream",
          "name": "stdout",
          "text": [
            "Reduction took:  0.014199972152709961\n"
          ]
        }
      ],
      "source": [
        "import time\n",
        "import random\n",
        "import numpy as np\n",
        "\n",
        "def findMax(list_of_values):\n",
        "  return np.amax(list_of_values)\n",
        "\n",
        "if __name__ == \"__main__\":\n",
        "  list_of_values = np.random.rand(10_000_000)\n",
        "  start_time = time.time()\n",
        "  max_value = findMax(list_of_values)\n",
        "  end_time = time.time()\n",
        "  elapsed_time = end_time - start_time\n",
        "  print(\"Reduction took: \",elapsed_time)"
      ]
    },
    {
      "cell_type": "markdown",
      "source": [
        "# Numba support for certain numpy functions\n",
        "\n",
        "Numba supports certain numpy functions directly.\n",
        "The list of numpy functions supported in numba is available here: https://numba.readthedocs.io/en/stable/reference/numpysupported.html\n",
        "\n",
        "Thus the previous code can be compiled with numba."
      ],
      "metadata": {
        "id": "Otsh28fKtiU8"
      }
    },
    {
      "cell_type": "code",
      "source": [
        "import time\n",
        "import random\n",
        "import numpy as np\n",
        "import numba\n",
        "\n",
        "\n",
        "\n",
        "@numba.jit(nopython=True)\n",
        "def findMax(list_of_values):\n",
        "  return np.amax(list_of_values)\n",
        "\n",
        "if __name__ == \"__main__\":\n",
        "  list_of_values = np.random.rand(10_000_000)\n",
        "  # Force the first compilation\n",
        "  max_value = findMax(list_of_values)\n",
        "  start_time = time.time()\n",
        "  max_value = findMax(list_of_values)\n",
        "  end_time = time.time()\n",
        "  elapsed_time = end_time - start_time\n",
        "  print(\"Reduction took: \",elapsed_time)"
      ],
      "metadata": {
        "colab": {
          "base_uri": "https://localhost:8080/"
        },
        "id": "Lj2ThiO8uBh8",
        "outputId": "2e3801ff-1011-4c75-98ce-a6385aa96b22"
      },
      "execution_count": 3,
      "outputs": [
        {
          "output_type": "stream",
          "name": "stdout",
          "text": [
            "Reduction took:  0.01790642738342285\n"
          ]
        }
      ]
    }
  ]
}