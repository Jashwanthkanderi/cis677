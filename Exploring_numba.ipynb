{
  "nbformat": 4,
  "nbformat_minor": 0,
  "metadata": {
    "colab": {
      "provenance": [],
      "authorship_tag": "ABX9TyPIQvydmS3ksnleml+/8BhF",
      "include_colab_link": true
    },
    "kernelspec": {
      "name": "python3",
      "display_name": "Python 3"
    },
    "language_info": {
      "name": "python"
    }
  },
  "cells": [
    {
      "cell_type": "markdown",
      "metadata": {
        "id": "view-in-github",
        "colab_type": "text"
      },
      "source": [
        "<a href=\"https://colab.research.google.com/github/trefftzc/cis677/blob/main/Exploring_numba.ipynb\" target=\"_parent\"><img src=\"https://colab.research.google.com/assets/colab-badge.svg\" alt=\"Open In Colab\"/></a>"
      ]
    },
    {
      "cell_type": "markdown",
      "source": [
        "# NUMBA compiler messages\n",
        "\n",
        "This example is taken from numba's tutorial\n",
        " https://numba.readthedocs.io/en/stable/user/5minguide.html"
      ],
      "metadata": {
        "id": "foRjxaH5riZe"
      }
    },
    {
      "cell_type": "code",
      "execution_count": null,
      "metadata": {
        "colab": {
          "base_uri": "https://localhost:8080/"
        },
        "id": "wH06y1OfrhXT",
        "outputId": "365646a4-669a-4158-8f78-ea62fb69fb06"
      },
      "outputs": [
        {
          "output_type": "stream",
          "name": "stdout",
          "text": [
            "Elapsed (with compilation) = 0.058271418000003905s\n",
            "Result = 499999500000\n"
          ]
        }
      ],
      "source": [
        "import numba\n",
        "import time\n",
        "\n",
        "@numba.jit(nopython=True)\n",
        "def go_fast(n):\n",
        "  acum = 0\n",
        "  for i in range(n):\n",
        "    acum += i\n",
        "  return acum\n",
        "\n",
        "if __name__ == \"__main__\":\n",
        "  x = 1_000_000\n",
        "# DO NOT REPORT THIS... COMPILATION TIME IS INCLUDED IN THE EXECUTION TIME!\n",
        "  start = time.perf_counter()\n",
        "  result = go_fast(x)\n",
        "  end = time.perf_counter()\n",
        "  print(\"Elapsed (with compilation) = {}s\".format((end - start)))\n",
        "\n",
        "# NOW THE FUNCTION IS COMPILED, RE-TIME IT EXECUTING FROM CACHE\n",
        "  start = time.perf_counter()\n",
        "  result = go_fast(x)\n",
        "  end = time.perf_counter()\n",
        "  print(\"Result = {}\".format(result))\n"
      ]
    },
    {
      "cell_type": "markdown",
      "source": [
        "Now include a report about the activites that the compiler performed.\n",
        "This is achieved with this line:\n",
        " go_fast.parallel_diagnostics(level=4)"
      ],
      "metadata": {
        "id": "3Z7DoAtjn-1g"
      }
    },
    {
      "cell_type": "code",
      "source": [
        "import numba\n",
        "import time\n",
        "\n",
        "@numba.jit(nopython=True,parallel=True)\n",
        "def go_fast(n):\n",
        "  acum = 0\n",
        "  for i in range(n):\n",
        "    acum += i\n",
        "  return acum\n",
        "\n",
        "if __name__ == \"__main__\":\n",
        "  x = 1_000_000\n",
        "# DO NOT REPORT THIS... COMPILATION TIME IS INCLUDED IN THE EXECUTION TIME!\n",
        "  start = time.perf_counter()\n",
        "  go_fast(x)\n",
        "  end = time.perf_counter()\n",
        "  print(\"Elapsed (with compilation) = {}s\".format((end - start)))\n",
        "\n",
        "# NOW THE FUNCTION IS COMPILED, RE-TIME IT EXECUTING FROM CACHE\n",
        "  start = time.perf_counter()\n",
        "  go_fast(x)\n",
        "  end = time.perf_counter()\n",
        "  print(\"Elapsed (after compilation) = {}s\".format((end - start)))\n",
        "  print(\"Result = {}\".format(result))\n",
        "  go_fast.parallel_diagnostics(level=4)"
      ],
      "metadata": {
        "colab": {
          "base_uri": "https://localhost:8080/"
        },
        "id": "92ZJu11wtgnL",
        "outputId": "5fa46f9e-948d-4c63-e7fe-8e180f76f3a8"
      },
      "execution_count": null,
      "outputs": [
        {
          "output_type": "stream",
          "name": "stdout",
          "text": [
            "Elapsed (with compilation) = 0.06036286900007326s\n",
            "Elapsed (after compilation) = 6.329999905574368e-06s\n",
            "Result = 499999500000\n",
            " \n",
            "================================================================================\n",
            " Parallel Accelerator Optimizing:  Function go_fast, <ipython-\n",
            "input-22-ba059c642406> (4)  \n",
            "================================================================================\n",
            "No source available\n",
            "--------------------------------- Fusing loops ---------------------------------\n",
            "Attempting fusion of parallel loops (combines loops with similar properties)...\n",
            "----------------------------- Before Optimisation ------------------------------\n",
            "--------------------------------------------------------------------------------\n",
            "------------------------------ After Optimisation ------------------------------\n",
            "Parallel structure is already optimal.\n",
            "--------------------------------------------------------------------------------\n",
            "--------------------------------------------------------------------------------\n",
            " \n",
            "---------------------------Loop invariant code motion---------------------------\n",
            "Allocation hoisting:\n",
            "No allocation hoisting found\n",
            "\n",
            "Instruction hoisting:\n",
            "No instruction hoisting found\n",
            "--------------------------------------------------------------------------------\n"
          ]
        },
        {
          "output_type": "stream",
          "name": "stderr",
          "text": [
            "/usr/local/lib/python3.11/dist-packages/numba/core/typed_passes.py:336: NumbaPerformanceWarning: \n",
            "The keyword argument 'parallel=True' was specified but no transformation for parallel execution was possible.\n",
            "\n",
            "To find out why, try turning on parallel diagnostics, see https://numba.readthedocs.io/en/stable/user/parallel.html#diagnostics for help.\n",
            "\n",
            "File \"<ipython-input-22-ba059c642406>\", line 5:\n",
            "@numba.jit(nopython=True,parallel=True)\n",
            "def go_fast(n):\n",
            "^\n",
            "\n",
            "  warnings.warn(errors.NumbaPerformanceWarning(msg,\n"
          ]
        }
      ]
    },
    {
      "cell_type": "markdown",
      "source": [
        "Now, let's use prange. prange parallelizes a for statement. It creates several threads of execution."
      ],
      "metadata": {
        "id": "Pzd0pTgAoRG_"
      }
    },
    {
      "cell_type": "code",
      "source": [
        "import numba\n",
        "import time\n",
        "\n",
        "@numba.jit(nopython=True,parallel=True)\n",
        "def go_fast(n):\n",
        "  acum = 0\n",
        "  for i in numba.prange(n):\n",
        "    acum += i\n",
        "  return acum\n",
        "\n",
        "if __name__ == \"__main__\":\n",
        "  x = 1_000_000\n",
        "# DO NOT REPORT THIS... COMPILATION TIME IS INCLUDED IN THE EXECUTION TIME!\n",
        "  start = time.perf_counter()\n",
        "  go_fast(x)\n",
        "  end = time.perf_counter()\n",
        "  print(\"Elapsed (with compilation) = {}s\".format((end - start)))\n",
        "\n",
        "# NOW THE FUNCTION IS COMPILED, RE-TIME IT EXECUTING FROM CACHE\n",
        "  start = time.perf_counter()\n",
        "  go_fast(x)\n",
        "  end = time.perf_counter()\n",
        "  print(\"Elapsed (after compilation) = {}s\".format((end - start)))\n",
        "  print(\"Result = {}\".format(result))\n",
        "  go_fast.parallel_diagnostics(level=4)"
      ],
      "metadata": {
        "colab": {
          "base_uri": "https://localhost:8080/"
        },
        "id": "exDwSjZct32T",
        "outputId": "2078ffe2-e512-4aff-8944-e18956271eed"
      },
      "execution_count": null,
      "outputs": [
        {
          "output_type": "stream",
          "name": "stdout",
          "text": [
            "Elapsed (with compilation) = 0.16227224499994009s\n",
            "Elapsed (after compilation) = 0.0006767499999114079s\n",
            "Result = 499999500000\n",
            " \n",
            "================================================================================\n",
            " Parallel Accelerator Optimizing:  Function go_fast, <ipython-\n",
            "input-23-0050f6a72f08> (4)  \n",
            "================================================================================\n",
            "\n",
            "\n",
            "Parallel loop listing for  Function go_fast, <ipython-input-23-0050f6a72f08> (4) \n",
            "-------------------------------------------|loop #ID\n",
            "@numba.jit(nopython=True,parallel=True)    | \n",
            "def go_fast(n):                            | \n",
            "  acum = 0                                 | \n",
            "  for i in numba.prange(n):----------------| #2\n",
            "    acum += i                              | \n",
            "  return acum                              | \n",
            "--------------------------------- Fusing loops ---------------------------------\n",
            "Attempting fusion of parallel loops (combines loops with similar properties)...\n",
            "----------------------------- Before Optimisation ------------------------------\n",
            "--------------------------------------------------------------------------------\n",
            "------------------------------ After Optimisation ------------------------------\n",
            "Parallel structure is already optimal.\n",
            "--------------------------------------------------------------------------------\n",
            "--------------------------------------------------------------------------------\n",
            " \n",
            "---------------------------Loop invariant code motion---------------------------\n",
            "Allocation hoisting:\n",
            "No allocation hoisting found\n",
            "\n",
            "Instruction hoisting:\n",
            "loop #2:\n",
            "  Failed to hoist the following:\n",
            "    dependency: i = $parfor__index_56.74\n",
            "    dependency: $acum_2.77 = inplace_binop(fn=<built-in function iadd>, immutable_fn=<built-in function add>, lhs=acum_2, rhs=$parfor__index_56.74, static_lhs=Undefined, static_rhs=Undefined)\n",
            "    dependency: acum_2 = $acum_2.77\n",
            "--------------------------------------------------------------------------------\n"
          ]
        }
      ]
    },
    {
      "cell_type": "markdown",
      "source": [
        "# Let's try matrix multiplication\n"
      ],
      "metadata": {
        "id": "kuMMRIyauqfS"
      }
    },
    {
      "cell_type": "code",
      "source": [
        "import numpy\n",
        "\n",
        "def matrix_multiplication(A,B,C,N):\n",
        "  # Initialize the result matrix to 0s\n",
        "\n",
        "  for i in range(N):\n",
        "    for j in range(N):\n",
        "      for k in range(N):\n",
        "        C[i][j] += A[i][k]*B[k][j]\n",
        "  return C\n",
        "\n",
        "if __name__ == \"__main__\":\n",
        "  size = 400\n",
        "  A = numpy.random.rand(size,size)\n",
        "  B = numpy.eye(size,size)\n",
        "  C = numpy.zeros([size,size])\n",
        "# Multiply the matrices\n",
        "  start_time = time.time()\n",
        "  C = matrix_multiplication(A,B,C,size)\n",
        "  end_time = time.time()\n",
        "  print(\"Elapsed time = {}s\".format((end_time - start_time)))"
      ],
      "metadata": {
        "colab": {
          "base_uri": "https://localhost:8080/"
        },
        "id": "hOCab3Y0vC3K",
        "outputId": "bc680ebd-44f0-4a36-eb6a-df2db01a445a"
      },
      "execution_count": null,
      "outputs": [
        {
          "output_type": "stream",
          "name": "stdout",
          "text": [
            "Elapsed time = 43.38834571838379s\n"
          ]
        }
      ]
    },
    {
      "cell_type": "markdown",
      "source": [
        "# Now let's try with NUMBA (without parallelization)"
      ],
      "metadata": {
        "id": "kaANysvbzkOz"
      }
    },
    {
      "cell_type": "code",
      "source": [
        "import numpy\n",
        "import numba\n",
        "\n",
        "@numba.jit(nopython=True,parallel=True)\n",
        "def matrix_multiplication(A,B,C,N):\n",
        "  # Initialize the result matrix to 0s\n",
        "  for i in range(N):\n",
        "    for j in range(N):\n",
        "      for k in range(N):\n",
        "        C[i][j] += A[i][k]*B[k][j]\n",
        "  return C\n",
        "\n",
        "if __name__ == \"__main__\":\n",
        "\n",
        "# First a run to compile the code\n",
        "  size = 400\n",
        "  A = numpy.random.rand(size,size)\n",
        "  B = numpy.eye(size,size)\n",
        "  C = numpy.zeros([size,size])\n",
        "  start_time = time.time()\n",
        "  C = matrix_multiplication(A,B,C,size)\n",
        "  end_time = time.time()\n",
        "  print(\"Elapsed time with compilation = {}s\".format((end_time - start_time)))\n",
        "# Now a second run that uses the compiled code to multiply the matrices\n",
        "  size = 400\n",
        "  A = numpy.random.rand(size,size)\n",
        "  B = numpy.eye(size,size)\n",
        "  C = numpy.zeros([size,size])\n",
        "  start_time = time.time()\n",
        "  C = matrix_multiplication(A,B,C,size)\n",
        "  end_time = time.time()\n",
        "  print(\"Elapsed time (withtout compilation)= {}s\".format((end_time - start_time)))\n",
        "  matrix_multiplication.parallel_diagnostics(level=4)"
      ],
      "metadata": {
        "colab": {
          "base_uri": "https://localhost:8080/"
        },
        "id": "V62MvnFOzq2r",
        "outputId": "0d70775f-9087-44d4-81cd-654c3a99409c"
      },
      "execution_count": null,
      "outputs": [
        {
          "output_type": "stream",
          "name": "stderr",
          "text": [
            "/usr/local/lib/python3.11/dist-packages/numba/core/typed_passes.py:336: NumbaPerformanceWarning: \n",
            "The keyword argument 'parallel=True' was specified but no transformation for parallel execution was possible.\n",
            "\n",
            "To find out why, try turning on parallel diagnostics, see https://numba.readthedocs.io/en/stable/user/parallel.html#diagnostics for help.\n",
            "\n",
            "File \"<ipython-input-38-b94fd9b70383>\", line 5:\n",
            "@numba.jit(nopython=True,parallel=True)\n",
            "def matrix_multiplication(A,B,C,N):\n",
            "^\n",
            "\n",
            "  warnings.warn(errors.NumbaPerformanceWarning(msg,\n"
          ]
        },
        {
          "output_type": "stream",
          "name": "stdout",
          "text": [
            "Elapsed time with compilation = 0.17173337936401367s\n",
            "Elapsed time (withtout compilation)= 0.06038093566894531s\n",
            " \n",
            "================================================================================\n",
            " Parallel Accelerator Optimizing:  Function matrix_multiplication, <ipython-\n",
            "input-38-b94fd9b70383> (4)  \n",
            "================================================================================\n",
            "No source available\n",
            "--------------------------------- Fusing loops ---------------------------------\n",
            "Attempting fusion of parallel loops (combines loops with similar properties)...\n",
            "----------------------------- Before Optimisation ------------------------------\n",
            "--------------------------------------------------------------------------------\n",
            "------------------------------ After Optimisation ------------------------------\n",
            "Parallel structure is already optimal.\n",
            "--------------------------------------------------------------------------------\n",
            "--------------------------------------------------------------------------------\n",
            " \n",
            "---------------------------Loop invariant code motion---------------------------\n",
            "Allocation hoisting:\n",
            "No allocation hoisting found\n",
            "\n",
            "Instruction hoisting:\n",
            "No instruction hoisting found\n",
            "--------------------------------------------------------------------------------\n"
          ]
        }
      ]
    },
    {
      "cell_type": "markdown",
      "source": [
        "# Now with prange"
      ],
      "metadata": {
        "id": "kYpJo2GM2J9z"
      }
    },
    {
      "cell_type": "code",
      "source": [
        "import numpy\n",
        "import numba\n",
        "\n",
        "@numba.jit(nopython=True,parallel=True)\n",
        "def matrix_multiplication(A,B,C,N):\n",
        "  # Initialize the result matrix to 0s\n",
        "  for i in numba.prange(N):\n",
        "    for j in range(N):\n",
        "      for k in range(N):\n",
        "        C[i][j] += A[i][k]*B[k][j]\n",
        "  return C\n",
        "\n",
        "if __name__ == \"__main__\":\n",
        "\n",
        "# First a run to compile the code\n",
        "  size = 400\n",
        "  A = numpy.random.rand(size,size)\n",
        "  B = numpy.eye(size,size)\n",
        "  C = numpy.zeros([size,size])\n",
        "  start_time = time.time()\n",
        "  C = matrix_multiplication(A,B,C,size)\n",
        "  end_time = time.time()\n",
        "  print(\"Elapsed time with compilation = {}s\".format((end_time - start_time)))\n",
        "# Multiply the matrices\n",
        "  size = 400\n",
        "  A = numpy.random.rand(size,size)\n",
        "  B = numpy.eye(size,size)\n",
        "  C = numpy.zeros([size,size])\n",
        "  start_time = time.time()\n",
        "  C = matrix_multiplication(A,B,C,size)\n",
        "  end_time = time.time()\n",
        "  print(\"Elapsed time (withtout compilation)= {}s\".format((end_time - start_time)))\n",
        "  matrix_multiplication.parallel_diagnostics(level=4)"
      ],
      "metadata": {
        "colab": {
          "base_uri": "https://localhost:8080/"
        },
        "id": "4sWXkJrg2LlB",
        "outputId": "0127df1d-8228-4412-e911-e2f650421d31"
      },
      "execution_count": null,
      "outputs": [
        {
          "output_type": "stream",
          "name": "stdout",
          "text": [
            "Elapsed time with compilation = 0.2875936031341553s\n",
            "Elapsed time (withtout compilation)= 0.04929685592651367s\n",
            " \n",
            "================================================================================\n",
            " Parallel Accelerator Optimizing:  Function matrix_multiplication, <ipython-\n",
            "input-41-1f16350b723f> (4)  \n",
            "================================================================================\n",
            "\n",
            "\n",
            "Parallel loop listing for  Function matrix_multiplication, <ipython-input-41-1f16350b723f> (4) \n",
            "-------------------------------------------|loop #ID\n",
            "@numba.jit(nopython=True,parallel=True)    | \n",
            "def matrix_multiplication(A,B,C,N):        | \n",
            "  # Initialize the result matrix to 0s     | \n",
            "  for i in numba.prange(N):----------------| #6\n",
            "    for j in range(N):                     | \n",
            "      for k in range(N):                   | \n",
            "        C[i][j] += A[i][k]*B[k][j]         | \n",
            "  return C                                 | \n",
            "--------------------------------- Fusing loops ---------------------------------\n",
            "Attempting fusion of parallel loops (combines loops with similar properties)...\n",
            "----------------------------- Before Optimisation ------------------------------\n",
            "--------------------------------------------------------------------------------\n",
            "------------------------------ After Optimisation ------------------------------\n",
            "Parallel structure is already optimal.\n",
            "--------------------------------------------------------------------------------\n",
            "--------------------------------------------------------------------------------\n",
            " \n",
            "---------------------------Loop invariant code motion---------------------------\n",
            "Allocation hoisting:\n",
            "No allocation hoisting found\n",
            "\n",
            "Instruction hoisting:\n",
            "loop #6:\n",
            "  Has the following hoisted:\n",
            "    $60load_global.2 = global(range: <class 'range'>)\n",
            "    $94load_global.3 = global(range: <class 'range'>)\n",
            "  Failed to hoist the following:\n",
            "    not pure: $78call.5 = call $push_global_to_block.230(N, func=$push_global_to_block.230, args=[Var(N, <ipython-input-41-1f16350b723f>:4)], kws=(), vararg=None, varkwarg=None, target=None)\n",
            "    dependency: $88get_iter.6 = getiter(value=$78call.5)\n",
            "    not pure: $112call.6 = call $push_global_to_block.231(N, func=$push_global_to_block.231, args=[Var(N, <ipython-input-41-1f16350b723f>:4)], kws=(), vararg=None, varkwarg=None, target=None)\n",
            "    dependency: $122get_iter.7 = getiter(value=$112call.6)\n",
            "    dependency: $90for_iter.2 = iternext(value=$88get_iter.6)\n",
            "    dependency: $j.216 = pair_first(value=$90for_iter.2)\n",
            "    dependency: $90for_iter.4 = pair_second(value=$90for_iter.2)\n",
            "    dependency: $124for_iter.3 = iternext(value=$122get_iter.7)\n",
            "    dependency: $k.217 = pair_first(value=$124for_iter.3)\n",
            "    dependency: $124for_iter.5 = pair_second(value=$124for_iter.3)\n",
            "    dependency: $148binary_subscr.8 = getitem(value=$132binary_subscr.6, index=$j.216, fn=<built-in function getitem>)\n",
            "    dependency: $162binary_subscr.11 = getitem(value=A, index=$parfor__index_212.232, fn=<built-in function getitem>)\n",
            "    dependency: $174binary_subscr.13 = getitem(value=$162binary_subscr.11, index=$k.217, fn=<built-in function getitem>)\n",
            "    dependency: $188binary_subscr.16 = getitem(value=B, index=$k.217, fn=<built-in function getitem>)\n",
            "    dependency: $200binary_subscr.18 = getitem(value=$188binary_subscr.16, index=$j.216, fn=<built-in function getitem>)\n",
            "    dependency: $binop_mul210.19 = $174binary_subscr.13 * $200binary_subscr.18\n",
            "    dependency: $binop_iadd214.20 = inplace_binop(fn=<built-in function iadd>, immutable_fn=<built-in function add>, lhs=$148binary_subscr.8, rhs=$binop_mul210.19, static_lhs=Undefined, static_rhs=Undefined)\n",
            "--------------------------------------------------------------------------------\n"
          ]
        }
      ]
    },
    {
      "cell_type": "markdown",
      "source": [
        "# If we try two parallel prange statements, instead of just the outermost loop.\n"
      ],
      "metadata": {
        "id": "jyYUjnYV2qtr"
      }
    },
    {
      "cell_type": "code",
      "source": [
        "import numpy\n",
        "import numba\n",
        "\n",
        "@numba.jit(nopython=True,parallel=True)\n",
        "def matrix_multiplication(A,B,C,N):\n",
        "  # Initialize the result matrix to 0s\n",
        "  for i in numba.prange(N):\n",
        "    for j in numba.prange(N):\n",
        "      for k in range(N):\n",
        "        C[i][j] += A[i][k]*B[k][j]\n",
        "  return C\n",
        "\n",
        "if __name__ == \"__main__\":\n",
        "\n",
        "# First a run to compile the code\n",
        "  size = 400\n",
        "  A = numpy.random.rand(size,size)\n",
        "  B = numpy.eye(size,size)\n",
        "  C = numpy.zeros([size,size])\n",
        "  start_time = time.time()\n",
        "  C = matrix_multiplication(A,B,C,size)\n",
        "  end_time = time.time()\n",
        "  print(\"Elapsed time with compilation = {}s\".format((end_time - start_time)))\n",
        "# Multiply the matrices\n",
        "  size = 400\n",
        "  A = numpy.random.rand(size,size)\n",
        "  B = numpy.eye(size,size)\n",
        "  C = numpy.zeros([size,size])\n",
        "  start_time = time.time()\n",
        "  C = matrix_multiplication(A,B,C,size)\n",
        "  end_time = time.time()\n",
        "  print(\"Elapsed time (withtout compilation)= {}s\".format((end_time - start_time)))\n",
        "  matrix_multiplication.parallel_diagnostics(level=4)"
      ],
      "metadata": {
        "colab": {
          "base_uri": "https://localhost:8080/"
        },
        "id": "LY3TBllm2xVT",
        "outputId": "7fe31619-cd72-410b-dacd-b8507245acab"
      },
      "execution_count": null,
      "outputs": [
        {
          "output_type": "stream",
          "name": "stdout",
          "text": [
            "Elapsed time with compilation = 0.29268360137939453s\n",
            "Elapsed time (withtout compilation)= 0.04774808883666992s\n",
            " \n",
            "================================================================================\n",
            " Parallel Accelerator Optimizing:  Function matrix_multiplication, <ipython-\n",
            "input-42-ba7bc4f3de40> (4)  \n",
            "================================================================================\n",
            "\n",
            "\n",
            "Parallel loop listing for  Function matrix_multiplication, <ipython-input-42-ba7bc4f3de40> (4) \n",
            "-------------------------------------------|loop #ID\n",
            "@numba.jit(nopython=True,parallel=True)    | \n",
            "def matrix_multiplication(A,B,C,N):        | \n",
            "  # Initialize the result matrix to 0s     | \n",
            "  for i in numba.prange(N):----------------| #8\n",
            "    for j in numba.prange(N):--------------| #7\n",
            "      for k in range(N):                   | \n",
            "        C[i][j] += A[i][k]*B[k][j]         | \n",
            "  return C                                 | \n",
            "--------------------------------- Fusing loops ---------------------------------\n",
            "Attempting fusion of parallel loops (combines loops with similar properties)...\n",
            "----------------------------- Before Optimisation ------------------------------\n",
            "Parallel region 0:\n",
            "+--8 (parallel)\n",
            "   +--7 (parallel)\n",
            "\n",
            "\n",
            "--------------------------------------------------------------------------------\n",
            "------------------------------ After Optimisation ------------------------------\n",
            "Parallel region 0:\n",
            "+--8 (parallel)\n",
            "   +--7 (serial)\n",
            "\n",
            "\n",
            " \n",
            "Parallel region 0 (loop #8) had 0 loop(s) fused and 1 loop(s) serialized as part\n",
            " of the larger parallel loop (#8).\n",
            "--------------------------------------------------------------------------------\n",
            "--------------------------------------------------------------------------------\n",
            " \n",
            "---------------------------Loop invariant code motion---------------------------\n",
            "Allocation hoisting:\n",
            "No allocation hoisting found\n",
            "\n",
            "Instruction hoisting:\n",
            "loop #8 has nothing to hoist.\n",
            "No instruction hoisting found\n",
            "--------------------------------------------------------------------------------\n"
          ]
        }
      ]
    },
    {
      "cell_type": "markdown",
      "source": [
        "# Now with a useless redundant statment to show how hoisting code works"
      ],
      "metadata": {
        "id": "qi0vlaRm3dKK"
      }
    },
    {
      "cell_type": "code",
      "source": [
        "import numpy\n",
        "import numba\n",
        "\n",
        "@numba.jit(nopython=True,parallel=True)\n",
        "def matrix_multiplication(A,B,C,N):\n",
        "  # Initialize the result matrix to 0s\n",
        "  x = 0\n",
        "  for i in numba.prange(N):\n",
        "    for j in range(N):\n",
        "      for k in range(N):\n",
        "        # The following instruction is unnecessary\n",
        "        x = 1\n",
        "        C[i][j] += A[i][k]*B[k][j]\n",
        "  return C\n",
        "\n",
        "if __name__ == \"__main__\":\n",
        "\n",
        "# First a run to compile the code\n",
        "  size = 400\n",
        "  A = numpy.random.rand(size,size)\n",
        "  B = numpy.eye(size,size)\n",
        "  C = numpy.zeros([size,size])\n",
        "  start_time = time.time()\n",
        "  C = matrix_multiplication(A,B,C,size)\n",
        "  end_time = time.time()\n",
        "  print(\"Elapsed time with compilation = {}s\".format((end_time - start_time)))\n",
        "# Multiply the matrices\n",
        "  size = 400\n",
        "  A = numpy.random.rand(size,size)\n",
        "  B = numpy.eye(size,size)\n",
        "  C = numpy.zeros([size,size])\n",
        "  start_time = time.time()\n",
        "  C = matrix_multiplication(A,B,C,size)\n",
        "  end_time = time.time()\n",
        "  print(\"Elapsed time (withtout compilation)= {}s\".format((end_time - start_time)))\n",
        "  matrix_multiplication.parallel_diagnostics(level=4)"
      ],
      "metadata": {
        "colab": {
          "base_uri": "https://localhost:8080/"
        },
        "id": "qqltv9_R3lbs",
        "outputId": "f7c5ab9c-c675-4344-97cd-6076a45a5030"
      },
      "execution_count": null,
      "outputs": [
        {
          "output_type": "stream",
          "name": "stdout",
          "text": [
            "Elapsed time with compilation = 0.3004417419433594s\n",
            "Elapsed time (withtout compilation)= 0.0637974739074707s\n",
            " \n",
            "================================================================================\n",
            " Parallel Accelerator Optimizing:  Function matrix_multiplication, <ipython-\n",
            "input-54-0b2a14f66cfd> (4)  \n",
            "================================================================================\n",
            "\n",
            "\n",
            "Parallel loop listing for  Function matrix_multiplication, <ipython-input-54-0b2a14f66cfd> (4) \n",
            "------------------------------------------------------|loop #ID\n",
            "@numba.jit(nopython=True,parallel=True)               | \n",
            "def matrix_multiplication(A,B,C,N):                   | \n",
            "  # Initialize the result matrix to 0s                | \n",
            "  x = 0                                               | \n",
            "  for i in numba.prange(N):---------------------------| #12\n",
            "    for j in range(N):                                | \n",
            "      for k in range(N):                              | \n",
            "        # The following instruction is unnecessary    | \n",
            "        x = 1                                         | \n",
            "        C[i][j] += A[i][k]*B[k][j]                    | \n",
            "  return C                                            | \n",
            "--------------------------------- Fusing loops ---------------------------------\n",
            "Attempting fusion of parallel loops (combines loops with similar properties)...\n",
            "----------------------------- Before Optimisation ------------------------------\n",
            "--------------------------------------------------------------------------------\n",
            "------------------------------ After Optimisation ------------------------------\n",
            "Parallel structure is already optimal.\n",
            "--------------------------------------------------------------------------------\n",
            "--------------------------------------------------------------------------------\n",
            " \n",
            "---------------------------Loop invariant code motion---------------------------\n",
            "Allocation hoisting:\n",
            "No allocation hoisting found\n",
            "\n",
            "Instruction hoisting:\n",
            "loop #12:\n",
            "  Has the following hoisted:\n",
            "    $98load_global.3 = global(range: <class 'range'>)\n",
            "    $64load_global.2 = global(range: <class 'range'>)\n",
            "  Failed to hoist the following:\n",
            "    dependency: $128for_iter.3 = iternext(value=$126get_iter.7)\n",
            "    dependency: $k.512 = pair_first(value=$128for_iter.3)\n",
            "    dependency: $128for_iter.5 = pair_second(value=$128for_iter.3)\n",
            "    not pure: $116call.6 = call $push_global_to_block.525(N, func=$push_global_to_block.525, args=[Var(N, <ipython-input-54-0b2a14f66cfd>:4)], kws=(), vararg=None, varkwarg=None, target=None)\n",
            "    dependency: $126get_iter.7 = getiter(value=$116call.6)\n",
            "    dependency: $156binary_subscr.9 = getitem(value=$140binary_subscr.7, index=$j.511, fn=<built-in function getitem>)\n",
            "    dependency: $170binary_subscr.12 = getitem(value=A, index=$parfor__index_507.527, fn=<built-in function getitem>)\n",
            "    dependency: $182binary_subscr.14 = getitem(value=$170binary_subscr.12, index=$k.512, fn=<built-in function getitem>)\n",
            "    dependency: $196binary_subscr.17 = getitem(value=B, index=$k.512, fn=<built-in function getitem>)\n",
            "    dependency: $208binary_subscr.19 = getitem(value=$196binary_subscr.17, index=$j.511, fn=<built-in function getitem>)\n",
            "    dependency: $binop_mul218.20 = $182binary_subscr.14 * $208binary_subscr.19\n",
            "    dependency: $binop_iadd222.21 = inplace_binop(fn=<built-in function iadd>, immutable_fn=<built-in function add>, lhs=$156binary_subscr.9, rhs=$binop_mul218.20, static_lhs=Undefined, static_rhs=Undefined)\n",
            "    dependency: $94for_iter.2 = iternext(value=$92get_iter.6)\n",
            "    dependency: $j.511 = pair_first(value=$94for_iter.2)\n",
            "    dependency: $94for_iter.4 = pair_second(value=$94for_iter.2)\n",
            "    not pure: $82call.5 = call $push_global_to_block.526(N, func=$push_global_to_block.526, args=[Var(N, <ipython-input-54-0b2a14f66cfd>:4)], kws=(), vararg=None, varkwarg=None, target=None)\n",
            "    dependency: $92get_iter.6 = getiter(value=$82call.5)\n",
            "--------------------------------------------------------------------------------\n"
          ]
        }
      ]
    },
    {
      "cell_type": "markdown",
      "source": [
        "# What happens if we try to parallelize code that depends on other iterations.\n",
        "\n",
        "There is something wrong... but the compiler does not warn us..."
      ],
      "metadata": {
        "id": "xtQTCn1NrCNg"
      }
    },
    {
      "cell_type": "code",
      "source": [
        "import numba\n",
        "import numpy as np\n",
        "\n",
        "@numba.jit(nopython=True,parallel=True)\n",
        "def depends_on_previous_iteration(A):\n",
        "  result = np.zeros(A.shape)\n",
        "  result[0] = A[0]\n",
        "  for i in numba.prange(1,A.shape[0]):\n",
        "    result[i] = A[i] + result[i-1]\n",
        "  return result\n",
        "\n",
        "if __name__ == \"__main__\":\n",
        "  size = 1_000_000\n",
        "  A = np.arange(size)\n",
        "  B = depends_on_previous_iteration(A)\n",
        "  sum_all_of_A = np.sum(A)\n",
        "  print(sum_all_of_A)\n",
        "  print(B[size-1])\n",
        "  depends_on_previous_iteration.parallel_diagnostics(level=4)"
      ],
      "metadata": {
        "id": "8W9NjUDwrKpA",
        "outputId": "a6696662-03f7-4022-f6b6-731c58c4c4f8",
        "colab": {
          "base_uri": "https://localhost:8080/"
        }
      },
      "execution_count": 17,
      "outputs": [
        {
          "output_type": "stream",
          "name": "stdout",
          "text": [
            "499999500000\n",
            "374999250000.0\n",
            " \n",
            "================================================================================\n",
            " Parallel Accelerator Optimizing:  Function depends_on_previous_iteration, \n",
            "<ipython-input-17-10f45d01a851> (4)  \n",
            "================================================================================\n",
            "\n",
            "\n",
            "Parallel loop listing for  Function depends_on_previous_iteration, <ipython-input-17-10f45d01a851> (4) \n",
            "-------------------------------------------|loop #ID\n",
            "@numba.jit(nopython=True,parallel=True)    | \n",
            "def depends_on_previous_iteration(A):      | \n",
            "  result = np.zeros(A.shape)---------------| #30\n",
            "  result[0] = A[0]                         | \n",
            "  for i in numba.prange(1,A.shape[0]):-----| #31\n",
            "    result[i] = A[i] + result[i-1]         | \n",
            "  return result                            | \n",
            "--------------------------------- Fusing loops ---------------------------------\n",
            "Attempting fusion of parallel loops (combines loops with similar properties)...\n",
            "----------------------------- Before Optimisation ------------------------------\n",
            "--------------------------------------------------------------------------------\n",
            "------------------------------ After Optimisation ------------------------------\n",
            "Parallel structure is already optimal.\n",
            "--------------------------------------------------------------------------------\n",
            "--------------------------------------------------------------------------------\n",
            " \n",
            "---------------------------Loop invariant code motion---------------------------\n",
            "Allocation hoisting:\n",
            "No allocation hoisting found\n",
            "\n",
            "Instruction hoisting:\n",
            "loop #30:\n",
            "  Has the following hoisted:\n",
            "    $expr_out_var.833 = const(float64, 0.0)\n",
            "loop #31:\n",
            "  Has the following hoisted:\n",
            "    $const186.7.2 = const(int, 1)\n",
            "  Failed to hoist the following:\n",
            "    dependency: $172binary_subscr.4 = getitem(value=A, index=$parfor__index_834.878, fn=<built-in function getitem>)\n",
            "    dependency: $binop_sub188.8 = $parfor__index_834.878 - $const186.7.2\n",
            "    dependency: $192binary_subscr.9 = getitem(value=result, index=$binop_sub188.8, fn=<built-in function getitem>)\n",
            "    dependency: $binop_add202.10 = $172binary_subscr.4 + $192binary_subscr.9\n",
            "--------------------------------------------------------------------------------\n"
          ]
        }
      ]
    }
  ]
}