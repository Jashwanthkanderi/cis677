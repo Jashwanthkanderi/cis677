{
  "nbformat": 4,
  "nbformat_minor": 0,
  "metadata": {
    "colab": {
      "provenance": [],
      "authorship_tag": "ABX9TyPerjTaaOphLnUI5+yWOj8G",
      "include_colab_link": true
    },
    "kernelspec": {
      "name": "python3",
      "display_name": "Python 3"
    },
    "language_info": {
      "name": "python"
    }
  },
  "cells": [
    {
      "cell_type": "markdown",
      "metadata": {
        "id": "view-in-github",
        "colab_type": "text"
      },
      "source": [
        "<a href=\"https://colab.research.google.com/github/trefftzc/cis677/blob/main/CIS677_Fall2024_numpy_and_numba.ipynb\" target=\"_parent\"><img src=\"https://colab.research.google.com/assets/colab-badge.svg\" alt=\"Open In Colab\"/></a>"
      ]
    },
    {
      "cell_type": "markdown",
      "source": [
        "# CIS 677 -- A COLAB notebook to learn the basics about numpy and numba\n",
        "\n",
        "\n",
        "Save this notebook on your Google account:\n",
        "\n",
        "1. Click on File and select Save on Drive\n",
        "2. Rename the file to your last name\n",
        "3. Make sure that your notebook is visible to others. Check on the Share button at the top, click on General Access and select Anyone with the link\n"
      ],
      "metadata": {
        "id": "5fDj2odBxblE"
      }
    },
    {
      "cell_type": "markdown",
      "source": [
        "It is possible to interact with the operating system of the computer at Google that is hosting this notebook.\n",
        "\n",
        "To interact with the operating system, start with the ! character in a code cell.\n",
        "\n",
        "When you click on the cell below, you will see the current list of files on the host computer."
      ],
      "metadata": {
        "id": "r5m7pKZuy49u"
      }
    },
    {
      "cell_type": "code",
      "execution_count": 6,
      "metadata": {
        "colab": {
          "base_uri": "https://localhost:8080/"
        },
        "id": "JehGGuZJxW4n",
        "outputId": "804b2e91-7970-4f0b-be74-ce896085986b"
      },
      "outputs": [
        {
          "output_type": "stream",
          "name": "stdout",
          "text": [
            "A_100.Text  A_200.Text\tB_100.Text  B_200.Text\tmatrix_multiplication.py  sample_data\n"
          ]
        }
      ],
      "source": [
        "!ls"
      ]
    },
    {
      "cell_type": "markdown",
      "source": [
        "# Matrix multiplication\n",
        "\n",
        "Matrix multiplication is a fundamental operation in numerical linear algebra.\n",
        "\n",
        "Given two matrices:\n",
        "1. Matrix A with size $l \\times m$\n",
        "2. Matrix B with size $m \\times n$\n",
        "The product will be a matrix C of size $l \\times n$\n",
        "\n",
        "This is Wikipedia's entry on Matrix Multiplication:\n",
        "\n",
        "https://en.wikipedia.org/wiki/Matrix_multiplication#:~:text=For%20matrix%20multiplication%2C%20the%20number,B%20is%20denoted%20as%20AB.\n",
        "\n",
        "To simplify things, we will use square matrices, with the same number of rows and columns, for the following examples."
      ],
      "metadata": {
        "id": "WHYN4Lwtzzyz"
      }
    },
    {
      "cell_type": "markdown",
      "source": [
        "Let's create a couple of sample matrices.\n",
        "\n",
        "It is possible to create a file in COLAB using the directive\n",
        "%%writefile nameOfTheFile"
      ],
      "metadata": {
        "id": "DtPvFtn03b0D"
      }
    },
    {
      "cell_type": "code",
      "source": [
        "%%writefile A_4.Text\n",
        "4\n",
        "1 2 3 4\n",
        "5 6 7 8\n",
        "9 10 11 12\n",
        "13 14 15 16"
      ],
      "metadata": {
        "colab": {
          "base_uri": "https://localhost:8080/"
        },
        "id": "J4QI__pv3myj",
        "outputId": "b88bc3d2-86be-40ee-a452-882f5bf8c91e"
      },
      "execution_count": 7,
      "outputs": [
        {
          "output_type": "stream",
          "name": "stdout",
          "text": [
            "Writing A_4.Text\n"
          ]
        }
      ]
    },
    {
      "cell_type": "code",
      "source": [
        "%%writefile B_4.Text\n",
        "4\n",
        "1 0 0 0\n",
        "0 1 0 0\n",
        "0 0 1 0\n",
        "0 0 0 1"
      ],
      "metadata": {
        "colab": {
          "base_uri": "https://localhost:8080/"
        },
        "id": "3ClBKz3O3z98",
        "outputId": "1a37b4bd-6eaf-436a-ee6d-5ea0c8f76ce8"
      },
      "execution_count": 8,
      "outputs": [
        {
          "output_type": "stream",
          "name": "stdout",
          "text": [
            "Writing B_4.Text\n"
          ]
        }
      ]
    },
    {
      "cell_type": "markdown",
      "source": [
        "Now, let's create a program that reads both files, multiplies the corresponding matrices and then prints the result."
      ],
      "metadata": {
        "id": "-79zoiRv4CKb"
      }
    },
    {
      "cell_type": "code",
      "source": [
        "%%writefile matrix_multiplication.py\n",
        "import sys\n",
        "import time\n",
        "\n",
        "def read_file(file_name):\n",
        "  file_object = open(file_name, \"r\")\n",
        "  # Input the number of rows and columns\n",
        "  size = int(file_object.readline())\n",
        "  rows = size\n",
        "  cols = size\n",
        "  # Initialize an empty matrix\n",
        "  matrix = []\n",
        "\n",
        "  # Input the matrix elements\n",
        "  for i in range(rows):\n",
        "    row = list(map(int, file_object.readline().split()))\n",
        "    matrix.append(row)\n",
        "  # Display the matrix\n",
        "  print(\"The matrix contained in the file \",file_name,\" is: \")\n",
        "  for row in matrix:\n",
        "    print(row)\n",
        "  return matrix,size\n",
        "\n",
        "# Main code\n",
        "\n",
        "# Read the content of the files passed in the command line\n",
        "# that contain the matrices to be multiplied\n",
        "A,size = read_file(sys.argv[1])\n",
        "B,size = read_file(sys.argv[2])\n",
        "\n",
        "# Initialize the result matrix to 0s\n",
        "C = [[0 for x in range(size)] for y in range(size)]\n",
        "\n",
        "# Multiply the matrices\n",
        "N = size\n",
        "start_time = time.time()\n",
        "for i in range(N):\n",
        "  for j in range(N):\n",
        "    for k in range(N):\n",
        "      C[i][j] += A[i][k]*B[k][j]\n",
        "\n",
        "end_time = time.time()\n",
        "elapsed_time = end_time - start_time\n",
        "print(\"Time required to carry out the computation: \",elapsed_time)\n",
        "\n",
        "# Print out the resulting matrix\n",
        "for i in range(N):\n",
        "  for j in range(N):\n",
        "    print(C[i][j],\" \",end=\"\")\n",
        "  print(\"\\n\")"
      ],
      "metadata": {
        "colab": {
          "base_uri": "https://localhost:8080/"
        },
        "id": "Emsbl1Z84ksr",
        "outputId": "2be54610-25cc-4fc2-f33e-76e79544e645"
      },
      "execution_count": 9,
      "outputs": [
        {
          "output_type": "stream",
          "name": "stdout",
          "text": [
            "Overwriting matrix_multiplication.py\n"
          ]
        }
      ]
    },
    {
      "cell_type": "code",
      "source": [
        "!python3 matrix_multiplication.py A_4.Text B_4.Text"
      ],
      "metadata": {
        "colab": {
          "base_uri": "https://localhost:8080/"
        },
        "id": "mbNaVS596fyz",
        "outputId": "a9534284-153b-46d5-8ed5-aa844f577a5c"
      },
      "execution_count": 10,
      "outputs": [
        {
          "output_type": "stream",
          "name": "stdout",
          "text": [
            "The matrix contained in the file  A_4.Text  is: \n",
            "[1, 2, 3, 4]\n",
            "[5, 6, 7, 8]\n",
            "[9, 10, 11, 12]\n",
            "[13, 14, 15, 16]\n",
            "The matrix contained in the file  B_4.Text  is: \n",
            "[1, 0, 0, 0]\n",
            "[0, 1, 0, 0]\n",
            "[0, 0, 1, 0]\n",
            "[0, 0, 0, 1]\n",
            "Time required to carry out the computation:  4.38690185546875e-05\n",
            "1  2  3  4  \n",
            "\n",
            "5  6  7  8  \n",
            "\n",
            "9  10  11  12  \n",
            "\n",
            "13  14  15  16  \n",
            "\n"
          ]
        }
      ]
    },
    {
      "cell_type": "markdown",
      "source": [
        "Let's try with slightly larger matrices:"
      ],
      "metadata": {
        "id": "aod54nnnc9A7"
      }
    },
    {
      "cell_type": "code",
      "source": [
        "%%writefile A_8.Text\n",
        "8\n",
        "1 2 3 4 5 6 7 8\n",
        "9 10 11 12 13 14 15 16\n",
        "17 18 19 20 21 22 23 24\n",
        "25 26 27 28 29 30 31 32\n",
        "33 34 35 36 37 38 39 40\n",
        "41 42 43 44 45 46 47 48\n",
        "49 50 51 52 53 54 55 56\n",
        "57 58 59 60 61 62 63 64\n"
      ],
      "metadata": {
        "colab": {
          "base_uri": "https://localhost:8080/"
        },
        "id": "KTajm9VedBYs",
        "outputId": "6894f6e8-ab66-4c27-a7ab-e25b8e92c43a"
      },
      "execution_count": 11,
      "outputs": [
        {
          "output_type": "stream",
          "name": "stdout",
          "text": [
            "Writing A_8.Text\n"
          ]
        }
      ]
    },
    {
      "cell_type": "code",
      "source": [
        "%%writefile B_8.Text\n",
        "8\n",
        "1 0 0 0 0 0 0 0\n",
        "0 1 0 0 0 0 0 0\n",
        "0 0 1 0 0 0 0 0\n",
        "0 0 0 1 0 0 0 0\n",
        "0 0 0 0 1 0 0 0\n",
        "0 0 0 0 0 1 0 0\n",
        "0 0 0 0 0 0 1 0\n",
        "0 0 0 0 0 0 0 1"
      ],
      "metadata": {
        "colab": {
          "base_uri": "https://localhost:8080/"
        },
        "id": "VmCFGOAcdNX0",
        "outputId": "aec60c98-31ec-412f-bcdf-c7dffc416548"
      },
      "execution_count": 12,
      "outputs": [
        {
          "output_type": "stream",
          "name": "stdout",
          "text": [
            "Writing B_8.Text\n"
          ]
        }
      ]
    },
    {
      "cell_type": "markdown",
      "source": [
        "Now, let's execute the program again with these larger files:\n"
      ],
      "metadata": {
        "id": "GRXC5RZndcn8"
      }
    },
    {
      "cell_type": "code",
      "source": [
        "!python3 matrix_multiplication.py A_8.Text B_8.Text"
      ],
      "metadata": {
        "colab": {
          "base_uri": "https://localhost:8080/"
        },
        "id": "4z6h3Ko4dg7M",
        "outputId": "c83c2088-2d75-4d76-d00c-fabf48943ac8"
      },
      "execution_count": 13,
      "outputs": [
        {
          "output_type": "stream",
          "name": "stdout",
          "text": [
            "The matrix contained in the file  A_8.Text  is: \n",
            "[1, 2, 3, 4, 5, 6, 7, 8]\n",
            "[9, 10, 11, 12, 13, 14, 15, 16]\n",
            "[17, 18, 19, 20, 21, 22, 23, 24]\n",
            "[25, 26, 27, 28, 29, 30, 31, 32]\n",
            "[33, 34, 35, 36, 37, 38, 39, 40]\n",
            "[41, 42, 43, 44, 45, 46, 47, 48]\n",
            "[49, 50, 51, 52, 53, 54, 55, 56]\n",
            "[57, 58, 59, 60, 61, 62, 63, 64]\n",
            "The matrix contained in the file  B_8.Text  is: \n",
            "[1, 0, 0, 0, 0, 0, 0, 0]\n",
            "[0, 1, 0, 0, 0, 0, 0, 0]\n",
            "[0, 0, 1, 0, 0, 0, 0, 0]\n",
            "[0, 0, 0, 1, 0, 0, 0, 0]\n",
            "[0, 0, 0, 0, 1, 0, 0, 0]\n",
            "[0, 0, 0, 0, 0, 1, 0, 0]\n",
            "[0, 0, 0, 0, 0, 0, 1, 0]\n",
            "[0, 0, 0, 0, 0, 0, 0, 1]\n",
            "Time required to carry out the computation:  0.00040984153747558594\n",
            "1  2  3  4  5  6  7  8  \n",
            "\n",
            "9  10  11  12  13  14  15  16  \n",
            "\n",
            "17  18  19  20  21  22  23  24  \n",
            "\n",
            "25  26  27  28  29  30  31  32  \n",
            "\n",
            "33  34  35  36  37  38  39  40  \n",
            "\n",
            "41  42  43  44  45  46  47  48  \n",
            "\n",
            "49  50  51  52  53  54  55  56  \n",
            "\n",
            "57  58  59  60  61  62  63  64  \n",
            "\n"
          ]
        }
      ]
    },
    {
      "cell_type": "markdown",
      "source": [
        "And now, a third pair of matrices, now of size 12."
      ],
      "metadata": {
        "id": "9vwh1mTpd3tl"
      }
    },
    {
      "cell_type": "code",
      "source": [
        "%%writefile A_12.Text\n",
        "12\n",
        "1 2 3 4 5 6 7 8 9 10 11 12\n",
        "13 14 15 16 17 18 19 20 21 22 23 24\n",
        "25 26 27 28 29 30 31 32 33 34 35 36\n",
        "37 38 39 40 41 42 43 44 45 46 47 48\n",
        "49 50 51 52 53 54 55 56 57 58 59 60\n",
        "61 62 63 64 65 66 67 68 69 70 71 72\n",
        "73 74 75 76 77 78 79 80 81 82 83 84\n",
        "85 86 87 88 89 90 91 92 93 94 95 96\n",
        "97 98 99 100 101 102 103 104 105 106 107 108\n",
        "109 110 111 112 113 114 115 116 117 118 119 120\n",
        "121 122 123 124 125 126 127 128 129 130 131 132\n",
        "133 134 135 136 137 138 139 140 141 142 143 144"
      ],
      "metadata": {
        "colab": {
          "base_uri": "https://localhost:8080/"
        },
        "id": "q-Y0Zupnd7fc",
        "outputId": "501995ed-e4a4-44b8-90b5-65cc04e05210"
      },
      "execution_count": 14,
      "outputs": [
        {
          "output_type": "stream",
          "name": "stdout",
          "text": [
            "Writing A_12.Text\n"
          ]
        }
      ]
    },
    {
      "cell_type": "code",
      "source": [
        "%%writefile B_12.Text\n",
        "12\n",
        "1 0 0 0 0 0 0 0 0 0 0 0\n",
        "0 1 0 0 0 0 0 0 0 0 0 0\n",
        "0 0 1 0 0 0 0 0 0 0 0 0\n",
        "0 0 0 1 0 0 0 0 0 0 0 0\n",
        "0 0 0 0 1 0 0 0 0 0 0 0\n",
        "0 0 0 0 0 1 0 0 0 0 0 0\n",
        "0 0 0 0 0 0 1 0 0 0 0 0\n",
        "0 0 0 0 0 0 0 1 0 0 0 0\n",
        "0 0 0 0 0 0 0 0 1 0 0 0\n",
        "0 0 0 0 0 0 0 0 0 1 0 0\n",
        "0 0 0 0 0 0 0 0 0 0 1 0\n",
        "0 0 0 0 0 0 0 0 0 0 0 1"
      ],
      "metadata": {
        "colab": {
          "base_uri": "https://localhost:8080/"
        },
        "id": "HkwvVvqteKID",
        "outputId": "ece63a6f-0cdd-4c5d-8204-549f39ae0641"
      },
      "execution_count": 15,
      "outputs": [
        {
          "output_type": "stream",
          "name": "stdout",
          "text": [
            "Writing B_12.Text\n"
          ]
        }
      ]
    },
    {
      "cell_type": "markdown",
      "source": [
        "And now we run the code again:\n"
      ],
      "metadata": {
        "id": "YpJ4nVJdeejT"
      }
    },
    {
      "cell_type": "code",
      "source": [
        "!python3 matrix_multiplication.py A_12.Text B_12.Text"
      ],
      "metadata": {
        "colab": {
          "base_uri": "https://localhost:8080/"
        },
        "id": "xzHlGS8rebGs",
        "outputId": "8326ab01-cb73-470c-e0f1-07aa1a538ba8"
      },
      "execution_count": 16,
      "outputs": [
        {
          "output_type": "stream",
          "name": "stdout",
          "text": [
            "The matrix contained in the file  A_12.Text  is: \n",
            "[1, 2, 3, 4, 5, 6, 7, 8, 9, 10, 11, 12]\n",
            "[13, 14, 15, 16, 17, 18, 19, 20, 21, 22, 23, 24]\n",
            "[25, 26, 27, 28, 29, 30, 31, 32, 33, 34, 35, 36]\n",
            "[37, 38, 39, 40, 41, 42, 43, 44, 45, 46, 47, 48]\n",
            "[49, 50, 51, 52, 53, 54, 55, 56, 57, 58, 59, 60]\n",
            "[61, 62, 63, 64, 65, 66, 67, 68, 69, 70, 71, 72]\n",
            "[73, 74, 75, 76, 77, 78, 79, 80, 81, 82, 83, 84]\n",
            "[85, 86, 87, 88, 89, 90, 91, 92, 93, 94, 95, 96]\n",
            "[97, 98, 99, 100, 101, 102, 103, 104, 105, 106, 107, 108]\n",
            "[109, 110, 111, 112, 113, 114, 115, 116, 117, 118, 119, 120]\n",
            "[121, 122, 123, 124, 125, 126, 127, 128, 129, 130, 131, 132]\n",
            "[133, 134, 135, 136, 137, 138, 139, 140, 141, 142, 143, 144]\n",
            "The matrix contained in the file  B_12.Text  is: \n",
            "[1, 0, 0, 0, 0, 0, 0, 0, 0, 0, 0, 0]\n",
            "[0, 1, 0, 0, 0, 0, 0, 0, 0, 0, 0, 0]\n",
            "[0, 0, 1, 0, 0, 0, 0, 0, 0, 0, 0, 0]\n",
            "[0, 0, 0, 1, 0, 0, 0, 0, 0, 0, 0, 0]\n",
            "[0, 0, 0, 0, 1, 0, 0, 0, 0, 0, 0, 0]\n",
            "[0, 0, 0, 0, 0, 1, 0, 0, 0, 0, 0, 0]\n",
            "[0, 0, 0, 0, 0, 0, 1, 0, 0, 0, 0, 0]\n",
            "[0, 0, 0, 0, 0, 0, 0, 1, 0, 0, 0, 0]\n",
            "[0, 0, 0, 0, 0, 0, 0, 0, 1, 0, 0, 0]\n",
            "[0, 0, 0, 0, 0, 0, 0, 0, 0, 1, 0, 0]\n",
            "[0, 0, 0, 0, 0, 0, 0, 0, 0, 0, 1, 0]\n",
            "[0, 0, 0, 0, 0, 0, 0, 0, 0, 0, 0, 1]\n",
            "Time required to carry out the computation:  0.0007040500640869141\n",
            "1  2  3  4  5  6  7  8  9  10  11  12  \n",
            "\n",
            "13  14  15  16  17  18  19  20  21  22  23  24  \n",
            "\n",
            "25  26  27  28  29  30  31  32  33  34  35  36  \n",
            "\n",
            "37  38  39  40  41  42  43  44  45  46  47  48  \n",
            "\n",
            "49  50  51  52  53  54  55  56  57  58  59  60  \n",
            "\n",
            "61  62  63  64  65  66  67  68  69  70  71  72  \n",
            "\n",
            "73  74  75  76  77  78  79  80  81  82  83  84  \n",
            "\n",
            "85  86  87  88  89  90  91  92  93  94  95  96  \n",
            "\n",
            "97  98  99  100  101  102  103  104  105  106  107  108  \n",
            "\n",
            "109  110  111  112  113  114  115  116  117  118  119  120  \n",
            "\n",
            "121  122  123  124  125  126  127  128  129  130  131  132  \n",
            "\n",
            "133  134  135  136  137  138  139  140  141  142  143  144  \n",
            "\n"
          ]
        }
      ]
    },
    {
      "cell_type": "markdown",
      "source": [
        "Let's download a couple of larger matrices of sizes $100 \\times 100$ and $200 \\times 200$ to carry out some more time consuming computations."
      ],
      "metadata": {
        "id": "UC7djVxo4cZU"
      }
    },
    {
      "cell_type": "code",
      "source": [
        "!wget https://faculty.computing.gvsu.edu/trefftzc/cs677/A_100.Text\n",
        "!wget https://faculty.computing.gvsu.edu/trefftzc/cs677/B_100.Text\n",
        "!wget https://faculty.computing.gvsu.edu/trefftzc/cs677/A_200.Text\n",
        "!wget https://faculty.computing.gvsu.edu/trefftzc/cs677/B_200.Text"
      ],
      "metadata": {
        "colab": {
          "base_uri": "https://localhost:8080/"
        },
        "id": "PqwtDbGE4bYc",
        "outputId": "e17e8f31-c460-4ebc-a528-c7b41c3c3db5"
      },
      "execution_count": 17,
      "outputs": [
        {
          "output_type": "stream",
          "name": "stdout",
          "text": [
            "--2024-09-21 04:54:40--  https://faculty.computing.gvsu.edu/trefftzc/cs677/A_100.Text\n",
            "Resolving faculty.computing.gvsu.edu (faculty.computing.gvsu.edu)... 104.17.87.18, 104.17.88.18, 2606:4700::6811:5812, ...\n",
            "Connecting to faculty.computing.gvsu.edu (faculty.computing.gvsu.edu)|104.17.87.18|:443... connected.\n",
            "HTTP request sent, awaiting response... 200 OK\n",
            "Length: 48998 (48K) [text/plain]\n",
            "Saving to: ‘A_100.Text.1’\n",
            "\n",
            "A_100.Text.1        100%[===================>]  47.85K  --.-KB/s    in 0.06s   \n",
            "\n",
            "2024-09-21 04:54:41 (840 KB/s) - ‘A_100.Text.1’ saved [48998/48998]\n",
            "\n",
            "--2024-09-21 04:54:41--  https://faculty.computing.gvsu.edu/trefftzc/cs677/B_100.Text\n",
            "Resolving faculty.computing.gvsu.edu (faculty.computing.gvsu.edu)... 104.17.87.18, 104.17.88.18, 2606:4700::6811:5812, ...\n",
            "Connecting to faculty.computing.gvsu.edu (faculty.computing.gvsu.edu)|104.17.87.18|:443... connected.\n",
            "HTTP request sent, awaiting response... 200 OK\n",
            "Length: 20104 (20K) [text/plain]\n",
            "Saving to: ‘B_100.Text.1’\n",
            "\n",
            "B_100.Text.1        100%[===================>]  19.63K  --.-KB/s    in 0.03s   \n",
            "\n",
            "2024-09-21 04:54:41 (743 KB/s) - ‘B_100.Text.1’ saved [20104/20104]\n",
            "\n",
            "--2024-09-21 04:54:41--  https://faculty.computing.gvsu.edu/trefftzc/cs677/A_200.Text\n",
            "Resolving faculty.computing.gvsu.edu (faculty.computing.gvsu.edu)... 104.17.87.18, 104.17.88.18, 2606:4700::6811:5812, ...\n",
            "Connecting to faculty.computing.gvsu.edu (faculty.computing.gvsu.edu)|104.17.87.18|:443... connected.\n",
            "HTTP request sent, awaiting response... 200 OK\n",
            "Length: 229098 (224K) [text/plain]\n",
            "Saving to: ‘A_200.Text.1’\n",
            "\n",
            "A_200.Text.1        100%[===================>] 223.73K  --.-KB/s    in 0.1s    \n",
            "\n",
            "2024-09-21 04:54:41 (2.01 MB/s) - ‘A_200.Text.1’ saved [229098/229098]\n",
            "\n",
            "--2024-09-21 04:54:41--  https://faculty.computing.gvsu.edu/trefftzc/cs677/B_200.Text\n",
            "Resolving faculty.computing.gvsu.edu (faculty.computing.gvsu.edu)... 104.17.87.18, 104.17.88.18, 2606:4700::6811:5812, ...\n",
            "Connecting to faculty.computing.gvsu.edu (faculty.computing.gvsu.edu)|104.17.87.18|:443... connected.\n",
            "HTTP request sent, awaiting response... 200 OK\n",
            "Length: 80204 (78K) [text/plain]\n",
            "Saving to: ‘B_200.Text.1’\n",
            "\n",
            "B_200.Text.1        100%[===================>]  78.32K  --.-KB/s    in 0.06s   \n",
            "\n",
            "2024-09-21 04:54:41 (1.33 MB/s) - ‘B_200.Text.1’ saved [80204/80204]\n",
            "\n"
          ]
        }
      ]
    },
    {
      "cell_type": "markdown",
      "source": [
        "# Numpy\n",
        "\n",
        "numpy is a widely used library for numerical linear algebra.\n",
        "It executes code much faster thatn regular python.\n",
        "\n",
        "This is numpy's web site: https://numpy.org/\n",
        "\n",
        "Numpy uses arrays that are much faster to operate on than regular Python lists.\n",
        "\n",
        "Many implementations of numpy use internally an Intel library called MKL(https://en.wikipedia.org/wiki/Math_Kernel_Library) that is multi-threaded and takes advantage of multiple cores.\n",
        "\n",
        "The following code is similar in purpose to the previous matrix multiplication code but it uses numpy arrays instead of Python's lists and it uses the python function matmul.\n",
        "\n",
        "This version of the code performs the matrix multiplication twice, once using the original code and the next time using the matmul function in numpy. The difference in execution speeds is very significant."
      ],
      "metadata": {
        "id": "SXkKoKgM3b-0"
      }
    },
    {
      "cell_type": "code",
      "source": [],
      "metadata": {
        "id": "4LZKme4BJUMl"
      },
      "execution_count": 17,
      "outputs": []
    },
    {
      "cell_type": "code",
      "source": [
        "%%writefile matrix_multiplication.py\n",
        "import sys\n",
        "import time\n",
        "import numpy as np\n",
        "\n",
        "def read_file(file_name):\n",
        "  file_object = open(file_name, \"r\")\n",
        "  # Input the number of rows and columns\n",
        "  size = int(file_object.readline())\n",
        "  rows = size\n",
        "  cols = size\n",
        "  # Initialize an empty matrix\n",
        "  matrix = []\n",
        "\n",
        "  # Input the matrix elements\n",
        "  for i in range(rows):\n",
        "    row = list(map(int, file_object.readline().split()))\n",
        "    matrix.append(row)\n",
        "  # Display the matrix\n",
        "  # print(\"The matrix contained in the file \",file_name,\" is: \")\n",
        "  # for row in matrix:\n",
        "  #   print(row)\n",
        "  return matrix,size\n",
        "\n",
        "# Main code\n",
        "def matrix_multiplication():\n",
        "# Read the content of the files passed in the command line\n",
        "# that contain the matrices to be multiplied\n",
        "  A,size = read_file(sys.argv[1])\n",
        "  B,size = read_file(sys.argv[2])\n",
        "\n",
        "# Initialize the result matrix to 0s\n",
        "  C = [[0 for x in range(size)] for y in range(size)]\n",
        "\n",
        "# Multiply the matrices\n",
        "  N = size\n",
        "  start_time = time.time()\n",
        "  for i in range(N):\n",
        "    for j in range(N):\n",
        "      for k in range(N):\n",
        "        C[i][j] += A[i][k]*B[k][j]\n",
        "\n",
        "  end_time = time.time()\n",
        "  elapsed_time = end_time - start_time\n",
        "  print(\"Time required to carry out the computation with regular python: \",elapsed_time)\n",
        "\n",
        "# Now use numpy to compare the execution times\n",
        "  a_numpy = np.array(A)\n",
        "  b_numpy = np.array(B)\n",
        "  C = [[0 for x in range(size)] for y in range(size)]\n",
        "  c_numpy = np.array(C)\n",
        "  start_time = time.time()\n",
        "  C_numpy = np.matmul(a_numpy,b_numpy)\n",
        "  end_time = time.time()\n",
        "  elapsed_time = end_time - start_time\n",
        "  print(\"Time required to carry out the computation with numpy: \",elapsed_time)\n",
        "\n",
        "\n",
        "if __name__ == \"__main__\":\n",
        "  matrix_multiplication()"
      ],
      "metadata": {
        "colab": {
          "base_uri": "https://localhost:8080/"
        },
        "id": "80loZH1v-xlW",
        "outputId": "20c06c3d-7656-4dd2-bd33-8469d45c92ef"
      },
      "execution_count": 18,
      "outputs": [
        {
          "output_type": "stream",
          "name": "stdout",
          "text": [
            "Overwriting matrix_multiplication.py\n"
          ]
        }
      ]
    },
    {
      "cell_type": "markdown",
      "source": [
        "Now, let's compare the execution times with the matrices of sizes $100 \\times 100$ and $200 \\times 200$\n"
      ],
      "metadata": {
        "id": "QfQkbsZaYzOx"
      }
    },
    {
      "cell_type": "code",
      "source": [
        "!python3 matrix_multiplication.py A_100.Text B_100.Text"
      ],
      "metadata": {
        "colab": {
          "base_uri": "https://localhost:8080/"
        },
        "id": "caCFK40g4o5k",
        "outputId": "771a92f2-f63b-4ff0-e30c-7b0ea40c7eb2"
      },
      "execution_count": 19,
      "outputs": [
        {
          "output_type": "stream",
          "name": "stdout",
          "text": [
            "Time required to carry out the computation with regular python:  0.1957845687866211\n",
            "Time required to carry out the computation with numpy:  0.0009784698486328125\n"
          ]
        }
      ]
    },
    {
      "cell_type": "code",
      "source": [
        "!python3 matrix_multiplication.py A_200.Text B_200.Text"
      ],
      "metadata": {
        "colab": {
          "base_uri": "https://localhost:8080/"
        },
        "id": "wPeAkJwn5fgM",
        "outputId": "56ada071-2b92-4171-ad2a-e6fa51c8e797"
      },
      "execution_count": 20,
      "outputs": [
        {
          "output_type": "stream",
          "name": "stdout",
          "text": [
            "Time required to carry out the computation with regular python:  1.5662422180175781\n",
            "Time required to carry out the computation with numpy:  0.008792400360107422\n"
          ]
        }
      ]
    },
    {
      "cell_type": "markdown",
      "source": [
        "# NUMBA\n",
        "Numba (https://numba.pydata.org/) is another useful library in Python.\n",
        "\n",
        "Python is an interpreted language and that makes it very flexible but rather slow.\n",
        "\n",
        "There is an open-source compiler framework called LLVM (https://llvm.org/). It is very flexible and it has been used to write compilers for many different programming languages and execution environments.\n",
        "\n",
        "Numba uses llvm to compile specific functions (chosen by the programmer) into binary code. This binary code will execute much faster than the original function in python.\n",
        "\n",
        "One imports the numba library at the top of the python program.\n",
        "\n",
        "One then chooses the function that one wants to compile into binary code and uses a decorator at the beginning of that function.\n",
        "\n",
        "The compilation will take some additional time, but after the code has been compiled the execution will be much faster.\n",
        "\n",
        "The code below uses numba to compile the code that multiplieds the matrices. In this particular example, the matrices are converted into numpy arrays before calling the matrix multiplication function. This will allow numba to compile the function and it will help make the execution faster.\n"
      ],
      "metadata": {
        "id": "jP11aLwH6Fiz"
      }
    },
    {
      "cell_type": "code",
      "source": [
        "%%writefile matrix_multiplication.py\n",
        "import sys\n",
        "import time\n",
        "from numba import jit\n",
        "import numpy as np\n",
        "\n",
        "def read_file(file_name):\n",
        "  file_object = open(file_name, \"r\")\n",
        "  # Input the number of rows and columns\n",
        "  size = int(file_object.readline())\n",
        "  rows = size\n",
        "  cols = size\n",
        "  # Initialize an empty matrix\n",
        "  matrix = []\n",
        "\n",
        "  # Input the matrix elements\n",
        "  for i in range(rows):\n",
        "    row = list(map(int, file_object.readline().split()))\n",
        "    matrix.append(row)\n",
        "  # Display the matrix\n",
        "  # print(\"The matrix contained in the file \",file_name,\" is: \")\n",
        "  # for row in matrix:\n",
        "  #   print(row)\n",
        "  return matrix,size\n",
        "\n",
        "@jit(nopython=True)\n",
        "def matrix_multiplication_core(A,B,C,N):\n",
        "  for i in range(N):\n",
        "    for j in range(N):\n",
        "      for k in range(N):\n",
        "        C[i][j] += A[i][k]*B[k][j]\n",
        "\n",
        "\n",
        "\n",
        "def matrix_multiplication_core_with_numpy(A,B,C):\n",
        "  C = np.matmul(A,B)\n",
        "\n",
        "\n",
        "# Main code\n",
        "def matrix_multiplication():\n",
        "# Read the content of the files passed in the command line\n",
        "# that contain the matrices to be multiplied\n",
        "  A,size = read_file(sys.argv[1])\n",
        "  B,size = read_file(sys.argv[2])\n",
        "\n",
        "# Initialize the result matrix to 0s\n",
        "  C = [[0 for x in range(size)] for y in range(size)]\n",
        "  a_numpy = np.array(A)\n",
        "  b_numpy = np.array(B)\n",
        "  c_numpy = np.array(C)\n",
        "# To time without the cost of the compilation, execute a couple of dry runs\n",
        "# without timing\n",
        "  N = size\n",
        "  matrix_multiplication_core(a_numpy,b_numpy,c_numpy,N)\n",
        "  matrix_multiplication_core_with_numpy(a_numpy,b_numpy,c_numpy)\n",
        "\n",
        "# Initialize C again to be ready for the timed executions\n",
        "  C = [[0 for x in range(size)] for y in range(size)]\n",
        "  c_numpy = np.array(C)\n",
        "# Multiply the matrices\n",
        "\n",
        "  start_time = time.time()\n",
        "  matrix_multiplication_core(a_numpy,b_numpy,c_numpy,N)\n",
        "  end_time = time.time()\n",
        "  elapsed_time = end_time - start_time\n",
        "  print(\"Time required to carry out the computation with python compiled with numba: \",elapsed_time)\n",
        "\n",
        "# Now use numpy to compare the execution times\n",
        "  a_numpy = np.array(A)\n",
        "  b_numpy = np.array(B)\n",
        "  C = [[0 for x in range(size)] for y in range(size)]\n",
        "  c_numpy = np.array(C)\n",
        "  start_time = time.time()\n",
        "  matrix_multiplication_core_with_numpy(a_numpy,b_numpy,c_numpy)\n",
        "  end_time = time.time()\n",
        "  elapsed_time = end_time - start_time\n",
        "  print(\"Time required to carry out the computation with numpy: \",elapsed_time)\n",
        "\n",
        "\n",
        "if __name__ == \"__main__\":\n",
        "  matrix_multiplication()"
      ],
      "metadata": {
        "colab": {
          "base_uri": "https://localhost:8080/"
        },
        "id": "L3J6N51b6N2D",
        "outputId": "7b26206d-c5ba-4909-e104-ab28722b1d49"
      },
      "execution_count": 21,
      "outputs": [
        {
          "output_type": "stream",
          "name": "stdout",
          "text": [
            "Overwriting matrix_multiplication.py\n"
          ]
        }
      ]
    },
    {
      "cell_type": "code",
      "source": [
        "!python3 matrix_multiplication.py A_100.Text B_100.Text"
      ],
      "metadata": {
        "colab": {
          "base_uri": "https://localhost:8080/"
        },
        "id": "0io5aTLo73y0",
        "outputId": "aba264f6-7e65-40e0-822b-c6552b0a1533"
      },
      "execution_count": 22,
      "outputs": [
        {
          "output_type": "stream",
          "name": "stdout",
          "text": [
            "Time required to carry out the computation with python compiled with numba:  0.0006916522979736328\n",
            "Time required to carry out the computation with numpy:  0.0009198188781738281\n"
          ]
        }
      ]
    },
    {
      "cell_type": "code",
      "source": [
        "!python3 matrix_multiplication.py A_200.Text B_200.Text"
      ],
      "metadata": {
        "colab": {
          "base_uri": "https://localhost:8080/"
        },
        "id": "EtHhKseSF1I7",
        "outputId": "3d2545e0-79c7-4bd0-a8c1-802c50c0f8a8"
      },
      "execution_count": 23,
      "outputs": [
        {
          "output_type": "stream",
          "name": "stdout",
          "text": [
            "Time required to carry out the computation with python compiled with numba:  0.007699489593505859\n",
            "Time required to carry out the computation with numpy:  0.010648250579833984\n"
          ]
        }
      ]
    },
    {
      "cell_type": "markdown",
      "source": [
        "And now with prange to parallelize the most external loop"
      ],
      "metadata": {
        "id": "EzfLZjpU7BW_"
      }
    },
    {
      "cell_type": "code",
      "source": [
        "%%writefile matrix_multiplication.py\n",
        "import sys\n",
        "import time\n",
        "from numba import jit,prange\n",
        "import numpy as np\n",
        "\n",
        "def read_file(file_name):\n",
        "  file_object = open(file_name, \"r\")\n",
        "  # Input the number of rows and columns\n",
        "  size = int(file_object.readline())\n",
        "  rows = size\n",
        "  cols = size\n",
        "  # Initialize an empty matrix\n",
        "  matrix = []\n",
        "\n",
        "  # Input the matrix elements\n",
        "  for i in range(rows):\n",
        "    row = list(map(int, file_object.readline().split()))\n",
        "    matrix.append(row)\n",
        "  # Display the matrix\n",
        "  # print(\"The matrix contained in the file \",file_name,\" is: \")\n",
        "  # for row in matrix:\n",
        "  #   print(row)\n",
        "  return matrix,size\n",
        "\n",
        "@jit(nopython=True,parallel=True)\n",
        "def matrix_multiplication_core(A,B,C,N):\n",
        "  for i in prange(N):\n",
        "    for j in range(N):\n",
        "      for k in range(N):\n",
        "        C[i][j] += A[i][k]*B[k][j]\n",
        "\n",
        "\n",
        "\n",
        "def matrix_multiplication_core_with_numpy(A,B,C):\n",
        "  C = np.matmul(A,B)\n",
        "\n",
        "\n",
        "# Main code\n",
        "def matrix_multiplication():\n",
        "# Read the content of the files passed in the command line\n",
        "# that contain the matrices to be multiplied\n",
        "  A,size = read_file(sys.argv[1])\n",
        "  B,size = read_file(sys.argv[2])\n",
        "\n",
        "# Initialize the result matrix to 0s\n",
        "  C = [[0 for x in range(size)] for y in range(size)]\n",
        "  a_numpy = np.array(A)\n",
        "  b_numpy = np.array(B)\n",
        "  c_numpy = np.array(C)\n",
        "# To time without the cost of the compilation, execute a couple of dry runs\n",
        "# without timing\n",
        "  N = size\n",
        "  matrix_multiplication_core(a_numpy,b_numpy,c_numpy,N)\n",
        "  matrix_multiplication_core_with_numpy(a_numpy,b_numpy,c_numpy)\n",
        "\n",
        "# Initialize C again to be ready for the timed executions\n",
        "  C = [[0 for x in range(size)] for y in range(size)]\n",
        "  c_numpy = np.array(C)\n",
        "# Multiply the matrices\n",
        "\n",
        "  start_time = time.time()\n",
        "  matrix_multiplication_core(a_numpy,b_numpy,c_numpy,N)\n",
        "  end_time = time.time()\n",
        "  elapsed_time = end_time - start_time\n",
        "  print(\"Time required to carry out the computation with python compiled with numba: \",elapsed_time)\n",
        "\n",
        "# Now use numpy to compare the execution times\n",
        "  a_numpy = np.array(A)\n",
        "  b_numpy = np.array(B)\n",
        "  C = [[0 for x in range(size)] for y in range(size)]\n",
        "  c_numpy = np.array(C)\n",
        "  start_time = time.time()\n",
        "  matrix_multiplication_core_with_numpy(a_numpy,b_numpy,c_numpy)\n",
        "  end_time = time.time()\n",
        "  elapsed_time = end_time - start_time\n",
        "  print(\"Time required to carry out the computation with numpy: \",elapsed_time)\n",
        "\n",
        "\n",
        "if __name__ == \"__main__\":\n",
        "  matrix_multiplication()"
      ],
      "metadata": {
        "colab": {
          "base_uri": "https://localhost:8080/"
        },
        "id": "fE-xLd107LNm",
        "outputId": "6a50233d-ae6f-4b12-b488-dbb405710dc0"
      },
      "execution_count": 27,
      "outputs": [
        {
          "output_type": "stream",
          "name": "stdout",
          "text": [
            "Overwriting matrix_multiplication.py\n"
          ]
        }
      ]
    },
    {
      "cell_type": "code",
      "source": [
        "!python3 matrix_multiplication.py A_100.Text B_100.Text"
      ],
      "metadata": {
        "colab": {
          "base_uri": "https://localhost:8080/"
        },
        "id": "kCufR3c47fd2",
        "outputId": "f67aa8dd-e767-4318-ee52-d38e60b1f0ce"
      },
      "execution_count": 28,
      "outputs": [
        {
          "output_type": "stream",
          "name": "stdout",
          "text": [
            "Time required to carry out the computation with python compiled with numba:  0.0008451938629150391\n",
            "Time required to carry out the computation with numpy:  0.0009076595306396484\n"
          ]
        }
      ]
    },
    {
      "cell_type": "code",
      "source": [
        "!python3 matrix_multiplication.py A_200.Text B_200.Text"
      ],
      "metadata": {
        "colab": {
          "base_uri": "https://localhost:8080/"
        },
        "id": "Kp0VThow7U3N",
        "outputId": "957671f4-53e7-4b76-bc7b-94470345ddee"
      },
      "execution_count": 29,
      "outputs": [
        {
          "output_type": "stream",
          "name": "stdout",
          "text": [
            "Time required to carry out the computation with python compiled with numba:  0.006304264068603516\n",
            "Time required to carry out the computation with numpy:  0.008056163787841797\n"
          ]
        }
      ]
    }
  ]
}