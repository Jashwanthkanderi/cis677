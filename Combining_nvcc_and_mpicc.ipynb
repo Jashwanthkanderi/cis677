{
  "nbformat": 4,
  "nbformat_minor": 0,
  "metadata": {
    "colab": {
      "provenance": [],
      "authorship_tag": "ABX9TyM4EOL9ZWyJkSJJ7At+W4CH",
      "include_colab_link": true
    },
    "kernelspec": {
      "name": "python3",
      "display_name": "Python 3"
    },
    "language_info": {
      "name": "python"
    }
  },
  "cells": [
    {
      "cell_type": "markdown",
      "metadata": {
        "id": "view-in-github",
        "colab_type": "text"
      },
      "source": [
        "<a href=\"https://colab.research.google.com/github/trefftzc/cis677/blob/main/Combining_nvcc_and_mpicc.ipynb\" target=\"_parent\"><img src=\"https://colab.research.google.com/assets/colab-badge.svg\" alt=\"Open In Colab\"/></a>"
      ]
    },
    {
      "cell_type": "code",
      "execution_count": null,
      "metadata": {
        "id": "G7oW02i69TE2"
      },
      "outputs": [],
      "source": []
    },
    {
      "cell_type": "markdown",
      "source": [
        "# A brief example of how to combine nvcc and mpicc\n",
        "\n",
        "Taken from https://docs.ccv.brown.edu/oscar/gpu-computing/mpi-cuda"
      ],
      "metadata": {
        "id": "SeELNLMbASRK"
      }
    },
    {
      "cell_type": "code",
      "source": [
        "%%writefile main.c\n",
        "/* main.c */\n",
        "#include <mpi.h>\n",
        "#include <stdlib.h>\n",
        "\n",
        "void launchMultiply(float *a, float *b,int n);\n",
        "\n",
        "int main (int argc, char **argv)\n",
        "{\n",
        "    int rank, nprocs;\n",
        "    MPI_Init (&argc, &argv);\n",
        "    MPI_Comm_rank (MPI_COMM_WORLD, &rank);\n",
        "    MPI_Comm_size (MPI_COMM_WORLD, &nprocs);\n",
        "    int n = 128;\n",
        "    /* ... prepare arrays a and b */\n",
        "    float *a;\n",
        "    float *b;\n",
        "    a = (float *) malloc (sizeof(float)*n);\n",
        "    b = (float *) malloc (sizeof(float)*n);\n",
        "    for(int i = 0;i < n;i++) {\n",
        "      a[i] = i;\n",
        "      b[i] = i;\n",
        "    }\n",
        "    launchMultiply (a, b,n);\n",
        "    MPI_Finalize();\n",
        "    return 0;\n",
        "}"
      ],
      "metadata": {
        "colab": {
          "base_uri": "https://localhost:8080/"
        },
        "id": "KGacie0V9bnX",
        "outputId": "ad449da0-adc6-470f-cfce-b2fef78dc629"
      },
      "execution_count": null,
      "outputs": [
        {
          "output_type": "stream",
          "name": "stdout",
          "text": [
            "Overwriting main.c\n"
          ]
        }
      ]
    },
    {
      "cell_type": "code",
      "source": [
        "%%writefile multiply.cu\n",
        "#include <cuda.h>\n",
        "\n",
        "__global__ void __multiply__ (const float *a, float *b)\n",
        "{\n",
        "    const int i = threadIdx.x + blockIdx.x * blockDim.x;\n",
        "    b[i] *= a[i];\n",
        "}\n",
        "\n",
        "extern \"C++\" void launchMultiply(float *a, float *b,int n)\n",
        "{\n",
        "    /* ... load CPU data into GPU buffers a_gpu and b_gpu */\n",
        "      float *device_a;\n",
        "      float *device_b;\n",
        "      cudaMalloc(&device_a,n*sizeof(float));\n",
        "      cudaMalloc(&device_b,n*sizeof(float));\n",
        "      cudaMemcpy(device_a,a,n*sizeof(float),cudaMemcpyHostToDevice);\n",
        "      cudaMemcpy(device_b,b,n*sizeof(float),cudaMemcpyHostToDevice);\n",
        "    __multiply__ <<< (n+31)/32,32 >>> (device_a, device_b);\n",
        "\n",
        "\n",
        "    /* ... transfer data from GPU to CPU */\n",
        "      cudaMemcpy(a,device_a,n*sizeof(float),cudaMemcpyDeviceToHost);\n",
        "      cudaMemcpy(b,device_b,n*sizeof(float),cudaMemcpyDeviceToHost);\n",
        "\n",
        "      cudaFree(device_a);\n",
        "      cudaFree(device_b);\n",
        "}"
      ],
      "metadata": {
        "colab": {
          "base_uri": "https://localhost:8080/"
        },
        "id": "37-9f-589z1U",
        "outputId": "6a15254f-1516-4aad-e298-d5ba4625c1a0"
      },
      "execution_count": null,
      "outputs": [
        {
          "output_type": "stream",
          "name": "stdout",
          "text": [
            "Writing multiply.cu\n"
          ]
        }
      ]
    },
    {
      "cell_type": "code",
      "source": [
        "%%writefile Makefile\n",
        "combined: main.o multiply.o\n",
        "  mpic++ main.o multiply.o -lcudart -L/usr/local/cuda-12.4/lib64 -o combined\n",
        "\n",
        "main.o: main.c\n",
        "  mpic++ -c main.c -o main.o\n",
        "\n",
        "multiply.o: multiply.cu\n"
      ],
      "metadata": {
        "colab": {
          "base_uri": "https://localhost:8080/"
        },
        "id": "OcocxAUo97Ek",
        "outputId": "e0630d88-6af0-4236-f730-2d77dc828239"
      },
      "execution_count": null,
      "outputs": [
        {
          "output_type": "stream",
          "name": "stdout",
          "text": [
            "Overwriting Makefile\n"
          ]
        }
      ]
    },
    {
      "cell_type": "code",
      "source": [
        "!nvcc -c multiply.cu -o multiply.o\n",
        "!mpic++ -c main.c -o main.o\n",
        "!mpic++ main.o multiply.o -o combined -lcudart -L/usr/local/cuda-12.2/lib64\n",
        "\n"
      ],
      "metadata": {
        "id": "YHCQml3G9-9l"
      },
      "execution_count": null,
      "outputs": []
    },
    {
      "cell_type": "code",
      "source": [
        "!./combined"
      ],
      "metadata": {
        "id": "OgwI8uR_-3s-"
      },
      "execution_count": null,
      "outputs": []
    },
    {
      "cell_type": "markdown",
      "source": [
        "# An alternative, using nvcc only"
      ],
      "metadata": {
        "id": "mq_pf6PMsAUW"
      }
    },
    {
      "cell_type": "code",
      "source": [
        "%%writefile test.cu\n",
        "#include<unistd.h>\n",
        "#include<cuda.h>\n",
        "#include\"mpi.h\"\n",
        "#include <iostream>\n",
        "\n",
        "using namespace std;\n",
        "\n",
        "int main(int argc, char *argv[])\n",
        "{\n",
        "int MyRank, NumberOfProcessors, Root = 0;\n",
        "\n",
        "    MPI_Init(&argc, &argv);\n",
        "    MPI_Comm_size(MPI_COMM_WORLD,&NumberOfProcessors);\n",
        "    MPI_Comm_rank(MPI_COMM_WORLD,&MyRank);\n",
        "\n",
        "    if(MyRank == Root)\n",
        "            cout<<\"My Rank is 0.\" << endl;\n",
        "    else\n",
        "            cout<<\"My Rank is \" << MyRank << endl;\n",
        "    MPI_Finalize();\n",
        "\n",
        "    return(0);\n",
        "}"
      ],
      "metadata": {
        "id": "TqgcmirfsEZe",
        "outputId": "d66b1039-c9f3-4468-89ad-8991efd7482a",
        "colab": {
          "base_uri": "https://localhost:8080/"
        }
      },
      "execution_count": 1,
      "outputs": [
        {
          "output_type": "stream",
          "name": "stdout",
          "text": [
            "Writing test.cu\n"
          ]
        }
      ]
    },
    {
      "cell_type": "code",
      "source": [
        "!nvcc test.cu -o test -I/usr/lib/x86_64-linux-gnu/openmpi/include/openmpi -I/usr/lib/x86_64-linux-gnu/openmpi/include -L/usr/lib/x86_64-linux-gnu/openmpi/lib -lmpi -DUSE_MPI=1"
      ],
      "metadata": {
        "id": "Rk1VfrvNsTK2"
      },
      "execution_count": 3,
      "outputs": []
    },
    {
      "cell_type": "code",
      "source": [
        "!OMPI_ALLOW_RUN_AS_ROOT=1\n",
        "!mpiexec --allow-run-as-root -n 2 --oversubscribe ./test"
      ],
      "metadata": {
        "id": "jeq0vDxpsb9W",
        "outputId": "b8f7edba-62e2-44bf-9c61-66d7e7974b7b",
        "colab": {
          "base_uri": "https://localhost:8080/"
        }
      },
      "execution_count": 6,
      "outputs": [
        {
          "output_type": "stream",
          "name": "stdout",
          "text": [
            "My Rank is 1\n",
            "My Rank is 0.\n"
          ]
        }
      ]
    }
  ]
}