{
  "nbformat": 4,
  "nbformat_minor": 0,
  "metadata": {
    "colab": {
      "provenance": [],
      "gpuType": "T4",
      "authorship_tag": "ABX9TyOl5ey6iIlAl9Au+aJqbZnM",
      "include_colab_link": true
    },
    "kernelspec": {
      "name": "python3",
      "display_name": "Python 3"
    },
    "language_info": {
      "name": "python"
    },
    "accelerator": "GPU"
  },
  "cells": [
    {
      "cell_type": "markdown",
      "metadata": {
        "id": "view-in-github",
        "colab_type": "text"
      },
      "source": [
        "<a href=\"https://colab.research.google.com/github/trefftzc/cis677/blob/main/Timing_matrix_mult_gpu.ipynb\" target=\"_parent\"><img src=\"https://colab.research.google.com/assets/colab-badge.svg\" alt=\"Open In Colab\"/></a>"
      ]
    },
    {
      "cell_type": "markdown",
      "source": [
        "# Multiplying matrices on the GPU on COLAB\n",
        "\n",
        "NVIDIA has created a library called cupy that can be used in place of numpy.\n",
        "Instead of executing on the CPU, the code executes on the GPU.\n",
        "COLAB allows its users to select a T4 NVIDIA GPU as the execution environment.\n",
        "In the Runtime option, select\n",
        " Change runtime type\n",
        "\n",
        "The cupy library is available on COLAB by default.\n",
        "It is not necessary to install any additional libraries."
      ],
      "metadata": {
        "id": "AMGCq8Lb9V7m"
      }
    },
    {
      "cell_type": "code",
      "execution_count": null,
      "metadata": {
        "colab": {
          "base_uri": "https://localhost:8080/"
        },
        "id": "BOBYTeY77WNY",
        "outputId": "3769e6d9-caf6-424d-cc9b-0eeeafd3e5b9"
      },
      "outputs": [
        {
          "output_type": "stream",
          "name": "stdout",
          "text": [
            "Writing multiply_matrices.py\n"
          ]
        }
      ],
      "source": [
        "%%writefile multiply_matrices.py\n",
        "import sys\n",
        "import cupy as cp\n",
        "import time\n",
        "n = int(sys.argv[1])\n",
        "print(\"Matrix size: \",n)\n",
        "# Generate the first matrix\n",
        "a = cp.arange(n*n).reshape((n,n))\n",
        "b = cp.eye(n)\n",
        "c = cp.zeros((n,n))\n",
        "# print(a)\n",
        "# print(b)\n",
        "\n",
        "# Time the matrix multiplication using cu\n",
        "start_gpu = cp.cuda.Event()\n",
        "end_gpu = cp.cuda.Event()\n",
        "start_gpu.record()\n",
        "c = cp.matmul(a,b)\n",
        "end_gpu.record()\n",
        "end_gpu.synchronize()\n",
        "t_gpu = cp.cuda.get_elapsed_time(start_gpu, end_gpu)\n",
        "print(\"With numpy: \",t_gpu,\" milliseconds\")\n",
        "# print(d)"
      ]
    },
    {
      "cell_type": "markdown",
      "source": [
        "A short warm-up run..."
      ],
      "metadata": {
        "id": "cg66gQ3qIqMG"
      }
    },
    {
      "cell_type": "code",
      "source": [
        "!python multiply_matrices.py 10"
      ],
      "metadata": {
        "colab": {
          "base_uri": "https://localhost:8080/"
        },
        "id": "-7W3ebQA9Fi0",
        "outputId": "dc0a640f-4074-426e-fb4b-def321912a54"
      },
      "execution_count": null,
      "outputs": [
        {
          "output_type": "stream",
          "name": "stdout",
          "text": [
            "Matrix size:  10\n",
            "With numpy:  435.2064208984375  milliseconds\n"
          ]
        }
      ]
    },
    {
      "cell_type": "code",
      "source": [
        "!python multiply_matrices.py 2000\n",
        "!python multiply_matrices.py 3000\n",
        "!python multiply_matrices.py 4000\n",
        "!python multiply_matrices.py 5000"
      ],
      "metadata": {
        "colab": {
          "base_uri": "https://localhost:8080/"
        },
        "id": "LDX4SVb180X1",
        "outputId": "964129ed-5a37-42e1-b22b-67107f67a9a5"
      },
      "execution_count": null,
      "outputs": [
        {
          "output_type": "stream",
          "name": "stdout",
          "text": [
            "Matrix size:  2000\n",
            "With numpy:  196.669189453125  milliseconds\n",
            "Matrix size:  3000\n",
            "With numpy:  384.5324401855469  milliseconds\n",
            "Matrix size:  4000\n",
            "With numpy:  553.7525634765625  milliseconds\n",
            "Matrix size:  5000\n",
            "With numpy:  1046.941650390625  milliseconds\n"
          ]
        }
      ]
    }
  ]
}