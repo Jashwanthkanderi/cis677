{
  "nbformat": 4,
  "nbformat_minor": 0,
  "metadata": {
    "colab": {
      "provenance": [],
      "authorship_tag": "ABX9TyOZ52r27KI2W3ZuwLzFQtE9",
      "include_colab_link": true
    },
    "kernelspec": {
      "name": "python3",
      "display_name": "Python 3"
    },
    "language_info": {
      "name": "python"
    }
  },
  "cells": [
    {
      "cell_type": "markdown",
      "metadata": {
        "id": "view-in-github",
        "colab_type": "text"
      },
      "source": [
        "<a href=\"https://colab.research.google.com/github/trefftzc/cis677/blob/main/CIS677_Fall2024_Amdahl.ipynb\" target=\"_parent\"><img src=\"https://colab.research.google.com/assets/colab-badge.svg\" alt=\"Open In Colab\"/></a>"
      ]
    },
    {
      "cell_type": "markdown",
      "source": [
        "# CIS 677 -- A COLAB notebook to practice some fundamental actions\n",
        "\n",
        "Edit this cell and write your name here: _______________________________________\n",
        "\n",
        "Save this notebook on your Google account:\n",
        "\n",
        "1. Click on File and select Save on Drive\n",
        "2. Rename the file to your last name\n",
        "3. Make sure that your notebook is visible to others. Check on the Share button at the top, click on General Access and select Anyone with the link\n"
      ],
      "metadata": {
        "id": "5fDj2odBxblE"
      }
    },
    {
      "cell_type": "markdown",
      "source": [
        "It is possible to interact with the operating system of the computer at Google that is hosting this notebook.\n",
        "\n",
        "To interact with the operating system, start with the ! character in a code cell.\n",
        "\n",
        "When you click on the cell below, you will see the current list of files on the host computer."
      ],
      "metadata": {
        "id": "r5m7pKZuy49u"
      }
    },
    {
      "cell_type": "code",
      "execution_count": 2,
      "metadata": {
        "colab": {
          "base_uri": "https://localhost:8080/"
        },
        "id": "JehGGuZJxW4n",
        "outputId": "9f9092a9-942d-418e-cccd-c1e7bde756c0"
      },
      "outputs": [
        {
          "output_type": "stream",
          "name": "stdout",
          "text": [
            "A_100.Text  A_200.Text\tB_100.Text  B_200.Text\tsample_data\n"
          ]
        }
      ],
      "source": [
        "!ls"
      ]
    },
    {
      "cell_type": "markdown",
      "source": [
        "# Matrix multiplication\n",
        "\n",
        "Matrix multiplication is a fundamental operation in numerical linear algebra.\n",
        "\n",
        "Given two matrices:\n",
        "1. Matrix A with size $l \\times m$\n",
        "2. Matrix B with size $m \\times n$\n",
        "The product will be a matrix C of size $l \\times n$\n",
        "\n",
        "This is Wikipedia's entry on Matrix Multiplication:\n",
        "\n",
        "https://en.wikipedia.org/wiki/Matrix_multiplication#:~:text=For%20matrix%20multiplication%2C%20the%20number,B%20is%20denoted%20as%20AB.\n",
        "\n",
        "To simplify things, we will use square matrices, with the same number of rows and columns, for the following examples."
      ],
      "metadata": {
        "id": "WHYN4Lwtzzyz"
      }
    },
    {
      "cell_type": "markdown",
      "source": [
        "Let's create a couple of sample matrices.\n",
        "\n",
        "It is possible to create a file in COLAB using the directive\n",
        "%%writefile nameOfTheFile"
      ],
      "metadata": {
        "id": "DtPvFtn03b0D"
      }
    },
    {
      "cell_type": "code",
      "source": [
        "%%writefile A_4.Text\n",
        "4\n",
        "1 2 3 4\n",
        "5 6 7 8\n",
        "9 10 11 12\n",
        "13 14 15 16"
      ],
      "metadata": {
        "colab": {
          "base_uri": "https://localhost:8080/"
        },
        "id": "J4QI__pv3myj",
        "outputId": "03547f87-f9a2-41b8-b683-50f0cc94aa4e"
      },
      "execution_count": 3,
      "outputs": [
        {
          "output_type": "stream",
          "name": "stdout",
          "text": [
            "Writing A_4.Text\n"
          ]
        }
      ]
    },
    {
      "cell_type": "code",
      "source": [
        "%%writefile B_4.Text\n",
        "4\n",
        "1 0 0 0\n",
        "0 1 0 0\n",
        "0 0 1 0\n",
        "0 0 0 1"
      ],
      "metadata": {
        "colab": {
          "base_uri": "https://localhost:8080/"
        },
        "id": "3ClBKz3O3z98",
        "outputId": "efada12b-01f3-4774-ab29-022769d98f0e"
      },
      "execution_count": 4,
      "outputs": [
        {
          "output_type": "stream",
          "name": "stdout",
          "text": [
            "Writing B_4.Text\n"
          ]
        }
      ]
    },
    {
      "cell_type": "markdown",
      "source": [
        "Now, let's create a program that reads both files, multiplies the corresponding matrices and then prints the result."
      ],
      "metadata": {
        "id": "-79zoiRv4CKb"
      }
    },
    {
      "cell_type": "code",
      "source": [
        "%%writefile matrix_multiplication.py\n",
        "import sys\n",
        "import time\n",
        "\n",
        "def read_file(file_name):\n",
        "  file_object = open(file_name, \"r\")\n",
        "  # Input the number of rows and columns\n",
        "  size = int(file_object.readline())\n",
        "  rows = size\n",
        "  cols = size\n",
        "  # Initialize an empty matrix\n",
        "  matrix = []\n",
        "\n",
        "  # Input the matrix elements\n",
        "  for i in range(rows):\n",
        "    row = list(map(int, file_object.readline().split()))\n",
        "    matrix.append(row)\n",
        "  # Display the matrix\n",
        "  print(\"The matrix contained in the file \",file_name,\" is: \")\n",
        "  for row in matrix:\n",
        "    print(row)\n",
        "  return matrix,size\n",
        "\n",
        "# Main code\n",
        "\n",
        "# Read the content of the files passed in the command line\n",
        "# that contain the matrices to be multiplied\n",
        "A,size = read_file(sys.argv[1])\n",
        "B,size = read_file(sys.argv[2])\n",
        "\n",
        "# Initialize the result matrix to 0s\n",
        "C = [[0 for x in range(size)] for y in range(size)]\n",
        "\n",
        "# Multiply the matrices\n",
        "N = size\n",
        "start_time = time.time()\n",
        "for i in range(N):\n",
        "  for j in range(N):\n",
        "    for k in range(N):\n",
        "      C[i][j] += A[i][k]*B[k][j]\n",
        "\n",
        "end_time = time.time()\n",
        "elapsed_time = end_time - start_time\n",
        "print(\"Time required to carry out the computation: \",elapsed_time)\n",
        "\n",
        "# Print out the resulting matrix\n",
        "for i in range(N):\n",
        "  for j in range(N):\n",
        "    print(C[i][j],\" \",end=\"\")\n",
        "  print(\"\\n\")"
      ],
      "metadata": {
        "colab": {
          "base_uri": "https://localhost:8080/"
        },
        "id": "Emsbl1Z84ksr",
        "outputId": "4d44f85e-f752-4a16-d50f-952a5cf2ca20"
      },
      "execution_count": 5,
      "outputs": [
        {
          "output_type": "stream",
          "name": "stdout",
          "text": [
            "Writing matrix_multiplication.py\n"
          ]
        }
      ]
    },
    {
      "cell_type": "code",
      "source": [
        "!python3 matrix_multiplication.py A_4.Text B_4.Text"
      ],
      "metadata": {
        "colab": {
          "base_uri": "https://localhost:8080/"
        },
        "id": "mbNaVS596fyz",
        "outputId": "7558b047-8049-44dc-894c-c52d4e2ace79"
      },
      "execution_count": 6,
      "outputs": [
        {
          "output_type": "stream",
          "name": "stdout",
          "text": [
            "The matrix contained in the file  A_4.Text  is: \n",
            "[1, 2, 3, 4]\n",
            "[5, 6, 7, 8]\n",
            "[9, 10, 11, 12]\n",
            "[13, 14, 15, 16]\n",
            "The matrix contained in the file  B_4.Text  is: \n",
            "[1, 0, 0, 0]\n",
            "[0, 1, 0, 0]\n",
            "[0, 0, 1, 0]\n",
            "[0, 0, 0, 1]\n",
            "Time required to carry out the computation:  3.218650817871094e-05\n",
            "1  2  3  4  \n",
            "\n",
            "5  6  7  8  \n",
            "\n",
            "9  10  11  12  \n",
            "\n",
            "13  14  15  16  \n",
            "\n"
          ]
        }
      ]
    },
    {
      "cell_type": "markdown",
      "source": [
        "Let's try with slightly larger matrices:"
      ],
      "metadata": {
        "id": "aod54nnnc9A7"
      }
    },
    {
      "cell_type": "code",
      "source": [
        "%%writefile A_8.Text\n",
        "8\n",
        "1 2 3 4 5 6 7 8\n",
        "9 10 11 12 13 14 15 16\n",
        "17 18 19 20 21 22 23 24\n",
        "25 26 27 28 29 30 31 32\n",
        "33 34 35 36 37 38 39 40\n",
        "41 42 43 44 45 46 47 48\n",
        "49 50 51 52 53 54 55 56\n",
        "57 58 59 60 61 62 63 64\n"
      ],
      "metadata": {
        "colab": {
          "base_uri": "https://localhost:8080/"
        },
        "id": "KTajm9VedBYs",
        "outputId": "4e2916d9-ad92-41a5-e1c3-e9d2d01d835e"
      },
      "execution_count": 7,
      "outputs": [
        {
          "output_type": "stream",
          "name": "stdout",
          "text": [
            "Writing A_8.Text\n"
          ]
        }
      ]
    },
    {
      "cell_type": "code",
      "source": [
        "%%writefile B_8.Text\n",
        "8\n",
        "1 0 0 0 0 0 0 0\n",
        "0 1 0 0 0 0 0 0\n",
        "0 0 1 0 0 0 0 0\n",
        "0 0 0 1 0 0 0 0\n",
        "0 0 0 0 1 0 0 0\n",
        "0 0 0 0 0 1 0 0\n",
        "0 0 0 0 0 0 1 0\n",
        "0 0 0 0 0 0 0 1"
      ],
      "metadata": {
        "colab": {
          "base_uri": "https://localhost:8080/"
        },
        "id": "VmCFGOAcdNX0",
        "outputId": "401902e6-0456-4e52-daca-ff5bb64f66eb"
      },
      "execution_count": 8,
      "outputs": [
        {
          "output_type": "stream",
          "name": "stdout",
          "text": [
            "Writing B_8.Text\n"
          ]
        }
      ]
    },
    {
      "cell_type": "markdown",
      "source": [
        "Now, let's execute the program again with these larger files:\n"
      ],
      "metadata": {
        "id": "GRXC5RZndcn8"
      }
    },
    {
      "cell_type": "code",
      "source": [
        "!python3 matrix_multiplication.py A_8.Text B_8.Text"
      ],
      "metadata": {
        "colab": {
          "base_uri": "https://localhost:8080/"
        },
        "id": "4z6h3Ko4dg7M",
        "outputId": "562ab97b-4681-4cbd-ce73-17bbc103154e"
      },
      "execution_count": 9,
      "outputs": [
        {
          "output_type": "stream",
          "name": "stdout",
          "text": [
            "The matrix contained in the file  A_8.Text  is: \n",
            "[1, 2, 3, 4, 5, 6, 7, 8]\n",
            "[9, 10, 11, 12, 13, 14, 15, 16]\n",
            "[17, 18, 19, 20, 21, 22, 23, 24]\n",
            "[25, 26, 27, 28, 29, 30, 31, 32]\n",
            "[33, 34, 35, 36, 37, 38, 39, 40]\n",
            "[41, 42, 43, 44, 45, 46, 47, 48]\n",
            "[49, 50, 51, 52, 53, 54, 55, 56]\n",
            "[57, 58, 59, 60, 61, 62, 63, 64]\n",
            "The matrix contained in the file  B_8.Text  is: \n",
            "[1, 0, 0, 0, 0, 0, 0, 0]\n",
            "[0, 1, 0, 0, 0, 0, 0, 0]\n",
            "[0, 0, 1, 0, 0, 0, 0, 0]\n",
            "[0, 0, 0, 1, 0, 0, 0, 0]\n",
            "[0, 0, 0, 0, 1, 0, 0, 0]\n",
            "[0, 0, 0, 0, 0, 1, 0, 0]\n",
            "[0, 0, 0, 0, 0, 0, 1, 0]\n",
            "[0, 0, 0, 0, 0, 0, 0, 1]\n",
            "Time required to carry out the computation:  0.00018453598022460938\n",
            "1  2  3  4  5  6  7  8  \n",
            "\n",
            "9  10  11  12  13  14  15  16  \n",
            "\n",
            "17  18  19  20  21  22  23  24  \n",
            "\n",
            "25  26  27  28  29  30  31  32  \n",
            "\n",
            "33  34  35  36  37  38  39  40  \n",
            "\n",
            "41  42  43  44  45  46  47  48  \n",
            "\n",
            "49  50  51  52  53  54  55  56  \n",
            "\n",
            "57  58  59  60  61  62  63  64  \n",
            "\n"
          ]
        }
      ]
    },
    {
      "cell_type": "markdown",
      "source": [
        "And now, a third pair of matrices, now of size 12."
      ],
      "metadata": {
        "id": "9vwh1mTpd3tl"
      }
    },
    {
      "cell_type": "code",
      "source": [
        "%%writefile A_12.Text\n",
        "12\n",
        "1 2 3 4 5 6 7 8 9 10 11 12\n",
        "13 14 15 16 17 18 19 20 21 22 23 24\n",
        "25 26 27 28 29 30 31 32 33 34 35 36\n",
        "37 38 39 40 41 42 43 44 45 46 47 48\n",
        "49 50 51 52 53 54 55 56 57 58 59 60\n",
        "61 62 63 64 65 66 67 68 69 70 71 72\n",
        "73 74 75 76 77 78 79 80 81 82 83 84\n",
        "85 86 87 88 89 90 91 92 93 94 95 96\n",
        "97 98 99 100 101 102 103 104 105 106 107 108\n",
        "109 110 111 112 113 114 115 116 117 118 119 120\n",
        "121 122 123 124 125 126 127 128 129 130 131 132\n",
        "133 134 135 136 137 138 139 140 141 142 143 144"
      ],
      "metadata": {
        "colab": {
          "base_uri": "https://localhost:8080/"
        },
        "id": "q-Y0Zupnd7fc",
        "outputId": "6e7466bb-3c12-4661-f7c6-949c9e9039c1"
      },
      "execution_count": 10,
      "outputs": [
        {
          "output_type": "stream",
          "name": "stdout",
          "text": [
            "Writing A_12.Text\n"
          ]
        }
      ]
    },
    {
      "cell_type": "code",
      "source": [
        "%%writefile B_12.Text\n",
        "12\n",
        "1 0 0 0 0 0 0 0 0 0 0 0\n",
        "0 1 0 0 0 0 0 0 0 0 0 0\n",
        "0 0 1 0 0 0 0 0 0 0 0 0\n",
        "0 0 0 1 0 0 0 0 0 0 0 0\n",
        "0 0 0 0 1 0 0 0 0 0 0 0\n",
        "0 0 0 0 0 1 0 0 0 0 0 0\n",
        "0 0 0 0 0 0 1 0 0 0 0 0\n",
        "0 0 0 0 0 0 0 1 0 0 0 0\n",
        "0 0 0 0 0 0 0 0 1 0 0 0\n",
        "0 0 0 0 0 0 0 0 0 1 0 0\n",
        "0 0 0 0 0 0 0 0 0 0 1 0\n",
        "0 0 0 0 0 0 0 0 0 0 0 1"
      ],
      "metadata": {
        "colab": {
          "base_uri": "https://localhost:8080/"
        },
        "id": "HkwvVvqteKID",
        "outputId": "e96df211-fce9-4b3e-e67f-6683199dbbcc"
      },
      "execution_count": 11,
      "outputs": [
        {
          "output_type": "stream",
          "name": "stdout",
          "text": [
            "Writing B_12.Text\n"
          ]
        }
      ]
    },
    {
      "cell_type": "markdown",
      "source": [
        "And now we run the code again:\n"
      ],
      "metadata": {
        "id": "YpJ4nVJdeejT"
      }
    },
    {
      "cell_type": "code",
      "source": [
        "!python3 matrix_multiplication.py A_12.Text B_12.Text"
      ],
      "metadata": {
        "colab": {
          "base_uri": "https://localhost:8080/"
        },
        "id": "xzHlGS8rebGs",
        "outputId": "3e4d2be9-78a0-4084-93e3-56375a90994c"
      },
      "execution_count": 12,
      "outputs": [
        {
          "output_type": "stream",
          "name": "stdout",
          "text": [
            "The matrix contained in the file  A_12.Text  is: \n",
            "[1, 2, 3, 4, 5, 6, 7, 8, 9, 10, 11, 12]\n",
            "[13, 14, 15, 16, 17, 18, 19, 20, 21, 22, 23, 24]\n",
            "[25, 26, 27, 28, 29, 30, 31, 32, 33, 34, 35, 36]\n",
            "[37, 38, 39, 40, 41, 42, 43, 44, 45, 46, 47, 48]\n",
            "[49, 50, 51, 52, 53, 54, 55, 56, 57, 58, 59, 60]\n",
            "[61, 62, 63, 64, 65, 66, 67, 68, 69, 70, 71, 72]\n",
            "[73, 74, 75, 76, 77, 78, 79, 80, 81, 82, 83, 84]\n",
            "[85, 86, 87, 88, 89, 90, 91, 92, 93, 94, 95, 96]\n",
            "[97, 98, 99, 100, 101, 102, 103, 104, 105, 106, 107, 108]\n",
            "[109, 110, 111, 112, 113, 114, 115, 116, 117, 118, 119, 120]\n",
            "[121, 122, 123, 124, 125, 126, 127, 128, 129, 130, 131, 132]\n",
            "[133, 134, 135, 136, 137, 138, 139, 140, 141, 142, 143, 144]\n",
            "The matrix contained in the file  B_12.Text  is: \n",
            "[1, 0, 0, 0, 0, 0, 0, 0, 0, 0, 0, 0]\n",
            "[0, 1, 0, 0, 0, 0, 0, 0, 0, 0, 0, 0]\n",
            "[0, 0, 1, 0, 0, 0, 0, 0, 0, 0, 0, 0]\n",
            "[0, 0, 0, 1, 0, 0, 0, 0, 0, 0, 0, 0]\n",
            "[0, 0, 0, 0, 1, 0, 0, 0, 0, 0, 0, 0]\n",
            "[0, 0, 0, 0, 0, 1, 0, 0, 0, 0, 0, 0]\n",
            "[0, 0, 0, 0, 0, 0, 1, 0, 0, 0, 0, 0]\n",
            "[0, 0, 0, 0, 0, 0, 0, 1, 0, 0, 0, 0]\n",
            "[0, 0, 0, 0, 0, 0, 0, 0, 1, 0, 0, 0]\n",
            "[0, 0, 0, 0, 0, 0, 0, 0, 0, 1, 0, 0]\n",
            "[0, 0, 0, 0, 0, 0, 0, 0, 0, 0, 1, 0]\n",
            "[0, 0, 0, 0, 0, 0, 0, 0, 0, 0, 0, 1]\n",
            "Time required to carry out the computation:  0.0009126663208007812\n",
            "1  2  3  4  5  6  7  8  9  10  11  12  \n",
            "\n",
            "13  14  15  16  17  18  19  20  21  22  23  24  \n",
            "\n",
            "25  26  27  28  29  30  31  32  33  34  35  36  \n",
            "\n",
            "37  38  39  40  41  42  43  44  45  46  47  48  \n",
            "\n",
            "49  50  51  52  53  54  55  56  57  58  59  60  \n",
            "\n",
            "61  62  63  64  65  66  67  68  69  70  71  72  \n",
            "\n",
            "73  74  75  76  77  78  79  80  81  82  83  84  \n",
            "\n",
            "85  86  87  88  89  90  91  92  93  94  95  96  \n",
            "\n",
            "97  98  99  100  101  102  103  104  105  106  107  108  \n",
            "\n",
            "109  110  111  112  113  114  115  116  117  118  119  120  \n",
            "\n",
            "121  122  123  124  125  126  127  128  129  130  131  132  \n",
            "\n",
            "133  134  135  136  137  138  139  140  141  142  143  144  \n",
            "\n"
          ]
        }
      ]
    },
    {
      "cell_type": "markdown",
      "source": [
        "Save your version of this notebook in your drive on Google.\n",
        "On Blackboard, write the URL for your notebook."
      ],
      "metadata": {
        "id": "0K62bYR2j1g9"
      }
    },
    {
      "cell_type": "markdown",
      "source": [
        "# Profiling\n",
        "\n",
        "Building on the previous activity, now we will use a line profiler with python.\n",
        "This will give us insight into where the code is spending most of its time.\n",
        "\n",
        "We start by executing the Python package that will allow us to profile the execution of a python program."
      ],
      "metadata": {
        "id": "2PHPA1sj-IwW"
      }
    },
    {
      "cell_type": "code",
      "source": [
        "!pip install line_profiler\n"
      ],
      "metadata": {
        "colab": {
          "base_uri": "https://localhost:8080/"
        },
        "id": "Il6XGj_b-YIN",
        "outputId": "897b9d06-bd37-4e40-d3c6-a81c9c44b72c"
      },
      "execution_count": 13,
      "outputs": [
        {
          "output_type": "stream",
          "name": "stdout",
          "text": [
            "Collecting line_profiler\n",
            "  Downloading line_profiler-4.1.3-cp310-cp310-manylinux_2_17_x86_64.manylinux2014_x86_64.whl.metadata (34 kB)\n",
            "Downloading line_profiler-4.1.3-cp310-cp310-manylinux_2_17_x86_64.manylinux2014_x86_64.whl (717 kB)\n",
            "\u001b[2K   \u001b[90m━━━━━━━━━━━━━━━━━━━━━━━━━━━━━━━━━━━━━━━━\u001b[0m \u001b[32m717.6/717.6 kB\u001b[0m \u001b[31m11.0 MB/s\u001b[0m eta \u001b[36m0:00:00\u001b[0m\n",
            "\u001b[?25hInstalling collected packages: line_profiler\n",
            "Successfully installed line_profiler-4.1.3\n"
          ]
        }
      ]
    },
    {
      "cell_type": "markdown",
      "source": [
        "We need to add a decorator to the source code:\n",
        "\n",
        "@profile"
      ],
      "metadata": {
        "id": "4cG3A59--mwu"
      }
    },
    {
      "cell_type": "code",
      "source": [
        "%%writefile matrix_multiplication.py\n",
        "import sys\n",
        "import time\n",
        "\n",
        "def read_file(file_name):\n",
        "  file_object = open(file_name, \"r\")\n",
        "  # Input the number of rows and columns\n",
        "  size = int(file_object.readline())\n",
        "  rows = size\n",
        "  cols = size\n",
        "  # Initialize an empty matrix\n",
        "  matrix = []\n",
        "\n",
        "  # Input the matrix elements\n",
        "  for i in range(rows):\n",
        "    row = list(map(int, file_object.readline().split()))\n",
        "    matrix.append(row)\n",
        "  # Display the matrix\n",
        "  #print(\"The matrix contained in the file \",file_name,\" is: \")\n",
        "  #for row in matrix:\n",
        "  #  print(row)\n",
        "  return matrix,size\n",
        "\n",
        "# Main code\n",
        "@profile\n",
        "def matrix_multiplication():\n",
        "# Read the content of the files passed in the command line\n",
        "# that contain the matrices to be multiplied\n",
        "  A,size = read_file(sys.argv[1])\n",
        "  B,size = read_file(sys.argv[2])\n",
        "\n",
        "# Initialize the result matrix to 0s\n",
        "  C = [[0 for x in range(size)] for y in range(size)]\n",
        "\n",
        "# Multiply the matrices\n",
        "  N = size\n",
        "  start_time = time.time()\n",
        "  for i in range(N):\n",
        "    for j in range(N):\n",
        "      for k in range(N):\n",
        "        C[i][j] += A[i][k]*B[k][j]\n",
        "\n",
        "  end_time = time.time()\n",
        "  elapsed_time = end_time - start_time\n",
        "  print(\"Time required to carry out the computation: \",elapsed_time)\n",
        "\n",
        "# Print out the resulting matrix\n",
        "# for i in range(N):\n",
        "#  for j in range(N):\n",
        "#    print(C[i][j],\" \",end=\"\")\n",
        "# print(\"\\n\")\n",
        "\n",
        "if __name__ == \"__main__\":\n",
        "  matrix_multiplication()"
      ],
      "metadata": {
        "colab": {
          "base_uri": "https://localhost:8080/"
        },
        "id": "80loZH1v-xlW",
        "outputId": "911334a7-e74d-40b8-de1f-a4df7dd5ca85"
      },
      "execution_count": 25,
      "outputs": [
        {
          "output_type": "stream",
          "name": "stdout",
          "text": [
            "Overwriting matrix_multiplication.py\n"
          ]
        }
      ]
    },
    {
      "cell_type": "markdown",
      "source": [
        "Now we execute the code to collect the profiling information.\n",
        "Initially, we will execute the program with the two matrices of size $4 \\times 4$"
      ],
      "metadata": {
        "id": "5DUobOgQ_OWu"
      }
    },
    {
      "cell_type": "code",
      "source": [
        "!kernprof -l matrix_multiplication.py A_4.Text B_4.Text"
      ],
      "metadata": {
        "colab": {
          "base_uri": "https://localhost:8080/"
        },
        "id": "Di0qmGEe_SYV",
        "outputId": "a84dc01d-aef9-47fc-808e-c1ca0d9ab1b2"
      },
      "execution_count": 26,
      "outputs": [
        {
          "output_type": "stream",
          "name": "stdout",
          "text": [
            "Time required to carry out the computation:  0.00013637542724609375\n",
            "Wrote profile results to matrix_multiplication.py.lprof\n",
            "Inspect results with:\n",
            "python3 -m line_profiler -rmt \"matrix_multiplication.py.lprof\"\n"
          ]
        }
      ]
    },
    {
      "cell_type": "markdown",
      "source": [
        "And now we look at the profiling information collected during the execution of the program:"
      ],
      "metadata": {
        "id": "yeIGG9CC_n_V"
      }
    },
    {
      "cell_type": "code",
      "source": [
        "!python3 -m line_profiler -rmt  \"matrix_multiplication.py.lprof\""
      ],
      "metadata": {
        "colab": {
          "base_uri": "https://localhost:8080/"
        },
        "id": "o1sjkYlo_tFt",
        "outputId": "00b1819b-84eb-4317-f680-82f508a406ca"
      },
      "execution_count": 27,
      "outputs": [
        {
          "output_type": "stream",
          "name": "stdout",
          "text": [
            "Timer unit: 1e-06 s\n",
            "\n",
            "Total time: 0.000287162 s\n",
            "File: matrix_multiplication.py\n",
            "Function: matrix_multiplication at line 24\n",
            "\n",
            "Line #      Hits         Time  Per Hit   % Time  Line Contents\n",
            "==============================================================\n",
            "    \u001b[1;36m24\u001b[0m                                           \u001b[92;49m@profile\u001b[0m                                           \n",
            "    \u001b[1;36m25\u001b[0m                                           \u001b[96;49mdef\u001b[0m\u001b[97;49m \u001b[0m\u001b[92;49mmatrix_multiplication\u001b[0m\u001b[97;49m(\u001b[0m\u001b[97;49m)\u001b[0m\u001b[97;49m:\u001b[0m                       \n",
            "    \u001b[1;36m26\u001b[0m                                           \u001b[37;49m# Read the content of the files passed in the comm…\u001b[0m\n",
            "    \u001b[1;36m27\u001b[0m                                           \u001b[37;49m# that contain the matrices to be multiplied\u001b[0m       \n",
            "    \u001b[1;36m28\u001b[0m         \u001b[1;36m1\u001b[0m        \u001b[1;36m118.1\u001b[0m    \u001b[1;36m118.1\u001b[0m     \u001b[1;36m41.1\u001b[0m  \u001b[97;49m  \u001b[0m\u001b[97;49mA\u001b[0m\u001b[97;49m,\u001b[0m\u001b[97;49msize\u001b[0m\u001b[97;49m \u001b[0m\u001b[91;49m=\u001b[0m\u001b[97;49m \u001b[0m\u001b[97;49mread_file\u001b[0m\u001b[97;49m(\u001b[0m\u001b[97;49msys\u001b[0m\u001b[91;49m.\u001b[0m\u001b[97;49margv\u001b[0m\u001b[97;49m[\u001b[0m\u001b[37;49m1\u001b[0m\u001b[97;49m]\u001b[0m\u001b[97;49m)\u001b[0m                  \n",
            "    \u001b[1;36m29\u001b[0m         \u001b[1;36m1\u001b[0m         \u001b[1;36m43.5\u001b[0m     \u001b[1;36m43.5\u001b[0m     \u001b[1;36m15.2\u001b[0m  \u001b[97;49m  \u001b[0m\u001b[97;49mB\u001b[0m\u001b[97;49m,\u001b[0m\u001b[97;49msize\u001b[0m\u001b[97;49m \u001b[0m\u001b[91;49m=\u001b[0m\u001b[97;49m \u001b[0m\u001b[97;49mread_file\u001b[0m\u001b[97;49m(\u001b[0m\u001b[97;49msys\u001b[0m\u001b[91;49m.\u001b[0m\u001b[97;49margv\u001b[0m\u001b[97;49m[\u001b[0m\u001b[37;49m2\u001b[0m\u001b[97;49m]\u001b[0m\u001b[97;49m)\u001b[0m                  \n",
            "    \u001b[1;36m30\u001b[0m                                                                                              \n",
            "    \u001b[1;36m31\u001b[0m                                           \u001b[37;49m# Initialize the result matrix to 0s\u001b[0m               \n",
            "    \u001b[1;36m32\u001b[0m         \u001b[1;36m1\u001b[0m          \u001b[1;36m8.1\u001b[0m      \u001b[1;36m8.1\u001b[0m      \u001b[1;36m2.8\u001b[0m  \u001b[97;49m  \u001b[0m\u001b[97;49mC\u001b[0m\u001b[97;49m \u001b[0m\u001b[91;49m=\u001b[0m\u001b[97;49m \u001b[0m\u001b[97;49m[\u001b[0m\u001b[97;49m[\u001b[0m\u001b[37;49m0\u001b[0m\u001b[97;49m \u001b[0m\u001b[96;49mfor\u001b[0m\u001b[97;49m \u001b[0m\u001b[97;49mx\u001b[0m\u001b[97;49m \u001b[0m\u001b[91;49min\u001b[0m\u001b[97;49m \u001b[0m\u001b[97;49mrange\u001b[0m\u001b[97;49m(\u001b[0m\u001b[97;49msize\u001b[0m\u001b[97;49m)\u001b[0m\u001b[97;49m]\u001b[0m\u001b[97;49m \u001b[0m\u001b[96;49mfor\u001b[0m\u001b[97;49m \u001b[0m\u001b[97;49my\u001b[0m\u001b[97;49m \u001b[0m\u001b[91;49min\u001b[0m\u001b[97;49m \u001b[0m\u001b[97;49mrange\u001b[0m\u001b[97;49m(\u001b[0m\u001b[97;49msiz…\u001b[0m\n",
            "    \u001b[1;36m33\u001b[0m                                                                                              \n",
            "    \u001b[1;36m34\u001b[0m                                           \u001b[37;49m# Multiply the matrices\u001b[0m                            \n",
            "    \u001b[1;36m35\u001b[0m         \u001b[1;36m1\u001b[0m          \u001b[1;36m0.3\u001b[0m      \u001b[1;36m0.3\u001b[0m      \u001b[1;36m0.1\u001b[0m  \u001b[97;49m  \u001b[0m\u001b[97;49mN\u001b[0m\u001b[97;49m \u001b[0m\u001b[91;49m=\u001b[0m\u001b[97;49m \u001b[0m\u001b[97;49msize\u001b[0m                                         \n",
            "    \u001b[1;36m36\u001b[0m         \u001b[1;36m1\u001b[0m          \u001b[1;36m1.8\u001b[0m      \u001b[1;36m1.8\u001b[0m      \u001b[1;36m0.6\u001b[0m  \u001b[97;49m  \u001b[0m\u001b[97;49mstart_time\u001b[0m\u001b[97;49m \u001b[0m\u001b[91;49m=\u001b[0m\u001b[97;49m \u001b[0m\u001b[97;49mtime\u001b[0m\u001b[91;49m.\u001b[0m\u001b[97;49mtime\u001b[0m\u001b[97;49m(\u001b[0m\u001b[97;49m)\u001b[0m                         \n",
            "    \u001b[1;36m37\u001b[0m         \u001b[1;36m5\u001b[0m          \u001b[1;36m1.3\u001b[0m      \u001b[1;36m0.3\u001b[0m      \u001b[1;36m0.5\u001b[0m  \u001b[97;49m  \u001b[0m\u001b[96;49mfor\u001b[0m\u001b[97;49m \u001b[0m\u001b[97;49mi\u001b[0m\u001b[97;49m \u001b[0m\u001b[91;49min\u001b[0m\u001b[97;49m \u001b[0m\u001b[97;49mrange\u001b[0m\u001b[97;49m(\u001b[0m\u001b[97;49mN\u001b[0m\u001b[97;49m)\u001b[0m\u001b[97;49m:\u001b[0m                               \n",
            "    \u001b[1;36m38\u001b[0m        \u001b[1;36m20\u001b[0m          \u001b[1;36m5.4\u001b[0m      \u001b[1;36m0.3\u001b[0m      \u001b[1;36m1.9\u001b[0m  \u001b[97;49m    \u001b[0m\u001b[96;49mfor\u001b[0m\u001b[97;49m \u001b[0m\u001b[97;49mj\u001b[0m\u001b[97;49m \u001b[0m\u001b[91;49min\u001b[0m\u001b[97;49m \u001b[0m\u001b[97;49mrange\u001b[0m\u001b[97;49m(\u001b[0m\u001b[97;49mN\u001b[0m\u001b[97;49m)\u001b[0m\u001b[97;49m:\u001b[0m                             \n",
            "    \u001b[1;36m39\u001b[0m        \u001b[1;36m80\u001b[0m         \u001b[1;36m22.0\u001b[0m      \u001b[1;36m0.3\u001b[0m      \u001b[1;36m7.7\u001b[0m  \u001b[97;49m      \u001b[0m\u001b[96;49mfor\u001b[0m\u001b[97;49m \u001b[0m\u001b[97;49mk\u001b[0m\u001b[97;49m \u001b[0m\u001b[91;49min\u001b[0m\u001b[97;49m \u001b[0m\u001b[97;49mrange\u001b[0m\u001b[97;49m(\u001b[0m\u001b[97;49mN\u001b[0m\u001b[97;49m)\u001b[0m\u001b[97;49m:\u001b[0m                           \n",
            "    \u001b[1;36m40\u001b[0m        \u001b[1;36m64\u001b[0m         \u001b[1;36m44.0\u001b[0m      \u001b[1;36m0.7\u001b[0m     \u001b[1;36m15.3\u001b[0m  \u001b[97;49m        \u001b[0m\u001b[97;49mC\u001b[0m\u001b[97;49m[\u001b[0m\u001b[97;49mi\u001b[0m\u001b[97;49m]\u001b[0m\u001b[97;49m[\u001b[0m\u001b[97;49mj\u001b[0m\u001b[97;49m]\u001b[0m\u001b[97;49m \u001b[0m\u001b[91;49m+\u001b[0m\u001b[91;49m=\u001b[0m\u001b[97;49m \u001b[0m\u001b[97;49mA\u001b[0m\u001b[97;49m[\u001b[0m\u001b[97;49mi\u001b[0m\u001b[97;49m]\u001b[0m\u001b[97;49m[\u001b[0m\u001b[97;49mk\u001b[0m\u001b[97;49m]\u001b[0m\u001b[91;49m*\u001b[0m\u001b[97;49mB\u001b[0m\u001b[97;49m[\u001b[0m\u001b[97;49mk\u001b[0m\u001b[97;49m]\u001b[0m\u001b[97;49m[\u001b[0m\u001b[97;49mj\u001b[0m\u001b[97;49m]\u001b[0m                 \n",
            "    \u001b[1;36m41\u001b[0m                                                                                              \n",
            "    \u001b[1;36m42\u001b[0m         \u001b[1;36m1\u001b[0m          \u001b[1;36m0.4\u001b[0m      \u001b[1;36m0.4\u001b[0m      \u001b[1;36m0.1\u001b[0m  \u001b[97;49m  \u001b[0m\u001b[97;49mend_time\u001b[0m\u001b[97;49m \u001b[0m\u001b[91;49m=\u001b[0m\u001b[97;49m \u001b[0m\u001b[97;49mtime\u001b[0m\u001b[91;49m.\u001b[0m\u001b[97;49mtime\u001b[0m\u001b[97;49m(\u001b[0m\u001b[97;49m)\u001b[0m                           \n",
            "    \u001b[1;36m43\u001b[0m         \u001b[1;36m1\u001b[0m          \u001b[1;36m0.6\u001b[0m      \u001b[1;36m0.6\u001b[0m      \u001b[1;36m0.2\u001b[0m  \u001b[97;49m  \u001b[0m\u001b[97;49melapsed_time\u001b[0m\u001b[97;49m \u001b[0m\u001b[91;49m=\u001b[0m\u001b[97;49m \u001b[0m\u001b[97;49mend_time\u001b[0m\u001b[97;49m \u001b[0m\u001b[91;49m-\u001b[0m\u001b[97;49m \u001b[0m\u001b[97;49mstart_time\u001b[0m             \n",
            "    \u001b[1;36m44\u001b[0m         \u001b[1;36m1\u001b[0m         \u001b[1;36m41.5\u001b[0m     \u001b[1;36m41.5\u001b[0m     \u001b[1;36m14.5\u001b[0m  \u001b[97;49m  \u001b[0m\u001b[97;49mprint\u001b[0m\u001b[97;49m(\u001b[0m\u001b[93;49m\"\u001b[0m\u001b[93;49mTime required to carry out the computatio…\u001b[0m\n",
            "\n",
            "\n",
            "  0.00 seconds - matrix_multiplication.py:24 - matrix_multiplication\n"
          ]
        }
      ]
    },
    {
      "cell_type": "markdown",
      "source": [
        "For the purpose of this activity, we will download four additional files.\n",
        "These files contain larger matrices.\n",
        "Two matrices are of size $100 \\times 100$ and two matrices of size $200 \\times 200$"
      ],
      "metadata": {
        "id": "5sgnxwxIMtbn"
      }
    },
    {
      "cell_type": "code",
      "source": [
        "!wget https://faculty.computing.gvsu.edu/trefftzc/cs677/A_100.Text\n",
        "!wget https://faculty.computing.gvsu.edu/trefftzc/cs677/B_100.Text\n",
        "!wget https://faculty.computing.gvsu.edu/trefftzc/cs677/A_200.Text\n",
        "!wget https://faculty.computing.gvsu.edu/trefftzc/cs677/B_200.Text"
      ],
      "metadata": {
        "colab": {
          "base_uri": "https://localhost:8080/"
        },
        "id": "wHbrkHzvMcmn",
        "outputId": "bb617e82-d212-448e-e036-a3766e18b07a"
      },
      "execution_count": 33,
      "outputs": [
        {
          "output_type": "stream",
          "name": "stdout",
          "text": [
            "--2024-09-10 14:16:49--  https://faculty.computing.gvsu.edu/trefftzc/cs677/A_100.Text\n",
            "Resolving faculty.computing.gvsu.edu (faculty.computing.gvsu.edu)... 104.17.88.18, 104.17.87.18, 2606:4700::6811:5812, ...\n",
            "Connecting to faculty.computing.gvsu.edu (faculty.computing.gvsu.edu)|104.17.88.18|:443... connected.\n",
            "HTTP request sent, awaiting response... 200 OK\n",
            "Length: 48998 (48K) [text/plain]\n",
            "Saving to: ‘A_100.Text.2’\n",
            "\n",
            "A_100.Text.2        100%[===================>]  47.85K   105KB/s    in 0.5s    \n",
            "\n",
            "2024-09-10 14:16:50 (105 KB/s) - ‘A_100.Text.2’ saved [48998/48998]\n",
            "\n",
            "--2024-09-10 14:16:50--  https://faculty.computing.gvsu.edu/trefftzc/cs677/B_100.Text\n",
            "Resolving faculty.computing.gvsu.edu (faculty.computing.gvsu.edu)... 104.17.88.18, 104.17.87.18, 2606:4700::6811:5812, ...\n",
            "Connecting to faculty.computing.gvsu.edu (faculty.computing.gvsu.edu)|104.17.88.18|:443... connected.\n",
            "HTTP request sent, awaiting response... 200 OK\n",
            "Length: 20104 (20K) [text/plain]\n",
            "Saving to: ‘B_100.Text.2’\n",
            "\n",
            "B_100.Text.2        100%[===================>]  19.63K  97.1KB/s    in 0.2s    \n",
            "\n",
            "2024-09-10 14:16:51 (97.1 KB/s) - ‘B_100.Text.2’ saved [20104/20104]\n",
            "\n",
            "--2024-09-10 14:16:51--  https://faculty.computing.gvsu.edu/trefftzc/cs677/A_200.Text\n",
            "Resolving faculty.computing.gvsu.edu (faculty.computing.gvsu.edu)... 104.17.88.18, 104.17.87.18, 2606:4700::6811:5812, ...\n",
            "Connecting to faculty.computing.gvsu.edu (faculty.computing.gvsu.edu)|104.17.88.18|:443... connected.\n",
            "HTTP request sent, awaiting response... 200 OK\n",
            "Length: 229098 (224K) [text/plain]\n",
            "Saving to: ‘A_200.Text’\n",
            "\n",
            "A_200.Text          100%[===================>] 223.73K   247KB/s    in 0.9s    \n",
            "\n",
            "2024-09-10 14:16:53 (247 KB/s) - ‘A_200.Text’ saved [229098/229098]\n",
            "\n",
            "--2024-09-10 14:16:53--  https://faculty.computing.gvsu.edu/trefftzc/cs677/B_200.Text\n",
            "Resolving faculty.computing.gvsu.edu (faculty.computing.gvsu.edu)... 104.17.88.18, 104.17.87.18, 2606:4700::6811:5812, ...\n",
            "Connecting to faculty.computing.gvsu.edu (faculty.computing.gvsu.edu)|104.17.88.18|:443... connected.\n",
            "HTTP request sent, awaiting response... 200 OK\n",
            "Length: 80204 (78K) [text/plain]\n",
            "Saving to: ‘B_200.Text.2’\n",
            "\n",
            "B_200.Text.2        100%[===================>]  78.32K   190KB/s    in 0.4s    \n",
            "\n",
            "2024-09-10 14:16:53 (190 KB/s) - ‘B_200.Text.2’ saved [80204/80204]\n",
            "\n"
          ]
        }
      ]
    },
    {
      "cell_type": "markdown",
      "source": [
        "Repeat the profiling procedure with:\n",
        "\n",
        "\n",
        "1.   The matrices of size $100 \\times 100$\n",
        "2.   The matrices of size $200 \\times 200$\n",
        "\n",
        "The matrix multiplication procedure consists of lines 37 through 40.\n",
        "\n",
        "Notice that fifth column in the report contains the percentage of the total execution time that is spent on a particular instruction.\n",
        "\n",
        "In the back of your reading assignment summary answering the following questions?\n",
        "\n",
        "1. Add the percentages spent on lines 37 through 40 for the multiplication of the matrices of size $100 \\times 100$.\n",
        "\n",
        "2. For the sake of this exercise, let's assume that the matrix multiplication part of this code is the only part that can be parallelized. So, your answer to the previous question (as a value between 0 and 1.0) is the portion $p$ of the program that can be parallelized. Use this simplified version of Amdahl's law: $maxSpeedUp = \\frac{1}{1-p}$. What is the maximum speedup that Amdahl's law predicts for this python code for matrix multiplication with a problem of size $100 \\times 100$\n",
        "\n",
        "3. Add the percentages spent on lines 37 through 40 for the multiplication of the matrices of size $200 \\times 200$.\n",
        "\n",
        "4. Again, use this simplified version of Amdahl's law: $maxSpeedUp = \\frac{1}{1-p}$. What is the maximum speedup that Amdahl's law predicts for this python code for matrix multiplication with a problem of size $200 \\times 200$\n",
        "\n",
        "5. Given these results, it seems reasonable to conclude that the maximum speedup will depend on the size of the problem and that better speedups will be obtained with larger problem sizes. Do you agree with this conclusion? Why?\n",
        "\n",
        "\n",
        "\n"
      ],
      "metadata": {
        "id": "sQpqmXT3BaUu"
      }
    },
    {
      "cell_type": "code",
      "source": [
        "!ls -la\n"
      ],
      "metadata": {
        "colab": {
          "base_uri": "https://localhost:8080/"
        },
        "id": "4LPk6QflRUaI",
        "outputId": "660dabcf-7116-41fe-95a5-059daa92b7ca"
      },
      "execution_count": 31,
      "outputs": [
        {
          "output_type": "stream",
          "name": "stdout",
          "text": [
            "total 440\n",
            "drwxr-xr-x 1 root root  4096 Sep 10 14:06 .\n",
            "drwxr-xr-x 1 root root  4096 Sep 10 13:48 ..\n",
            "-rw-r--r-- 1 root root 48998 Sep 10 13:45 A_100.Text\n",
            "-rw-r--r-- 1 root root 48998 Sep 10 13:45 A_100.Text.1\n",
            "-rw-r--r-- 1 root root   471 Sep 10 14:06 A_12.Text\n",
            "-rw-r--r-- 1 root root 48998 Sep 10 13:45 A_200.Text\n",
            "-rw-r--r-- 1 root root 48998 Sep 10 13:45 A_200.Text.1\n",
            "-rw-r--r-- 1 root root    41 Sep 10 14:06 A_4.Text\n",
            "-rw-r--r-- 1 root root   185 Sep 10 14:06 A_8.Text\n",
            "-rw-r--r-- 1 root root 20104 Sep 10 13:45 B_100.Text\n",
            "-rw-r--r-- 1 root root 20104 Sep 10 13:45 B_100.Text.1\n",
            "-rw-r--r-- 1 root root   291 Sep 10 14:06 B_12.Text\n",
            "-rw-r--r-- 1 root root 80204 Sep 10 13:45 B_200.Text\n",
            "-rw-r--r-- 1 root root 80204 Sep 10 13:45 B_200.Text.1\n",
            "-rw-r--r-- 1 root root    34 Sep 10 14:06 B_4.Text\n",
            "-rw-r--r-- 1 root root   130 Sep 10 14:06 B_8.Text\n",
            "drwxr-xr-x 4 root root  4096 Sep  6 13:22 .config\n",
            "-rw-r--r-- 1 root root  1311 Sep 10 14:11 matrix_multiplication.py\n",
            "-rw-r--r-- 1 root root   242 Sep 10 14:12 matrix_multiplication.py.lprof\n",
            "drwxr-xr-x 1 root root  4096 Sep  6 13:22 sample_data\n"
          ]
        }
      ]
    },
    {
      "cell_type": "code",
      "source": [
        "!kernprof -l matrix_multiplication.py A_100.Text B_100.Text"
      ],
      "metadata": {
        "colab": {
          "base_uri": "https://localhost:8080/"
        },
        "id": "BYFuzeTaQkhQ",
        "outputId": "879ff32f-08ea-4824-ceab-c5da37614d84"
      },
      "execution_count": 28,
      "outputs": [
        {
          "output_type": "stream",
          "name": "stdout",
          "text": [
            "Time required to carry out the computation:  1.6778011322021484\n",
            "Wrote profile results to matrix_multiplication.py.lprof\n",
            "Inspect results with:\n",
            "python3 -m line_profiler -rmt \"matrix_multiplication.py.lprof\"\n"
          ]
        }
      ]
    },
    {
      "cell_type": "code",
      "source": [
        "!python3 -m line_profiler -rmt  \"matrix_multiplication.py.lprof\""
      ],
      "metadata": {
        "colab": {
          "base_uri": "https://localhost:8080/"
        },
        "id": "LmDQBGnvQ_3o",
        "outputId": "f7762a88-c6c4-453f-dbcf-3221f070dee1"
      },
      "execution_count": 29,
      "outputs": [
        {
          "output_type": "stream",
          "name": "stdout",
          "text": [
            "Timer unit: 1e-06 s\n",
            "\n",
            "Total time: 0.97367 s\n",
            "File: matrix_multiplication.py\n",
            "Function: matrix_multiplication at line 24\n",
            "\n",
            "Line #      Hits         Time  Per Hit   % Time  Line Contents\n",
            "==============================================================\n",
            "    \u001b[1;36m24\u001b[0m                                           \u001b[92;49m@profile\u001b[0m                                           \n",
            "    \u001b[1;36m25\u001b[0m                                           \u001b[96;49mdef\u001b[0m\u001b[97;49m \u001b[0m\u001b[92;49mmatrix_multiplication\u001b[0m\u001b[97;49m(\u001b[0m\u001b[97;49m)\u001b[0m\u001b[97;49m:\u001b[0m                       \n",
            "    \u001b[1;36m26\u001b[0m                                           \u001b[37;49m# Read the content of the files passed in the comm…\u001b[0m\n",
            "    \u001b[1;36m27\u001b[0m                                           \u001b[37;49m# that contain the matrices to be multiplied\u001b[0m       \n",
            "    \u001b[1;36m28\u001b[0m         \u001b[1;36m1\u001b[0m       \u001b[1;36m2056.2\u001b[0m   \u001b[1;36m2056.2\u001b[0m      \u001b[1;36m0.2\u001b[0m  \u001b[97;49m  \u001b[0m\u001b[97;49mA\u001b[0m\u001b[97;49m,\u001b[0m\u001b[97;49msize\u001b[0m\u001b[97;49m \u001b[0m\u001b[91;49m=\u001b[0m\u001b[97;49m \u001b[0m\u001b[97;49mread_file\u001b[0m\u001b[97;49m(\u001b[0m\u001b[97;49msys\u001b[0m\u001b[91;49m.\u001b[0m\u001b[97;49margv\u001b[0m\u001b[97;49m[\u001b[0m\u001b[37;49m1\u001b[0m\u001b[97;49m]\u001b[0m\u001b[97;49m)\u001b[0m                  \n",
            "    \u001b[1;36m29\u001b[0m         \u001b[1;36m1\u001b[0m       \u001b[1;36m1745.6\u001b[0m   \u001b[1;36m1745.6\u001b[0m      \u001b[1;36m0.2\u001b[0m  \u001b[97;49m  \u001b[0m\u001b[97;49mB\u001b[0m\u001b[97;49m,\u001b[0m\u001b[97;49msize\u001b[0m\u001b[97;49m \u001b[0m\u001b[91;49m=\u001b[0m\u001b[97;49m \u001b[0m\u001b[97;49mread_file\u001b[0m\u001b[97;49m(\u001b[0m\u001b[97;49msys\u001b[0m\u001b[91;49m.\u001b[0m\u001b[97;49margv\u001b[0m\u001b[97;49m[\u001b[0m\u001b[37;49m2\u001b[0m\u001b[97;49m]\u001b[0m\u001b[97;49m)\u001b[0m                  \n",
            "    \u001b[1;36m30\u001b[0m                                                                                              \n",
            "    \u001b[1;36m31\u001b[0m                                           \u001b[37;49m# Initialize the result matrix to 0s\u001b[0m               \n",
            "    \u001b[1;36m32\u001b[0m         \u001b[1;36m1\u001b[0m       \u001b[1;36m1548.7\u001b[0m   \u001b[1;36m1548.7\u001b[0m      \u001b[1;36m0.2\u001b[0m  \u001b[97;49m  \u001b[0m\u001b[97;49mC\u001b[0m\u001b[97;49m \u001b[0m\u001b[91;49m=\u001b[0m\u001b[97;49m \u001b[0m\u001b[97;49m[\u001b[0m\u001b[97;49m[\u001b[0m\u001b[37;49m0\u001b[0m\u001b[97;49m \u001b[0m\u001b[96;49mfor\u001b[0m\u001b[97;49m \u001b[0m\u001b[97;49mx\u001b[0m\u001b[97;49m \u001b[0m\u001b[91;49min\u001b[0m\u001b[97;49m \u001b[0m\u001b[97;49mrange\u001b[0m\u001b[97;49m(\u001b[0m\u001b[97;49msize\u001b[0m\u001b[97;49m)\u001b[0m\u001b[97;49m]\u001b[0m\u001b[97;49m \u001b[0m\u001b[96;49mfor\u001b[0m\u001b[97;49m \u001b[0m\u001b[97;49my\u001b[0m\u001b[97;49m \u001b[0m\u001b[91;49min\u001b[0m\u001b[97;49m \u001b[0m\u001b[97;49mrange\u001b[0m\u001b[97;49m(\u001b[0m\u001b[97;49msiz…\u001b[0m\n",
            "    \u001b[1;36m33\u001b[0m                                                                                              \n",
            "    \u001b[1;36m34\u001b[0m                                           \u001b[37;49m# Multiply the matrices\u001b[0m                            \n",
            "    \u001b[1;36m35\u001b[0m         \u001b[1;36m1\u001b[0m          \u001b[1;36m0.3\u001b[0m      \u001b[1;36m0.3\u001b[0m      \u001b[1;36m0.0\u001b[0m  \u001b[97;49m  \u001b[0m\u001b[97;49mN\u001b[0m\u001b[97;49m \u001b[0m\u001b[91;49m=\u001b[0m\u001b[97;49m \u001b[0m\u001b[97;49msize\u001b[0m                                         \n",
            "    \u001b[1;36m36\u001b[0m         \u001b[1;36m1\u001b[0m          \u001b[1;36m2.7\u001b[0m      \u001b[1;36m2.7\u001b[0m      \u001b[1;36m0.0\u001b[0m  \u001b[97;49m  \u001b[0m\u001b[97;49mstart_time\u001b[0m\u001b[97;49m \u001b[0m\u001b[91;49m=\u001b[0m\u001b[97;49m \u001b[0m\u001b[97;49mtime\u001b[0m\u001b[91;49m.\u001b[0m\u001b[97;49mtime\u001b[0m\u001b[97;49m(\u001b[0m\u001b[97;49m)\u001b[0m                         \n",
            "    \u001b[1;36m37\u001b[0m       \u001b[1;36m101\u001b[0m         \u001b[1;36m22.0\u001b[0m      \u001b[1;36m0.2\u001b[0m      \u001b[1;36m0.0\u001b[0m  \u001b[97;49m  \u001b[0m\u001b[96;49mfor\u001b[0m\u001b[97;49m \u001b[0m\u001b[97;49mi\u001b[0m\u001b[97;49m \u001b[0m\u001b[91;49min\u001b[0m\u001b[97;49m \u001b[0m\u001b[97;49mrange\u001b[0m\u001b[97;49m(\u001b[0m\u001b[97;49mN\u001b[0m\u001b[97;49m)\u001b[0m\u001b[97;49m:\u001b[0m                               \n",
            "    \u001b[1;36m38\u001b[0m     \u001b[1;36m10100\u001b[0m       \u001b[1;36m2192.8\u001b[0m      \u001b[1;36m0.2\u001b[0m      \u001b[1;36m0.2\u001b[0m  \u001b[97;49m    \u001b[0m\u001b[96;49mfor\u001b[0m\u001b[97;49m \u001b[0m\u001b[97;49mj\u001b[0m\u001b[97;49m \u001b[0m\u001b[91;49min\u001b[0m\u001b[97;49m \u001b[0m\u001b[97;49mrange\u001b[0m\u001b[97;49m(\u001b[0m\u001b[97;49mN\u001b[0m\u001b[97;49m)\u001b[0m\u001b[97;49m:\u001b[0m                             \n",
            "    \u001b[1;36m39\u001b[0m   \u001b[1;36m1010000\u001b[0m     \u001b[1;36m236444.3\u001b[0m      \u001b[1;36m0.2\u001b[0m     \u001b[1;36m24.3\u001b[0m  \u001b[97;49m      \u001b[0m\u001b[96;49mfor\u001b[0m\u001b[97;49m \u001b[0m\u001b[97;49mk\u001b[0m\u001b[97;49m \u001b[0m\u001b[91;49min\u001b[0m\u001b[97;49m \u001b[0m\u001b[97;49mrange\u001b[0m\u001b[97;49m(\u001b[0m\u001b[97;49mN\u001b[0m\u001b[97;49m)\u001b[0m\u001b[97;49m:\u001b[0m                           \n",
            "    \u001b[1;36m40\u001b[0m   \u001b[1;36m1000000\u001b[0m     \u001b[1;36m729596.9\u001b[0m      \u001b[1;36m0.7\u001b[0m     \u001b[1;36m74.9\u001b[0m  \u001b[97;49m        \u001b[0m\u001b[97;49mC\u001b[0m\u001b[97;49m[\u001b[0m\u001b[97;49mi\u001b[0m\u001b[97;49m]\u001b[0m\u001b[97;49m[\u001b[0m\u001b[97;49mj\u001b[0m\u001b[97;49m]\u001b[0m\u001b[97;49m \u001b[0m\u001b[91;49m+\u001b[0m\u001b[91;49m=\u001b[0m\u001b[97;49m \u001b[0m\u001b[97;49mA\u001b[0m\u001b[97;49m[\u001b[0m\u001b[97;49mi\u001b[0m\u001b[97;49m]\u001b[0m\u001b[97;49m[\u001b[0m\u001b[97;49mk\u001b[0m\u001b[97;49m]\u001b[0m\u001b[91;49m*\u001b[0m\u001b[97;49mB\u001b[0m\u001b[97;49m[\u001b[0m\u001b[97;49mk\u001b[0m\u001b[97;49m]\u001b[0m\u001b[97;49m[\u001b[0m\u001b[97;49mj\u001b[0m\u001b[97;49m]\u001b[0m                 \n",
            "    \u001b[1;36m41\u001b[0m                                                                                              \n",
            "    \u001b[1;36m42\u001b[0m         \u001b[1;36m1\u001b[0m          \u001b[1;36m4.7\u001b[0m      \u001b[1;36m4.7\u001b[0m      \u001b[1;36m0.0\u001b[0m  \u001b[97;49m  \u001b[0m\u001b[97;49mend_time\u001b[0m\u001b[97;49m \u001b[0m\u001b[91;49m=\u001b[0m\u001b[97;49m \u001b[0m\u001b[97;49mtime\u001b[0m\u001b[91;49m.\u001b[0m\u001b[97;49mtime\u001b[0m\u001b[97;49m(\u001b[0m\u001b[97;49m)\u001b[0m                           \n",
            "    \u001b[1;36m43\u001b[0m         \u001b[1;36m1\u001b[0m          \u001b[1;36m1.3\u001b[0m      \u001b[1;36m1.3\u001b[0m      \u001b[1;36m0.0\u001b[0m  \u001b[97;49m  \u001b[0m\u001b[97;49melapsed_time\u001b[0m\u001b[97;49m \u001b[0m\u001b[91;49m=\u001b[0m\u001b[97;49m \u001b[0m\u001b[97;49mend_time\u001b[0m\u001b[97;49m \u001b[0m\u001b[91;49m-\u001b[0m\u001b[97;49m \u001b[0m\u001b[97;49mstart_time\u001b[0m             \n",
            "    \u001b[1;36m44\u001b[0m         \u001b[1;36m1\u001b[0m         \u001b[1;36m54.8\u001b[0m     \u001b[1;36m54.8\u001b[0m      \u001b[1;36m0.0\u001b[0m  \u001b[97;49m  \u001b[0m\u001b[97;49mprint\u001b[0m\u001b[97;49m(\u001b[0m\u001b[93;49m\"\u001b[0m\u001b[93;49mTime required to carry out the computatio…\u001b[0m\n",
            "\n",
            "\n",
            "  0.97 seconds - matrix_multiplication.py:24 - matrix_multiplication\n"
          ]
        }
      ]
    },
    {
      "cell_type": "code",
      "source": [
        "!kernprof -l matrix_multiplication.py A_200.Text B_200.Text\n"
      ],
      "metadata": {
        "colab": {
          "base_uri": "https://localhost:8080/"
        },
        "id": "eoS7yoOlRz6O",
        "outputId": "6cc3644c-d3a5-4f94-f6c2-4c530388f711"
      },
      "execution_count": 34,
      "outputs": [
        {
          "output_type": "stream",
          "name": "stdout",
          "text": [
            "Time required to carry out the computation:  14.370970964431763\n",
            "Wrote profile results to matrix_multiplication.py.lprof\n",
            "Inspect results with:\n",
            "python3 -m line_profiler -rmt \"matrix_multiplication.py.lprof\"\n"
          ]
        }
      ]
    },
    {
      "cell_type": "code",
      "source": [
        "!python3 -m line_profiler -rmt  \"matrix_multiplication.py.lprof\""
      ],
      "metadata": {
        "colab": {
          "base_uri": "https://localhost:8080/"
        },
        "id": "3ldQS9LoTAhG",
        "outputId": "1dd8ba7a-633c-430c-e547-0c305bd8a001"
      },
      "execution_count": 35,
      "outputs": [
        {
          "output_type": "stream",
          "name": "stdout",
          "text": [
            "Timer unit: 1e-06 s\n",
            "\n",
            "Total time: 8.17502 s\n",
            "File: matrix_multiplication.py\n",
            "Function: matrix_multiplication at line 24\n",
            "\n",
            "Line #      Hits         Time  Per Hit   % Time  Line Contents\n",
            "==============================================================\n",
            "    \u001b[1;36m24\u001b[0m                                           \u001b[92;49m@profile\u001b[0m                                           \n",
            "    \u001b[1;36m25\u001b[0m                                           \u001b[96;49mdef\u001b[0m\u001b[97;49m \u001b[0m\u001b[92;49mmatrix_multiplication\u001b[0m\u001b[97;49m(\u001b[0m\u001b[97;49m)\u001b[0m\u001b[97;49m:\u001b[0m                       \n",
            "    \u001b[1;36m26\u001b[0m                                           \u001b[37;49m# Read the content of the files passed in the comm…\u001b[0m\n",
            "    \u001b[1;36m27\u001b[0m                                           \u001b[37;49m# that contain the matrices to be multiplied\u001b[0m       \n",
            "    \u001b[1;36m28\u001b[0m         \u001b[1;36m1\u001b[0m      \u001b[1;36m11295.9\u001b[0m  \u001b[1;36m11295.9\u001b[0m      \u001b[1;36m0.1\u001b[0m  \u001b[97;49m  \u001b[0m\u001b[97;49mA\u001b[0m\u001b[97;49m,\u001b[0m\u001b[97;49msize\u001b[0m\u001b[97;49m \u001b[0m\u001b[91;49m=\u001b[0m\u001b[97;49m \u001b[0m\u001b[97;49mread_file\u001b[0m\u001b[97;49m(\u001b[0m\u001b[97;49msys\u001b[0m\u001b[91;49m.\u001b[0m\u001b[97;49margv\u001b[0m\u001b[97;49m[\u001b[0m\u001b[37;49m1\u001b[0m\u001b[97;49m]\u001b[0m\u001b[97;49m)\u001b[0m                  \n",
            "    \u001b[1;36m29\u001b[0m         \u001b[1;36m1\u001b[0m       \u001b[1;36m6405.2\u001b[0m   \u001b[1;36m6405.2\u001b[0m      \u001b[1;36m0.1\u001b[0m  \u001b[97;49m  \u001b[0m\u001b[97;49mB\u001b[0m\u001b[97;49m,\u001b[0m\u001b[97;49msize\u001b[0m\u001b[97;49m \u001b[0m\u001b[91;49m=\u001b[0m\u001b[97;49m \u001b[0m\u001b[97;49mread_file\u001b[0m\u001b[97;49m(\u001b[0m\u001b[97;49msys\u001b[0m\u001b[91;49m.\u001b[0m\u001b[97;49margv\u001b[0m\u001b[97;49m[\u001b[0m\u001b[37;49m2\u001b[0m\u001b[97;49m]\u001b[0m\u001b[97;49m)\u001b[0m                  \n",
            "    \u001b[1;36m30\u001b[0m                                                                                              \n",
            "    \u001b[1;36m31\u001b[0m                                           \u001b[37;49m# Initialize the result matrix to 0s\u001b[0m               \n",
            "    \u001b[1;36m32\u001b[0m         \u001b[1;36m1\u001b[0m       \u001b[1;36m6428.8\u001b[0m   \u001b[1;36m6428.8\u001b[0m      \u001b[1;36m0.1\u001b[0m  \u001b[97;49m  \u001b[0m\u001b[97;49mC\u001b[0m\u001b[97;49m \u001b[0m\u001b[91;49m=\u001b[0m\u001b[97;49m \u001b[0m\u001b[97;49m[\u001b[0m\u001b[97;49m[\u001b[0m\u001b[37;49m0\u001b[0m\u001b[97;49m \u001b[0m\u001b[96;49mfor\u001b[0m\u001b[97;49m \u001b[0m\u001b[97;49mx\u001b[0m\u001b[97;49m \u001b[0m\u001b[91;49min\u001b[0m\u001b[97;49m \u001b[0m\u001b[97;49mrange\u001b[0m\u001b[97;49m(\u001b[0m\u001b[97;49msize\u001b[0m\u001b[97;49m)\u001b[0m\u001b[97;49m]\u001b[0m\u001b[97;49m \u001b[0m\u001b[96;49mfor\u001b[0m\u001b[97;49m \u001b[0m\u001b[97;49my\u001b[0m\u001b[97;49m \u001b[0m\u001b[91;49min\u001b[0m\u001b[97;49m \u001b[0m\u001b[97;49mrange\u001b[0m\u001b[97;49m(\u001b[0m\u001b[97;49msiz…\u001b[0m\n",
            "    \u001b[1;36m33\u001b[0m                                                                                              \n",
            "    \u001b[1;36m34\u001b[0m                                           \u001b[37;49m# Multiply the matrices\u001b[0m                            \n",
            "    \u001b[1;36m35\u001b[0m         \u001b[1;36m1\u001b[0m          \u001b[1;36m0.6\u001b[0m      \u001b[1;36m0.6\u001b[0m      \u001b[1;36m0.0\u001b[0m  \u001b[97;49m  \u001b[0m\u001b[97;49mN\u001b[0m\u001b[97;49m \u001b[0m\u001b[91;49m=\u001b[0m\u001b[97;49m \u001b[0m\u001b[97;49msize\u001b[0m                                         \n",
            "    \u001b[1;36m36\u001b[0m         \u001b[1;36m1\u001b[0m          \u001b[1;36m4.7\u001b[0m      \u001b[1;36m4.7\u001b[0m      \u001b[1;36m0.0\u001b[0m  \u001b[97;49m  \u001b[0m\u001b[97;49mstart_time\u001b[0m\u001b[97;49m \u001b[0m\u001b[91;49m=\u001b[0m\u001b[97;49m \u001b[0m\u001b[97;49mtime\u001b[0m\u001b[91;49m.\u001b[0m\u001b[97;49mtime\u001b[0m\u001b[97;49m(\u001b[0m\u001b[97;49m)\u001b[0m                         \n",
            "    \u001b[1;36m37\u001b[0m       \u001b[1;36m201\u001b[0m         \u001b[1;36m50.8\u001b[0m      \u001b[1;36m0.3\u001b[0m      \u001b[1;36m0.0\u001b[0m  \u001b[97;49m  \u001b[0m\u001b[96;49mfor\u001b[0m\u001b[97;49m \u001b[0m\u001b[97;49mi\u001b[0m\u001b[97;49m \u001b[0m\u001b[91;49min\u001b[0m\u001b[97;49m \u001b[0m\u001b[97;49mrange\u001b[0m\u001b[97;49m(\u001b[0m\u001b[97;49mN\u001b[0m\u001b[97;49m)\u001b[0m\u001b[97;49m:\u001b[0m                               \n",
            "    \u001b[1;36m38\u001b[0m     \u001b[1;36m40200\u001b[0m      \u001b[1;36m10434.1\u001b[0m      \u001b[1;36m0.3\u001b[0m      \u001b[1;36m0.1\u001b[0m  \u001b[97;49m    \u001b[0m\u001b[96;49mfor\u001b[0m\u001b[97;49m \u001b[0m\u001b[97;49mj\u001b[0m\u001b[97;49m \u001b[0m\u001b[91;49min\u001b[0m\u001b[97;49m \u001b[0m\u001b[97;49mrange\u001b[0m\u001b[97;49m(\u001b[0m\u001b[97;49mN\u001b[0m\u001b[97;49m)\u001b[0m\u001b[97;49m:\u001b[0m                             \n",
            "    \u001b[1;36m39\u001b[0m   \u001b[1;36m8040000\u001b[0m    \u001b[1;36m1958547.7\u001b[0m      \u001b[1;36m0.2\u001b[0m     \u001b[1;36m24.0\u001b[0m  \u001b[97;49m      \u001b[0m\u001b[96;49mfor\u001b[0m\u001b[97;49m \u001b[0m\u001b[97;49mk\u001b[0m\u001b[97;49m \u001b[0m\u001b[91;49min\u001b[0m\u001b[97;49m \u001b[0m\u001b[97;49mrange\u001b[0m\u001b[97;49m(\u001b[0m\u001b[97;49mN\u001b[0m\u001b[97;49m)\u001b[0m\u001b[97;49m:\u001b[0m                           \n",
            "    \u001b[1;36m40\u001b[0m   \u001b[1;36m8000000\u001b[0m    \u001b[1;36m6181766.1\u001b[0m      \u001b[1;36m0.8\u001b[0m     \u001b[1;36m75.6\u001b[0m  \u001b[97;49m        \u001b[0m\u001b[97;49mC\u001b[0m\u001b[97;49m[\u001b[0m\u001b[97;49mi\u001b[0m\u001b[97;49m]\u001b[0m\u001b[97;49m[\u001b[0m\u001b[97;49mj\u001b[0m\u001b[97;49m]\u001b[0m\u001b[97;49m \u001b[0m\u001b[91;49m+\u001b[0m\u001b[91;49m=\u001b[0m\u001b[97;49m \u001b[0m\u001b[97;49mA\u001b[0m\u001b[97;49m[\u001b[0m\u001b[97;49mi\u001b[0m\u001b[97;49m]\u001b[0m\u001b[97;49m[\u001b[0m\u001b[97;49mk\u001b[0m\u001b[97;49m]\u001b[0m\u001b[91;49m*\u001b[0m\u001b[97;49mB\u001b[0m\u001b[97;49m[\u001b[0m\u001b[97;49mk\u001b[0m\u001b[97;49m]\u001b[0m\u001b[97;49m[\u001b[0m\u001b[97;49mj\u001b[0m\u001b[97;49m]\u001b[0m                 \n",
            "    \u001b[1;36m41\u001b[0m                                                                                              \n",
            "    \u001b[1;36m42\u001b[0m         \u001b[1;36m1\u001b[0m          \u001b[1;36m5.0\u001b[0m      \u001b[1;36m5.0\u001b[0m      \u001b[1;36m0.0\u001b[0m  \u001b[97;49m  \u001b[0m\u001b[97;49mend_time\u001b[0m\u001b[97;49m \u001b[0m\u001b[91;49m=\u001b[0m\u001b[97;49m \u001b[0m\u001b[97;49mtime\u001b[0m\u001b[91;49m.\u001b[0m\u001b[97;49mtime\u001b[0m\u001b[97;49m(\u001b[0m\u001b[97;49m)\u001b[0m                           \n",
            "    \u001b[1;36m43\u001b[0m         \u001b[1;36m1\u001b[0m          \u001b[1;36m1.1\u001b[0m      \u001b[1;36m1.1\u001b[0m      \u001b[1;36m0.0\u001b[0m  \u001b[97;49m  \u001b[0m\u001b[97;49melapsed_time\u001b[0m\u001b[97;49m \u001b[0m\u001b[91;49m=\u001b[0m\u001b[97;49m \u001b[0m\u001b[97;49mend_time\u001b[0m\u001b[97;49m \u001b[0m\u001b[91;49m-\u001b[0m\u001b[97;49m \u001b[0m\u001b[97;49mstart_time\u001b[0m             \n",
            "    \u001b[1;36m44\u001b[0m         \u001b[1;36m1\u001b[0m         \u001b[1;36m77.7\u001b[0m     \u001b[1;36m77.7\u001b[0m      \u001b[1;36m0.0\u001b[0m  \u001b[97;49m  \u001b[0m\u001b[97;49mprint\u001b[0m\u001b[97;49m(\u001b[0m\u001b[93;49m\"\u001b[0m\u001b[93;49mTime required to carry out the computatio…\u001b[0m\n",
            "\n",
            "\n",
            "  8.18 seconds - matrix_multiplication.py:24 - matrix_multiplication\n"
          ]
        }
      ]
    }
  ]
}