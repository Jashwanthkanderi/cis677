{
  "nbformat": 4,
  "nbformat_minor": 0,
  "metadata": {
    "colab": {
      "provenance": [],
      "gpuType": "V28",
      "authorship_tag": "ABX9TyMFMcJP3tZie22Eooi1FeAr",
      "include_colab_link": true
    },
    "kernelspec": {
      "name": "python3",
      "display_name": "Python 3"
    },
    "language_info": {
      "name": "python"
    },
    "accelerator": "TPU"
  },
  "cells": [
    {
      "cell_type": "markdown",
      "metadata": {
        "id": "view-in-github",
        "colab_type": "text"
      },
      "source": [
        "<a href=\"https://colab.research.google.com/github/trefftzc/cis677/blob/main/Timing_matrix_mult_tpu.ipynb\" target=\"_parent\"><img src=\"https://colab.research.google.com/assets/colab-badge.svg\" alt=\"Open In Colab\"/></a>"
      ]
    },
    {
      "cell_type": "markdown",
      "source": [
        "## COLAB offers the possibility of using a TPU\n",
        "Google has developed a specialized chip for deep neural networks called TPU (Tensor Processing Unit).\n",
        "TPUs specialize in performing matrix multiplications.\n",
        "TPUs can be used with a library called JAX.\n",
        "As with cupy from CUDA, JAX provides implementations of a subset of the functions available on numpy.\n",
        "\n",
        "To use a TPU, select the TPU option under Runtime.\n",
        "So, select Runtime, then select\n",
        " Change runtime type\n",
        "and choose the TPU option."
      ],
      "metadata": {
        "id": "oPc3cVHJAOo9"
      }
    },
    {
      "cell_type": "code",
      "execution_count": null,
      "metadata": {
        "colab": {
          "base_uri": "https://localhost:8080/"
        },
        "id": "P7SQda-r_Ab6",
        "outputId": "acd483f8-b8da-4cff-b536-a63ca58b81fc"
      },
      "outputs": [
        {
          "output_type": "stream",
          "name": "stdout",
          "text": [
            "Writing multiply_matrices.py\n"
          ]
        }
      ],
      "source": [
        "%%writefile multiply_matrices.py\n",
        "import sys\n",
        "import jax.numpy as np\n",
        "import time\n",
        "n = int(sys.argv[1])\n",
        "print(\"Matrix size: \",n)\n",
        "# Generate the first matrix\n",
        "a = np.arange(n*n).reshape((n,n))\n",
        "b = np.eye(n)\n",
        "c = np.zeros((n,n))\n",
        "# print(a)\n",
        "# print(b)\n",
        "\n",
        "\n",
        "d = np.zeros((n,n))\n",
        "# Time the matrix multiplication using jax\n",
        "start = time.time()\n",
        "d = np.matmul(a,b)\n",
        "end = time.time()\n",
        "print(\"With jax: \",end-start)\n",
        "# print(d)"
      ]
    },
    {
      "cell_type": "markdown",
      "source": [
        "A short warmup run."
      ],
      "metadata": {
        "id": "J53086oCt8UB"
      }
    },
    {
      "cell_type": "code",
      "source": [
        "!python multiply_matrices.py 10"
      ],
      "metadata": {
        "colab": {
          "base_uri": "https://localhost:8080/"
        },
        "id": "WaP41bA5t7lp",
        "outputId": "a71f9ae8-c3d4-44e9-e801-9dc578c109da"
      },
      "execution_count": null,
      "outputs": [
        {
          "output_type": "stream",
          "name": "stdout",
          "text": [
            "Matrix size:  10\n",
            "With jax:  0.03261590003967285\n"
          ]
        }
      ]
    },
    {
      "cell_type": "code",
      "source": [
        "!python multiply_matrices.py 2000\n",
        "!python multiply_matrices.py 3000\n",
        "!python multiply_matrices.py 4000\n",
        "!python multiply_matrices.py 5000"
      ],
      "metadata": {
        "colab": {
          "base_uri": "https://localhost:8080/"
        },
        "id": "xV2KCi5__b01",
        "outputId": "9cd76959-17ba-44cb-8957-0e0c586aafc5"
      },
      "execution_count": null,
      "outputs": [
        {
          "output_type": "stream",
          "name": "stdout",
          "text": [
            "Matrix size:  2000\n",
            "With jax:  1.324065923690796\n",
            "Matrix size:  3000\n",
            "With jax:  1.6572868824005127\n",
            "Matrix size:  4000\n",
            "With jax:  1.3319823741912842\n",
            "Matrix size:  5000\n",
            "With jax:  2.8107926845550537\n"
          ]
        }
      ]
    }
  ]
}